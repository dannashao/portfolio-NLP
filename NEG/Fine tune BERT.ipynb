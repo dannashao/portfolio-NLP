{
 "cells": [
  {
   "cell_type": "markdown",
   "id": "a1e050a9-503f-4007-ab2e-54d1577e0d16",
   "metadata": {},
   "source": [
    "# Fine-tune a NegBERT for negation scope classification"
   ]
  },
  {
   "cell_type": "code",
   "execution_count": 1,
   "id": "1ccb7c5e-1270-4f88-94fb-56af34169d8c",
   "metadata": {},
   "outputs": [],
   "source": [
    "import transformers\n",
    "import pandas as pd"
   ]
  },
  {
   "cell_type": "code",
   "execution_count": 2,
   "id": "8b4592df-cad7-4f50-a9d2-c381f706b644",
   "metadata": {},
   "outputs": [],
   "source": [
    "task = \"negation_scope\"\n",
    "model_checkpoint = \"bert-base-uncased\" # 'distilbert-base-uncased' for speed.\n",
    "batch_size = 16 # Set batch size for training"
   ]
  },
  {
   "cell_type": "code",
   "execution_count": 3,
   "id": "021782f5-8465-4b27-9153-765236f92b6c",
   "metadata": {},
   "outputs": [],
   "source": [
    "import datasets\n",
    "from datasets import load_dataset\n",
    "dataset = load_dataset(\"dannashao/sem2012forNegbert\")"
   ]
  },
  {
   "cell_type": "markdown",
   "id": "f6c8bf54-c3a5-48c7-8c51-fa641c83baaf",
   "metadata": {},
   "source": [
    "## Preprocess\n",
    "Using the pre-trained AutoTokenizer with the given model to tokenize. Added special marks (-100) to the beginning and ending of sentences.\n",
    "\n",
    "Some functions are adjusted from https://github.com/huggingface/notebooks/blob/main/examples/token_classification.ipynb"
   ]
  },
  {
   "cell_type": "code",
   "execution_count": 4,
   "id": "fec603b7-86c7-4214-94e7-25e5034173e1",
   "metadata": {},
   "outputs": [],
   "source": [
    "from transformers import AutoTokenizer\n",
    "tokenizer = AutoTokenizer.from_pretrained(model_checkpoint)\n",
    "\n",
    "assert isinstance(tokenizer, transformers.PreTrainedTokenizerFast)"
   ]
  },
  {
   "cell_type": "code",
   "execution_count": 5,
   "id": "7486b895-972e-4029-8f2e-6c64896d0066",
   "metadata": {},
   "outputs": [],
   "source": [
    "def tokenize_and_align_labels(examples, label_all_tokens=True):\n",
    "    '''\n",
    "    Tokenize text input with options for truncation and handling pre-split words.\n",
    "    '''\n",
    "    tokenized_inputs = tokenizer(examples[\"tokens\"], truncation=True, is_split_into_words=True)\n",
    "\n",
    "    labels = []\n",
    "    all_word_ids = []\n",
    "    for i, label in enumerate(examples[f\"{task}_tags\"]):\n",
    "        word_ids = tokenized_inputs.word_ids(batch_index=i)\n",
    "        previous_word_idx = None\n",
    "        label_ids = []\n",
    "        for word_idx in word_ids:\n",
    "            if word_idx is None:  # Tokens like [CLS], [SEP] have no word id, label them as -100 (ignored by model).\n",
    "                label_ids.append(-100)\n",
    "            elif word_idx != previous_word_idx: \n",
    "                label_ids.append(label[word_idx])\n",
    "            else:\n",
    "                label_ids.append(label[word_idx] if label_all_tokens else -100)\n",
    "            previous_word_idx = word_idx\n",
    "\n",
    "        labels.append(label_ids)\n",
    "        all_word_ids.append(word_ids)\n",
    "\n",
    "    tokenized_inputs['word_ids'] = all_word_ids\n",
    "    tokenized_inputs[\"labels\"] = labels\n",
    "    return tokenized_inputs"
   ]
  },
  {
   "cell_type": "code",
   "execution_count": 6,
   "id": "822e5975-c598-4b56-a3d8-6a4a300d4ee2",
   "metadata": {},
   "outputs": [
    {
     "data": {
      "application/vnd.jupyter.widget-view+json": {
       "model_id": "cf540b1c954348a9925aede66fd875cd",
       "version_major": 2,
       "version_minor": 0
      },
      "text/plain": [
       "Map:   0%|          | 0/815 [00:00<?, ? examples/s]"
      ]
     },
     "metadata": {},
     "output_type": "display_data"
    }
   ],
   "source": [
    "label_all_tokens = True \n",
    "\n",
    "tokenized_train = dataset['train'].map(tokenize_and_align_labels, batched=True, batch_size=1)\n",
    "tokenized_dev = dataset['dev'].map(tokenize_and_align_labels, batched=True)\n",
    "tokenized_test = dataset['test'].map(tokenize_and_align_labels, batched=True)"
   ]
  },
  {
   "cell_type": "code",
   "execution_count": 7,
   "id": "14e83c5d-09d8-48c4-af9c-c8e3f64ab701",
   "metadata": {},
   "outputs": [],
   "source": [
    "# Filter out task-specific tags from tokenized datasets for training and development.\n",
    "tokenized_train = [{k: v for k, v in x.items() if k != f'{task}_tags'} for x in tokenized_train]\n",
    "tokenized_dev = [{k: v for k, v in x.items() if k != f'{task}_tags'} for x in tokenized_dev]"
   ]
  },
  {
   "cell_type": "markdown",
   "id": "fa209b98-a2de-40a6-b669-c4bf5e3d8a12",
   "metadata": {},
   "source": [
    "## Load model and metric"
   ]
  },
  {
   "cell_type": "code",
   "execution_count": null,
   "id": "1ef260ca-b9c0-4f72-a3cf-8610a0980205",
   "metadata": {},
   "outputs": [],
   "source": [
    "from transformers import AutoModelForTokenClassification, TrainingArguments, Trainer"
   ]
  },
  {
   "cell_type": "code",
   "execution_count": 9,
   "id": "1dcc7543-ca72-44b6-986f-f5324ab201b4",
   "metadata": {},
   "outputs": [
    {
     "name": "stderr",
     "output_type": "stream",
     "text": [
      "Some weights of BertForTokenClassification were not initialized from the model checkpoint at bert-base-uncased and are newly initialized: ['classifier.bias', 'classifier.weight']\n",
      "You should probably TRAIN this model on a down-stream task to be able to use it for predictions and inference.\n"
     ]
    }
   ],
   "source": [
    "model = AutoModelForTokenClassification.from_pretrained(model_checkpoint, num_labels=2) # 2 labels are True/False for in negation scope. due to the conversion above they are 0/1."
   ]
  },
  {
   "cell_type": "code",
   "execution_count": 10,
   "id": "b607933b-5c06-4cdb-acb6-04a4397b7ca1",
   "metadata": {},
   "outputs": [],
   "source": [
    "model_name = model_checkpoint.split(\"/\")[-1]\n",
    "\n",
    "# Set up training arguments for fine-tuning the model.\n",
    "args = TrainingArguments(\n",
    "    f\"{model_name}-finetuned-{task}\",\n",
    "    evaluation_strategy=\"epoch\",\n",
    "    learning_rate=2e-5,\n",
    "    per_device_train_batch_size=batch_size,\n",
    "    per_device_eval_batch_size=batch_size,\n",
    "    num_train_epochs=3,\n",
    "    weight_decay=0.01,\n",
    "    push_to_hub=False,\n",
    ")"
   ]
  },
  {
   "cell_type": "code",
   "execution_count": 11,
   "id": "8f17f49b-bf7e-44b8-adb9-3e3809d11aa9",
   "metadata": {},
   "outputs": [],
   "source": [
    "from transformers import DataCollatorForTokenClassification\n",
    "data_collator = DataCollatorForTokenClassification(tokenizer)"
   ]
  },
  {
   "cell_type": "markdown",
   "id": "f8abe18c-1b3a-46fd-aa35-b3f687ea052a",
   "metadata": {},
   "source": [
    "For evaluation, we use a self-defined span metric that measures span agreements"
   ]
  },
  {
   "cell_type": "code",
   "execution_count": 12,
   "id": "74c7a6ad-b811-4d68-9e70-e249d152e677",
   "metadata": {},
   "outputs": [],
   "source": [
    "import evaluate\n",
    "metric = evaluate.load(\"dannashao/span_metric\", module_type=\"metric\")"
   ]
  },
  {
   "cell_type": "code",
   "execution_count": 13,
   "id": "3ba6f3ef-d46a-4135-a3c2-c9d0c4b9052f",
   "metadata": {},
   "outputs": [],
   "source": [
    "label_list = [0,1] # IS IN NEGATION SCOPE OR NOT"
   ]
  },
  {
   "cell_type": "markdown",
   "id": "154242c2-ac40-4214-83fc-38ebb65e09ca",
   "metadata": {},
   "source": [
    "## Train and evaluate"
   ]
  },
  {
   "cell_type": "code",
   "execution_count": 14,
   "id": "03433755-7026-4b86-9310-a07a72813f11",
   "metadata": {},
   "outputs": [],
   "source": [
    "import numpy as np"
   ]
  },
  {
   "cell_type": "code",
   "execution_count": 15,
   "id": "3cc9754c-e76a-48ff-99ac-2507bd61c281",
   "metadata": {},
   "outputs": [],
   "source": [
    "def remove_ignored_index(predictions,labels):\n",
    "    '''\n",
    "    Remove the labels with -100\n",
    "    '''\n",
    "    actual_predictions = [\n",
    "        [label_list[p] for (p, l) in zip(prediction, label) if l != -100]\n",
    "        for prediction, label in zip(predictions, labels)\n",
    "    ]\n",
    "    actual_labels = [\n",
    "        [label_list[l] for (p, l) in zip(prediction, label) if l != -100]\n",
    "        for prediction, label in zip(predictions, labels)\n",
    "    ]\n",
    "    return actual_predictions, actual_labels"
   ]
  },
  {
   "cell_type": "code",
   "execution_count": 16,
   "id": "38cb983c-836c-4ad0-a615-624dd2a2f2e7",
   "metadata": {},
   "outputs": [],
   "source": [
    "def compute_metrics(p):\n",
    "    predictions, labels = p\n",
    "    predictions = np.argmax(predictions, axis=2) # Most possible label\n",
    "\n",
    "    # Remove ignored index (special tokens)\n",
    "    actual_predictions, actual_labels = remove_ignored_index(predictions,labels)\n",
    "    \n",
    "    results = metric.compute(predictions=actual_predictions, references=actual_labels)\n",
    "    return {\n",
    "        #\"accuracy\": results[\"overall_accuracy\"],\n",
    "        \"token_precision\":results[\"token_precision\"], \"token_recall\":results[\"token_recall\"], \"token_f1\":results[\"token_f1\"],\n",
    "        \"span_precision\":results[\"span_precision\"], \"span_recall\":results[\"span_recall\"], \"span_f1\":results[\"span_f1\"]\n",
    "    }"
   ]
  },
  {
   "cell_type": "code",
   "execution_count": 17,
   "id": "924fa8bd-a38d-423d-9990-0ecb00ad0486",
   "metadata": {},
   "outputs": [],
   "source": [
    "trainer = Trainer(\n",
    "    model=model,\n",
    "    args=args,\n",
    "    train_dataset=tokenized_train,\n",
    "    eval_dataset=tokenized_dev,\n",
    "    data_collator=data_collator,\n",
    "    tokenizer=tokenizer,\n",
    "    compute_metrics=compute_metrics\n",
    ")"
   ]
  },
  {
   "cell_type": "code",
   "execution_count": 18,
   "id": "63f5458a-7df7-4287-a885-d4edcec72081",
   "metadata": {},
   "outputs": [
    {
     "data": {
      "text/html": [
       "\n",
       "    <div>\n",
       "      \n",
       "      <progress value='711' max='711' style='width:300px; height:20px; vertical-align: middle;'></progress>\n",
       "      [711/711 00:27, Epoch 3/3]\n",
       "    </div>\n",
       "    <table border=\"1\" class=\"dataframe\">\n",
       "  <thead>\n",
       " <tr style=\"text-align: left;\">\n",
       "      <th>Epoch</th>\n",
       "      <th>Training Loss</th>\n",
       "      <th>Validation Loss</th>\n",
       "      <th>Token Precision</th>\n",
       "      <th>Token Recall</th>\n",
       "      <th>Token F1</th>\n",
       "      <th>Span Precision</th>\n",
       "      <th>Span Recall</th>\n",
       "      <th>Span F1</th>\n",
       "    </tr>\n",
       "  </thead>\n",
       "  <tbody>\n",
       "    <tr>\n",
       "      <td>1</td>\n",
       "      <td>No log</td>\n",
       "      <td>0.062407</td>\n",
       "      <td>0.912065</td>\n",
       "      <td>0.836773</td>\n",
       "      <td>0.872798</td>\n",
       "      <td>0.520710</td>\n",
       "      <td>0.520710</td>\n",
       "      <td>0.520710</td>\n",
       "    </tr>\n",
       "    <tr>\n",
       "      <td>2</td>\n",
       "      <td>No log</td>\n",
       "      <td>0.068152</td>\n",
       "      <td>0.936575</td>\n",
       "      <td>0.831144</td>\n",
       "      <td>0.880716</td>\n",
       "      <td>0.601190</td>\n",
       "      <td>0.601190</td>\n",
       "      <td>0.601190</td>\n",
       "    </tr>\n",
       "    <tr>\n",
       "      <td>3</td>\n",
       "      <td>0.072200</td>\n",
       "      <td>0.061791</td>\n",
       "      <td>0.918989</td>\n",
       "      <td>0.886804</td>\n",
       "      <td>0.902610</td>\n",
       "      <td>0.625000</td>\n",
       "      <td>0.625000</td>\n",
       "      <td>0.625000</td>\n",
       "    </tr>\n",
       "  </tbody>\n",
       "</table><p>"
      ],
      "text/plain": [
       "<IPython.core.display.HTML object>"
      ]
     },
     "metadata": {},
     "output_type": "display_data"
    },
    {
     "data": {
      "text/plain": [
       "TrainOutput(global_step=711, training_loss=0.055278591633513674, metrics={'train_runtime': 28.1824, 'train_samples_per_second': 402.272, 'train_steps_per_second': 25.229, 'total_flos': 295237776469368.0, 'train_loss': 0.055278591633513674, 'epoch': 3.0})"
      ]
     },
     "execution_count": 18,
     "metadata": {},
     "output_type": "execute_result"
    }
   ],
   "source": [
    "trainer.train()"
   ]
  },
  {
   "cell_type": "markdown",
   "id": "6c42ebd2-10a1-46b7-8e75-8aad49071e62",
   "metadata": {},
   "source": [
    "### Predict"
   ]
  },
  {
   "cell_type": "code",
   "execution_count": 19,
   "id": "2987df9d-d88f-4331-8f68-390d63f4e55e",
   "metadata": {},
   "outputs": [
    {
     "data": {
      "text/html": [],
      "text/plain": [
       "<IPython.core.display.HTML object>"
      ]
     },
     "metadata": {},
     "output_type": "display_data"
    }
   ],
   "source": [
    "predictions, labels, _ = trainer.predict(tokenized_test)\n",
    "\n",
    "# Convert raw predictions (logits) to predicted label indices by selecting the maximum logit for each token.\n",
    "predictions = np.argmax(predictions, axis=2)"
   ]
  },
  {
   "cell_type": "markdown",
   "id": "1d78603f-6b1b-4591-8667-59b53b613113",
   "metadata": {},
   "source": [
    "Note that we need to detokenize to align the predictions back with labels:"
   ]
  },
  {
   "cell_type": "code",
   "execution_count": 20,
   "id": "716ef7d6-2bef-464b-a498-63f48781d9b2",
   "metadata": {},
   "outputs": [],
   "source": [
    "def detokenize(predictions, tokenized_test):\n",
    "    actual_predictions, actual_labels = [], []\n",
    "    for p, t in zip(predictions, tokenized_test):\n",
    "        preds, trues, pred, word_idx = [],[],[],0\n",
    "        for i, (token_pred, id) in enumerate(zip(p, t['word_ids'])):\n",
    "            if id is None:\n",
    "                continue\n",
    "            if id != word_idx:\n",
    "                # If any predication of the subtokens is True, the prediction is set to True.\n",
    "                preds.append(int(any(pred)))\n",
    "                pred = [token_pred]\n",
    "                trues.append(t['negation_scope_tags'][word_idx])\n",
    "                word_idx = id\n",
    "            else:\n",
    "                pred.append(token_pred)\n",
    "\n",
    "        #print(len(trues), len(preds))\n",
    "        actual_labels.append(trues)\n",
    "        actual_predictions.append(preds)\n",
    "        \n",
    "    return actual_labels, actual_predictions"
   ]
  },
  {
   "cell_type": "code",
   "execution_count": 21,
   "id": "af14159c-5f5c-4a65-9d30-e4130588fcd4",
   "metadata": {},
   "outputs": [
    {
     "data": {
      "text/plain": [
       "{'token_precision': 0.9458041958041958,\n",
       " 'token_recall': 0.8888280394304491,\n",
       " 'token_f1': 0.9164313946922643,\n",
       " 'span_precision': 0.6852589641434262,\n",
       " 'span_recall': 0.6852589641434262,\n",
       " 'span_f1': 0.6852589641434262}"
      ]
     },
     "execution_count": 21,
     "metadata": {},
     "output_type": "execute_result"
    }
   ],
   "source": [
    "# Detokenize to align predictions with actual labels.\n",
    "actual_labels, actual_predictions = detokenize(predictions, tokenized_test)\n",
    "\n",
    "# Compute evaluation metrics using the detokenized predictions and labels.\n",
    "results = metric.compute(predictions=actual_predictions, references=actual_labels)\n",
    "results"
   ]
  },
  {
   "cell_type": "code",
   "execution_count": 22,
   "id": "ff51f1f6-f1f4-4488-a264-d32b9968142d",
   "metadata": {},
   "outputs": [],
   "source": [
    "result_df = pd.DataFrame(columns=['Sentence', 'Labels', 'Prediction'])\n",
    "\n",
    "for p, t, ds in zip(actual_predictions, actual_labels, dataset['test']):\n",
    "    # Check if the prediction does not match the true label.\n",
    "    if p != t:\n",
    "        # Add the entry to the DataFrame: original sentence, true label, and predicted label.\n",
    "        result_df.loc[len(result_df)] = [' '.join(ds['tokens']), t, p]"
   ]
  },
  {
   "cell_type": "markdown",
   "id": "e850e48c-b5f7-402c-8e05-1b17ceae7c1b",
   "metadata": {},
   "source": [
    "## Error Analysis\n",
    "A nice visulization for error analysis"
   ]
  },
  {
   "cell_type": "code",
   "execution_count": 23,
   "id": "cdc17ce5-dab8-489e-bec1-98c29edde7af",
   "metadata": {},
   "outputs": [],
   "source": [
    "from termcolor import colored, cprint"
   ]
  },
  {
   "cell_type": "markdown",
   "id": "4b2b2bf8-f8e5-42f2-8580-a9c046742fdd",
   "metadata": {},
   "source": [
    "We will need the original test data that was not detokenized to print colors"
   ]
  },
  {
   "cell_type": "code",
   "execution_count": 24,
   "id": "a89bf991-f488-484e-96d1-916374a70f38",
   "metadata": {},
   "outputs": [],
   "source": [
    "old_test = datasets.load_from_disk('old_test')\n",
    "\n",
    "result_df = pd.DataFrame(columns=['Sentence_retokenized', 'Labels', 'Prediction', 'Sentence', 'Cue'])\n",
    "for p, t, ds, ds2 in zip(actual_predictions, actual_labels, dataset['test'], old_test):\n",
    "    if p != t:\n",
    "        result_df.loc[len(result_df)] = [ds['tokens'], t, p, \n",
    "                                         ds2['tokens'], ds2['is_neg']] # For finding the negation cue"
   ]
  },
  {
   "cell_type": "code",
   "execution_count": 25,
   "id": "6c44c261-4803-416a-8e54-1f7767ab4359",
   "metadata": {},
   "outputs": [],
   "source": [
    "def color_sentences(df):\n",
    "    '''\n",
    "    Color the mispredicted sentences.\n",
    "    The negation cue cannot be directly obtained due to the re-tokenization and thus is provided by the context.\n",
    "    '''\n",
    "    print(\"Labels:\")\n",
    "    cprint(\"The Cue\", \"black\", end=\" \",attrs=[\"underline\",\"reverse\"])\n",
    "    cprint(\"True Scope\", \"black\", \"on_green\", end=\" \")\n",
    "    cprint(\"Correct Prediction\", \"black\", \"on_yellow\", end=\" \")\n",
    "    cprint(\"False Positive\", \"black\", \"on_red\", end=\" \",attrs=[\"blink\"])\n",
    "    cprint(\"False Negative\", \"white\", \"on_light_red\", end=\" \",attrs=[\"blink\"])\n",
    "    print(\"\\nNegation cue is the middle word of Cue context.\")\n",
    "    print(\"\\n\\n\")\n",
    "    \n",
    "    for row in range(len(df)):\n",
    "        print(row)\n",
    "        \n",
    "        # Coloring the negation cue and print the context\n",
    "        c = df['Cue'][row]\n",
    "        so = df['Sentence'][row]\n",
    "        cue_phrase, cue_len, ending = '', 0, 0\n",
    "        for i in range(len(c)): \n",
    "            if c[i] == True:\n",
    "                cue_phrase = cue_phrase + so[i] + ' '\n",
    "                cue_len +=1\n",
    "                ending = i\n",
    "        print(\"Cue context: ...\", so[ending-(cue_len)], end=\" \")\n",
    "        cprint(cue_phrase[:-1], \"black\", end=\" \",attrs=[\"underline\",\"reverse\"])\n",
    "        print(so[ending+1], \"...\")\n",
    "        \n",
    "        # Coloring the scope\n",
    "        s = df['Sentence_retokenized'][row]\n",
    "        t = df['Labels'][row]\n",
    "        p = df['Prediction'][row]\n",
    "        for i in range(len(s)-2): \n",
    "            if (t[i] == False):\n",
    "                cprint(s[i+1], \"black\", \"on_green\", end=\" \")\n",
    "            if (t[i] == True):\n",
    "                cprint(s[i+1], \"black\", end=\" \")\n",
    "        print()\n",
    "        for i in range(len(s)-2):\n",
    "            if (p[i] == False) & (p[i]==t[i]):\n",
    "                cprint(s[i+1], \"black\", \"on_yellow\", end=\" \")\n",
    "            if (p[i] == True) & (p[i]==t[i]):\n",
    "                cprint(s[i+1], \"black\", end=\" \")\n",
    "            if (p[i] == False) & (p[i] != t[i]):\n",
    "                cprint(s[i+1], \"black\", \"on_red\", end=\" \",attrs=[\"blink\"])\n",
    "            if (p[i] == True) & (p[i] != t[i]):\n",
    "                cprint(s[i+1], \"white\", \"on_light_red\", end=\" \",attrs=[\"blink\"])\n",
    "        print(\"\\n\")"
   ]
  },
  {
   "cell_type": "code",
   "execution_count": 26,
   "id": "b7bbd134-bf7f-480d-aba3-4093e23904fc",
   "metadata": {
    "scrolled": true
   },
   "outputs": [
    {
     "name": "stdout",
     "output_type": "stream",
     "text": [
      "Labels:\n",
      "\u001b[7m\u001b[4m\u001b[30mThe Cue\u001b[0m \u001b[42m\u001b[30mTrue Scope\u001b[0m \u001b[43m\u001b[30mCorrect Prediction\u001b[0m \u001b[5m\u001b[41m\u001b[30mFalse Positive\u001b[0m \u001b[5m\u001b[101m\u001b[97mFalse Negative\u001b[0m \n",
      "Negation cue is the middle word of Cue context.\n",
      "\n",
      "\n",
      "\n",
      "0\n",
      "Cue context: ... , \u001b[7m\u001b[4m\u001b[30mnor\u001b[0m do ...\n",
      "\u001b[42m\u001b[30mWell\u001b[0m \u001b[42m\u001b[30m,\u001b[0m \u001b[42m\u001b[30mMrs.\u001b[0m \u001b[42m\u001b[30mWarren\u001b[0m \u001b[42m\u001b[30m,\u001b[0m \u001b[42m\u001b[30mI\u001b[0m \u001b[42m\u001b[30mcan\u001b[0m \u001b[42m\u001b[30mnot\u001b[0m \u001b[42m\u001b[30msee\u001b[0m \u001b[42m\u001b[30mthat\u001b[0m \u001b[42m\u001b[30myou\u001b[0m \u001b[42m\u001b[30mhave\u001b[0m \u001b[42m\u001b[30many\u001b[0m \u001b[42m\u001b[30mparticular\u001b[0m \u001b[42m\u001b[30mcause\u001b[0m \u001b[42m\u001b[30mfor\u001b[0m \u001b[42m\u001b[30muneasiness\u001b[0m \u001b[42m\u001b[30m,\u001b[0m \u001b[42m\u001b[30m[NEG] nor\u001b[0m \u001b[42m\u001b[30mdo\u001b[0m \u001b[30mI\u001b[0m \u001b[30munderstand\u001b[0m \u001b[30mwhy\u001b[0m \u001b[30mI\u001b[0m \u001b[30m,\u001b[0m \u001b[30mwhose\u001b[0m \u001b[30mtime\u001b[0m \u001b[30mis\u001b[0m \u001b[30mof\u001b[0m \u001b[30msome\u001b[0m \u001b[30mvalue\u001b[0m \u001b[30m,\u001b[0m \u001b[30mshould\u001b[0m \u001b[30minterfere\u001b[0m \u001b[30min\u001b[0m \u001b[30mthe\u001b[0m \u001b[30mmatter\u001b[0m \n",
      "\u001b[43m\u001b[30mWell\u001b[0m \u001b[43m\u001b[30m,\u001b[0m \u001b[43m\u001b[30mMrs.\u001b[0m \u001b[43m\u001b[30mWarren\u001b[0m \u001b[43m\u001b[30m,\u001b[0m \u001b[43m\u001b[30mI\u001b[0m \u001b[43m\u001b[30mcan\u001b[0m \u001b[43m\u001b[30mnot\u001b[0m \u001b[43m\u001b[30msee\u001b[0m \u001b[43m\u001b[30mthat\u001b[0m \u001b[43m\u001b[30myou\u001b[0m \u001b[43m\u001b[30mhave\u001b[0m \u001b[43m\u001b[30many\u001b[0m \u001b[43m\u001b[30mparticular\u001b[0m \u001b[43m\u001b[30mcause\u001b[0m \u001b[43m\u001b[30mfor\u001b[0m \u001b[43m\u001b[30muneasiness\u001b[0m \u001b[43m\u001b[30m,\u001b[0m \u001b[43m\u001b[30m[NEG] nor\u001b[0m \u001b[43m\u001b[30mdo\u001b[0m \u001b[30mI\u001b[0m \u001b[30munderstand\u001b[0m \u001b[30mwhy\u001b[0m \u001b[30mI\u001b[0m \u001b[30m,\u001b[0m \u001b[30mwhose\u001b[0m \u001b[30mtime\u001b[0m \u001b[30mis\u001b[0m \u001b[30mof\u001b[0m \u001b[30msome\u001b[0m \u001b[30mvalue\u001b[0m \u001b[30m,\u001b[0m \u001b[5m\u001b[41m\u001b[30mshould\u001b[0m \u001b[30minterfere\u001b[0m \u001b[30min\u001b[0m \u001b[30mthe\u001b[0m \u001b[30mmatter\u001b[0m \n",
      "\n",
      "1\n",
      "Cue context: ... for \u001b[7m\u001b[4m\u001b[30muneasiness\u001b[0m , ...\n",
      "\u001b[42m\u001b[30mWell\u001b[0m \u001b[42m\u001b[30m,\u001b[0m \u001b[42m\u001b[30mMrs.\u001b[0m \u001b[42m\u001b[30mWarren\u001b[0m \u001b[42m\u001b[30m,\u001b[0m \u001b[42m\u001b[30mI\u001b[0m \u001b[42m\u001b[30mcan\u001b[0m \u001b[42m\u001b[30mnot\u001b[0m \u001b[42m\u001b[30msee\u001b[0m \u001b[42m\u001b[30mthat\u001b[0m \u001b[42m\u001b[30myou\u001b[0m \u001b[42m\u001b[30mhave\u001b[0m \u001b[42m\u001b[30many\u001b[0m \u001b[42m\u001b[30mparticular\u001b[0m \u001b[42m\u001b[30mcause\u001b[0m \u001b[42m\u001b[30mfor\u001b[0m \u001b[42m\u001b[30m[NEG] uneasiness\u001b[0m \u001b[30m,\u001b[0m \u001b[42m\u001b[30mnor\u001b[0m \u001b[42m\u001b[30mdo\u001b[0m \u001b[42m\u001b[30mI\u001b[0m \u001b[42m\u001b[30munderstand\u001b[0m \u001b[42m\u001b[30mwhy\u001b[0m \u001b[42m\u001b[30mI\u001b[0m \u001b[42m\u001b[30m,\u001b[0m \u001b[42m\u001b[30mwhose\u001b[0m \u001b[42m\u001b[30mtime\u001b[0m \u001b[42m\u001b[30mis\u001b[0m \u001b[42m\u001b[30mof\u001b[0m \u001b[42m\u001b[30msome\u001b[0m \u001b[42m\u001b[30mvalue\u001b[0m \u001b[42m\u001b[30m,\u001b[0m \u001b[42m\u001b[30mshould\u001b[0m \u001b[42m\u001b[30minterfere\u001b[0m \u001b[42m\u001b[30min\u001b[0m \u001b[42m\u001b[30mthe\u001b[0m \u001b[42m\u001b[30mmatter\u001b[0m \n",
      "\u001b[43m\u001b[30mWell\u001b[0m \u001b[43m\u001b[30m,\u001b[0m \u001b[43m\u001b[30mMrs.\u001b[0m \u001b[43m\u001b[30mWarren\u001b[0m \u001b[43m\u001b[30m,\u001b[0m \u001b[43m\u001b[30mI\u001b[0m \u001b[43m\u001b[30mcan\u001b[0m \u001b[43m\u001b[30mnot\u001b[0m \u001b[43m\u001b[30msee\u001b[0m \u001b[43m\u001b[30mthat\u001b[0m \u001b[43m\u001b[30myou\u001b[0m \u001b[43m\u001b[30mhave\u001b[0m \u001b[43m\u001b[30many\u001b[0m \u001b[43m\u001b[30mparticular\u001b[0m \u001b[43m\u001b[30mcause\u001b[0m \u001b[43m\u001b[30mfor\u001b[0m \u001b[5m\u001b[101m\u001b[97m[NEG] uneasiness\u001b[0m \u001b[30m,\u001b[0m \u001b[43m\u001b[30mnor\u001b[0m \u001b[43m\u001b[30mdo\u001b[0m \u001b[43m\u001b[30mI\u001b[0m \u001b[43m\u001b[30munderstand\u001b[0m \u001b[43m\u001b[30mwhy\u001b[0m \u001b[43m\u001b[30mI\u001b[0m \u001b[43m\u001b[30m,\u001b[0m \u001b[43m\u001b[30mwhose\u001b[0m \u001b[43m\u001b[30mtime\u001b[0m \u001b[43m\u001b[30mis\u001b[0m \u001b[43m\u001b[30mof\u001b[0m \u001b[43m\u001b[30msome\u001b[0m \u001b[43m\u001b[30mvalue\u001b[0m \u001b[43m\u001b[30m,\u001b[0m \u001b[43m\u001b[30mshould\u001b[0m \u001b[43m\u001b[30minterfere\u001b[0m \u001b[43m\u001b[30min\u001b[0m \u001b[43m\u001b[30mthe\u001b[0m \u001b[43m\u001b[30mmatter\u001b[0m \n",
      "\n",
      "2\n",
      "Cue context: ... would \u001b[7m\u001b[4m\u001b[30mnever\u001b[0m cease ...\n",
      "\u001b[42m\u001b[30mBut\u001b[0m \u001b[42m\u001b[30mhe\u001b[0m \u001b[30mwould\u001b[0m \u001b[30m[NEG] never\u001b[0m \u001b[42m\u001b[30mcease\u001b[0m \u001b[30mtalking\u001b[0m \u001b[30mof\u001b[0m \u001b[30mit\u001b[0m \u001b[30m--\u001b[0m \u001b[42m\u001b[30myour\u001b[0m \u001b[42m\u001b[30mkindness\u001b[0m \u001b[42m\u001b[30m,\u001b[0m \u001b[42m\u001b[30msir\u001b[0m \u001b[42m\u001b[30m,\u001b[0m \u001b[42m\u001b[30mand\u001b[0m \u001b[30mthe\u001b[0m \u001b[30mway\u001b[0m \u001b[30min\u001b[0m \u001b[30mwhich\u001b[0m \u001b[30myou\u001b[0m \u001b[30mbrought\u001b[0m \u001b[30mlight\u001b[0m \u001b[30minto\u001b[0m \u001b[30mthe\u001b[0m \u001b[30mdarkness\u001b[0m \n",
      "\u001b[43m\u001b[30mBut\u001b[0m \u001b[43m\u001b[30mhe\u001b[0m \u001b[30mwould\u001b[0m \u001b[30m[NEG] never\u001b[0m \u001b[43m\u001b[30mcease\u001b[0m \u001b[30mtalking\u001b[0m \u001b[30mof\u001b[0m \u001b[30mit\u001b[0m \u001b[30m--\u001b[0m \u001b[43m\u001b[30myour\u001b[0m \u001b[43m\u001b[30mkindness\u001b[0m \u001b[43m\u001b[30m,\u001b[0m \u001b[43m\u001b[30msir\u001b[0m \u001b[43m\u001b[30m,\u001b[0m \u001b[43m\u001b[30mand\u001b[0m \u001b[5m\u001b[41m\u001b[30mthe\u001b[0m \u001b[5m\u001b[41m\u001b[30mway\u001b[0m \u001b[5m\u001b[41m\u001b[30min\u001b[0m \u001b[5m\u001b[41m\u001b[30mwhich\u001b[0m \u001b[5m\u001b[41m\u001b[30myou\u001b[0m \u001b[5m\u001b[41m\u001b[30mbrought\u001b[0m \u001b[5m\u001b[41m\u001b[30mlight\u001b[0m \u001b[5m\u001b[41m\u001b[30minto\u001b[0m \u001b[5m\u001b[41m\u001b[30mthe\u001b[0m \u001b[5m\u001b[41m\u001b[30mdarkness\u001b[0m \n",
      "\n",
      "3\n",
      "Cue context: ... would \u001b[7m\u001b[4m\u001b[30mnot\u001b[0m see ...\n",
      "\u001b[42m\u001b[30m,\u001b[0m \u001b[42m\u001b[30mbless\u001b[0m \u001b[42m\u001b[30myou\u001b[0m \u001b[42m\u001b[30m,\u001b[0m \u001b[42m\u001b[30mMrs.\u001b[0m \u001b[42m\u001b[30mWarren\u001b[0m \u001b[42m\u001b[30m,\u001b[0m \u001b[42m\u001b[30mif\u001b[0m \u001b[30mI\u001b[0m \u001b[30mwere\u001b[0m \u001b[30myour\u001b[0m \u001b[30mlodger\u001b[0m \u001b[30myou\u001b[0m \u001b[30moften\u001b[0m \u001b[30mwould\u001b[0m \u001b[30m[NEG] not\u001b[0m \u001b[42m\u001b[30msee\u001b[0m \u001b[30mme\u001b[0m \u001b[30mfor\u001b[0m \u001b[30mweeks\u001b[0m \u001b[30mon\u001b[0m \u001b[30mend\u001b[0m \u001b[30m.\u001b[0m \n",
      "\u001b[43m\u001b[30m,\u001b[0m \u001b[43m\u001b[30mbless\u001b[0m \u001b[43m\u001b[30myou\u001b[0m \u001b[43m\u001b[30m,\u001b[0m \u001b[43m\u001b[30mMrs.\u001b[0m \u001b[43m\u001b[30mWarren\u001b[0m \u001b[43m\u001b[30m,\u001b[0m \u001b[43m\u001b[30mif\u001b[0m \u001b[30mI\u001b[0m \u001b[5m\u001b[41m\u001b[30mwere\u001b[0m \u001b[5m\u001b[41m\u001b[30myour\u001b[0m \u001b[5m\u001b[41m\u001b[30mlodger\u001b[0m \u001b[5m\u001b[41m\u001b[30myou\u001b[0m \u001b[30moften\u001b[0m \u001b[30mwould\u001b[0m \u001b[30m[NEG] not\u001b[0m \u001b[43m\u001b[30msee\u001b[0m \u001b[30mme\u001b[0m \u001b[30mfor\u001b[0m \u001b[30mweeks\u001b[0m \u001b[30mon\u001b[0m \u001b[30mend\u001b[0m \u001b[30m.\u001b[0m \n",
      "\n",
      "4\n",
      "Cue context: ... If \u001b[7m\u001b[4m\u001b[30mnot\u001b[0m , ...\n",
      "\u001b[42m\u001b[30mIf\u001b[0m \u001b[42m\u001b[30m[NEG] not\u001b[0m \u001b[42m\u001b[30m,\u001b[0m \u001b[42m\u001b[30mI\u001b[0m \u001b[42m\u001b[30m'll\u001b[0m \u001b[42m\u001b[30mhave\u001b[0m \u001b[42m\u001b[30mno\u001b[0m \u001b[42m\u001b[30mmore\u001b[0m \u001b[42m\u001b[30mto\u001b[0m \u001b[42m\u001b[30mdo\u001b[0m \u001b[42m\u001b[30mwith\u001b[0m \u001b[42m\u001b[30myou\u001b[0m \u001b[42m\u001b[30m.\u001b[0m \n",
      "\u001b[43m\u001b[30mIf\u001b[0m \u001b[5m\u001b[101m\u001b[97m[NEG] not\u001b[0m \u001b[43m\u001b[30m,\u001b[0m \u001b[43m\u001b[30mI\u001b[0m \u001b[43m\u001b[30m'll\u001b[0m \u001b[43m\u001b[30mhave\u001b[0m \u001b[43m\u001b[30mno\u001b[0m \u001b[43m\u001b[30mmore\u001b[0m \u001b[43m\u001b[30mto\u001b[0m \u001b[43m\u001b[30mdo\u001b[0m \u001b[43m\u001b[30mwith\u001b[0m \u001b[43m\u001b[30myou\u001b[0m \u001b[43m\u001b[30m.\u001b[0m \n",
      "\n",
      "5\n",
      "Cue context: ... have \u001b[7m\u001b[4m\u001b[30mno more\u001b[0m to ...\n",
      "\u001b[30mIf\u001b[0m \u001b[30mnot\u001b[0m \u001b[30m,\u001b[0m \u001b[30mI\u001b[0m \u001b[30m'll\u001b[0m \u001b[30mhave\u001b[0m \u001b[30m[NEG] no\u001b[0m \u001b[42m\u001b[30m[NEG] more\u001b[0m \u001b[42m\u001b[30mto\u001b[0m \u001b[30mdo\u001b[0m \u001b[30mwith\u001b[0m \u001b[30myou\u001b[0m \u001b[30m.\u001b[0m \n",
      "\u001b[5m\u001b[41m\u001b[30mIf\u001b[0m \u001b[5m\u001b[41m\u001b[30mnot\u001b[0m \u001b[5m\u001b[41m\u001b[30m,\u001b[0m \u001b[5m\u001b[41m\u001b[30mI\u001b[0m \u001b[30m'll\u001b[0m \u001b[30mhave\u001b[0m \u001b[30m[NEG] no\u001b[0m \u001b[43m\u001b[30m[NEG] more\u001b[0m \u001b[5m\u001b[101m\u001b[97mto\u001b[0m \u001b[30mdo\u001b[0m \u001b[30mwith\u001b[0m \u001b[30myou\u001b[0m \u001b[30m.\u001b[0m \n",
      "\n",
      "6\n",
      "Cue context: ... and \u001b[7m\u001b[4m\u001b[30mnever\u001b[0m , ...\n",
      "\u001b[42m\u001b[30m,\u001b[0m \u001b[42m\u001b[30mthat\u001b[0m \u001b[42m\u001b[30mhe\u001b[0m \u001b[30mwas\u001b[0m \u001b[30mto\u001b[0m \u001b[42m\u001b[30mbe\u001b[0m \u001b[42m\u001b[30mleft\u001b[0m \u001b[42m\u001b[30mentirely\u001b[0m \u001b[42m\u001b[30mto\u001b[0m \u001b[42m\u001b[30mhimself\u001b[0m \u001b[42m\u001b[30mand\u001b[0m \u001b[42m\u001b[30m[NEG] never\u001b[0m \u001b[42m\u001b[30m,\u001b[0m \u001b[30mupon\u001b[0m \u001b[30many\u001b[0m \u001b[30mexcuse\u001b[0m \u001b[30m,\u001b[0m \u001b[30mto\u001b[0m \u001b[30mbe\u001b[0m \u001b[30mdisturbed\u001b[0m \u001b[30m.\u001b[0m \n",
      "\u001b[43m\u001b[30m,\u001b[0m \u001b[43m\u001b[30mthat\u001b[0m \u001b[43m\u001b[30mhe\u001b[0m \u001b[30mwas\u001b[0m \u001b[5m\u001b[41m\u001b[30mto\u001b[0m \u001b[43m\u001b[30mbe\u001b[0m \u001b[43m\u001b[30mleft\u001b[0m \u001b[43m\u001b[30mentirely\u001b[0m \u001b[43m\u001b[30mto\u001b[0m \u001b[43m\u001b[30mhimself\u001b[0m \u001b[43m\u001b[30mand\u001b[0m \u001b[43m\u001b[30m[NEG] never\u001b[0m \u001b[43m\u001b[30m,\u001b[0m \u001b[30mupon\u001b[0m \u001b[30many\u001b[0m \u001b[30mexcuse\u001b[0m \u001b[30m,\u001b[0m \u001b[30mto\u001b[0m \u001b[30mbe\u001b[0m \u001b[30mdisturbed\u001b[0m \u001b[30m.\u001b[0m \n",
      "\n",
      "7\n",
      "Cue context: ... nor \u001b[7m\u001b[4m\u001b[30mneither nor nor\u001b[0m the ...\n",
      "\u001b[42m\u001b[30mhas\u001b[0m \u001b[42m\u001b[30mbeen\u001b[0m \u001b[42m\u001b[30mthere\u001b[0m \u001b[42m\u001b[30mfor\u001b[0m \u001b[42m\u001b[30mten\u001b[0m \u001b[42m\u001b[30mdays\u001b[0m \u001b[42m\u001b[30m,\u001b[0m \u001b[42m\u001b[30mand\u001b[0m \u001b[42m\u001b[30m[NEG] neither\u001b[0m \u001b[42m\u001b[30mMr.\u001b[0m \u001b[30mWarren\u001b[0m \u001b[30m,\u001b[0m \u001b[30m[NEG] nor\u001b[0m \u001b[42m\u001b[30mI\u001b[0m \u001b[30m,\u001b[0m \u001b[30m[NEG] nor\u001b[0m \u001b[42m\u001b[30mthe\u001b[0m \u001b[30mgirl\u001b[0m \u001b[30mhas\u001b[0m \u001b[30monce\u001b[0m \u001b[30mset\u001b[0m \u001b[30meyes\u001b[0m \u001b[30mupon\u001b[0m \u001b[30mhim\u001b[0m \n",
      "\u001b[5m\u001b[101m\u001b[97mhas\u001b[0m \u001b[43m\u001b[30mbeen\u001b[0m \u001b[43m\u001b[30mthere\u001b[0m \u001b[43m\u001b[30mfor\u001b[0m \u001b[43m\u001b[30mten\u001b[0m \u001b[43m\u001b[30mdays\u001b[0m \u001b[43m\u001b[30m,\u001b[0m \u001b[43m\u001b[30mand\u001b[0m \u001b[43m\u001b[30m[NEG] neither\u001b[0m \u001b[43m\u001b[30mMr.\u001b[0m \u001b[30mWarren\u001b[0m \u001b[30m,\u001b[0m \u001b[5m\u001b[41m\u001b[30m[NEG] nor\u001b[0m \u001b[43m\u001b[30mI\u001b[0m \u001b[30m,\u001b[0m \u001b[5m\u001b[41m\u001b[30m[NEG] nor\u001b[0m \u001b[43m\u001b[30mthe\u001b[0m \u001b[30mgirl\u001b[0m \u001b[30mhas\u001b[0m \u001b[30monce\u001b[0m \u001b[30mset\u001b[0m \u001b[30meyes\u001b[0m \u001b[30mupon\u001b[0m \u001b[30mhim\u001b[0m \n",
      "\n",
      "8\n",
      "Cue context: ... had \u001b[7m\u001b[4m\u001b[30mnever\u001b[0m once ...\n",
      "\u001b[42m\u001b[30mcan\u001b[0m \u001b[42m\u001b[30mhear\u001b[0m \u001b[42m\u001b[30mthat\u001b[0m \u001b[42m\u001b[30mquick\u001b[0m \u001b[42m\u001b[30mstep\u001b[0m \u001b[42m\u001b[30mof\u001b[0m \u001b[42m\u001b[30mhis\u001b[0m \u001b[42m\u001b[30mpacing\u001b[0m \u001b[42m\u001b[30mup\u001b[0m \u001b[42m\u001b[30mand\u001b[0m \u001b[42m\u001b[30mdown\u001b[0m \u001b[42m\u001b[30m,\u001b[0m \u001b[42m\u001b[30mup\u001b[0m \u001b[42m\u001b[30mand\u001b[0m \u001b[42m\u001b[30mdown\u001b[0m \u001b[42m\u001b[30m,\u001b[0m \u001b[42m\u001b[30mnight\u001b[0m \u001b[42m\u001b[30m,\u001b[0m \u001b[42m\u001b[30mmorning\u001b[0m \u001b[42m\u001b[30m,\u001b[0m \u001b[42m\u001b[30mand\u001b[0m \u001b[42m\u001b[30mnoon\u001b[0m \u001b[42m\u001b[30m;\u001b[0m \u001b[42m\u001b[30mbut\u001b[0m \u001b[42m\u001b[30mexcept\u001b[0m \u001b[30mon\u001b[0m \u001b[30mthat\u001b[0m \u001b[30mfirst\u001b[0m \u001b[30mnight\u001b[0m \u001b[30mhe\u001b[0m \u001b[30mhad\u001b[0m \u001b[30m[NEG] never\u001b[0m \u001b[42m\u001b[30monce\u001b[0m \u001b[30mgone\u001b[0m \u001b[30mout\u001b[0m \u001b[30mof\u001b[0m \u001b[30mthe\u001b[0m \u001b[30mhouse\u001b[0m \u001b[30m.\u001b[0m \n",
      "\u001b[43m\u001b[30mcan\u001b[0m \u001b[43m\u001b[30mhear\u001b[0m \u001b[43m\u001b[30mthat\u001b[0m \u001b[43m\u001b[30mquick\u001b[0m \u001b[43m\u001b[30mstep\u001b[0m \u001b[43m\u001b[30mof\u001b[0m \u001b[43m\u001b[30mhis\u001b[0m \u001b[43m\u001b[30mpacing\u001b[0m \u001b[43m\u001b[30mup\u001b[0m \u001b[43m\u001b[30mand\u001b[0m \u001b[43m\u001b[30mdown\u001b[0m \u001b[43m\u001b[30m,\u001b[0m \u001b[43m\u001b[30mup\u001b[0m \u001b[43m\u001b[30mand\u001b[0m \u001b[43m\u001b[30mdown\u001b[0m \u001b[43m\u001b[30m,\u001b[0m \u001b[43m\u001b[30mnight\u001b[0m \u001b[43m\u001b[30m,\u001b[0m \u001b[43m\u001b[30mmorning\u001b[0m \u001b[43m\u001b[30m,\u001b[0m \u001b[43m\u001b[30mand\u001b[0m \u001b[43m\u001b[30mnoon\u001b[0m \u001b[43m\u001b[30m;\u001b[0m \u001b[43m\u001b[30mbut\u001b[0m \u001b[43m\u001b[30mexcept\u001b[0m \u001b[5m\u001b[41m\u001b[30mon\u001b[0m \u001b[5m\u001b[41m\u001b[30mthat\u001b[0m \u001b[5m\u001b[41m\u001b[30mfirst\u001b[0m \u001b[5m\u001b[41m\u001b[30mnight\u001b[0m \u001b[5m\u001b[41m\u001b[30mhe\u001b[0m \u001b[30mhad\u001b[0m \u001b[30m[NEG] never\u001b[0m \u001b[43m\u001b[30monce\u001b[0m \u001b[30mgone\u001b[0m \u001b[30mout\u001b[0m \u001b[30mof\u001b[0m \u001b[30mthe\u001b[0m \u001b[30mhouse\u001b[0m \u001b[30m.\u001b[0m \n",
      "\n",
      "9\n",
      "Cue context: ... , \u001b[7m\u001b[4m\u001b[30mnothing\u001b[0m more ...\n",
      "\u001b[42m\u001b[30mthe\u001b[0m \u001b[42m\u001b[30mword\u001b[0m \u001b[42m\u001b[30m,\u001b[0m \u001b[42m\u001b[30m[NEG] nothing\u001b[0m \u001b[42m\u001b[30mmore\u001b[0m \n",
      "\u001b[43m\u001b[30mthe\u001b[0m \u001b[5m\u001b[101m\u001b[97mword\u001b[0m \u001b[5m\u001b[101m\u001b[97m,\u001b[0m \u001b[43m\u001b[30m[NEG] nothing\u001b[0m \u001b[43m\u001b[30mmore\u001b[0m \n",
      "\n",
      "10\n",
      "Cue context: ... not \u001b[7m\u001b[4m\u001b[30munusual\u001b[0m pattern ...\n",
      "\u001b[42m\u001b[30mwords\u001b[0m \u001b[42m\u001b[30mare\u001b[0m \u001b[42m\u001b[30mwritten\u001b[0m \u001b[42m\u001b[30mwith\u001b[0m \u001b[42m\u001b[30ma\u001b[0m \u001b[42m\u001b[30mbroad-pointed\u001b[0m \u001b[42m\u001b[30m,\u001b[0m \u001b[42m\u001b[30mviolet-tinted\u001b[0m \u001b[42m\u001b[30mpencil\u001b[0m \u001b[42m\u001b[30mof\u001b[0m \u001b[42m\u001b[30ma\u001b[0m \u001b[30mnot\u001b[0m \u001b[42m\u001b[30m[NEG] unusual\u001b[0m \u001b[30mpattern\u001b[0m \n",
      "\u001b[43m\u001b[30mwords\u001b[0m \u001b[43m\u001b[30mare\u001b[0m \u001b[43m\u001b[30mwritten\u001b[0m \u001b[43m\u001b[30mwith\u001b[0m \u001b[43m\u001b[30ma\u001b[0m \u001b[43m\u001b[30mbroad-pointed\u001b[0m \u001b[43m\u001b[30m,\u001b[0m \u001b[43m\u001b[30mviolet-tinted\u001b[0m \u001b[43m\u001b[30mpencil\u001b[0m \u001b[43m\u001b[30mof\u001b[0m \u001b[43m\u001b[30ma\u001b[0m \u001b[5m\u001b[41m\u001b[30mnot\u001b[0m \u001b[5m\u001b[101m\u001b[97m[NEG] unusual\u001b[0m \u001b[30mpattern\u001b[0m \n",
      "\n",
      "11\n",
      "Cue context: ... a \u001b[7m\u001b[4m\u001b[30mnot\u001b[0m unusual ...\n",
      "\u001b[42m\u001b[30mwords\u001b[0m \u001b[42m\u001b[30mare\u001b[0m \u001b[42m\u001b[30mwritten\u001b[0m \u001b[42m\u001b[30mwith\u001b[0m \u001b[42m\u001b[30ma\u001b[0m \u001b[42m\u001b[30mbroad-pointed\u001b[0m \u001b[42m\u001b[30m,\u001b[0m \u001b[42m\u001b[30mviolet-tinted\u001b[0m \u001b[42m\u001b[30mpencil\u001b[0m \u001b[42m\u001b[30mof\u001b[0m \u001b[42m\u001b[30ma\u001b[0m \u001b[30m[NEG] not\u001b[0m \u001b[42m\u001b[30munusual\u001b[0m \u001b[30mpattern\u001b[0m \n",
      "\u001b[43m\u001b[30mwords\u001b[0m \u001b[43m\u001b[30mare\u001b[0m \u001b[43m\u001b[30mwritten\u001b[0m \u001b[43m\u001b[30mwith\u001b[0m \u001b[43m\u001b[30ma\u001b[0m \u001b[43m\u001b[30mbroad-pointed\u001b[0m \u001b[43m\u001b[30m,\u001b[0m \u001b[43m\u001b[30mviolet-tinted\u001b[0m \u001b[43m\u001b[30mpencil\u001b[0m \u001b[43m\u001b[30mof\u001b[0m \u001b[43m\u001b[30ma\u001b[0m \u001b[5m\u001b[41m\u001b[30m[NEG] not\u001b[0m \u001b[5m\u001b[101m\u001b[97munusual\u001b[0m \u001b[30mpattern\u001b[0m \n",
      "\n",
      "12\n",
      "Cue context: ... -- \u001b[7m\u001b[4m\u001b[30mnothing\u001b[0m else ...\n",
      "\u001b[42m\u001b[30mHe\u001b[0m \u001b[30mhad\u001b[0m \u001b[30mone\u001b[0m \u001b[42m\u001b[30mbig\u001b[0m \u001b[42m\u001b[30mbrown\u001b[0m \u001b[42m\u001b[30mbag\u001b[0m \u001b[42m\u001b[30mwith\u001b[0m \u001b[42m\u001b[30mhim\u001b[0m \u001b[42m\u001b[30m--\u001b[0m \u001b[42m\u001b[30m[NEG] nothing\u001b[0m \u001b[42m\u001b[30melse\u001b[0m \u001b[30m.\u001b[0m \n",
      "\u001b[43m\u001b[30mHe\u001b[0m \u001b[5m\u001b[41m\u001b[30mhad\u001b[0m \u001b[5m\u001b[41m\u001b[30mone\u001b[0m \u001b[43m\u001b[30mbig\u001b[0m \u001b[43m\u001b[30mbrown\u001b[0m \u001b[43m\u001b[30mbag\u001b[0m \u001b[43m\u001b[30mwith\u001b[0m \u001b[43m\u001b[30mhim\u001b[0m \u001b[43m\u001b[30m--\u001b[0m \u001b[43m\u001b[30m[NEG] nothing\u001b[0m \u001b[43m\u001b[30melse\u001b[0m \u001b[30m.\u001b[0m \n",
      "\n",
      "13\n",
      "Cue context: ... -- \u001b[7m\u001b[4m\u001b[30mabsolutely nothing\u001b[0m ? ...\n",
      "\u001b[42m\u001b[30myou\u001b[0m \u001b[42m\u001b[30msay\u001b[0m \u001b[42m\u001b[30mnothing\u001b[0m \u001b[42m\u001b[30mhas\u001b[0m \u001b[30mcome\u001b[0m \u001b[30mout\u001b[0m \u001b[30mof\u001b[0m \u001b[30mthat\u001b[0m \u001b[30mroom\u001b[0m \u001b[30m--\u001b[0m \u001b[42m\u001b[30m[NEG] absolutely\u001b[0m \u001b[42m\u001b[30m[NEG] nothing\u001b[0m \u001b[42m\u001b[30m?\u001b[0m \n",
      "\u001b[43m\u001b[30myou\u001b[0m \u001b[43m\u001b[30msay\u001b[0m \u001b[43m\u001b[30mnothing\u001b[0m \u001b[43m\u001b[30mhas\u001b[0m \u001b[5m\u001b[41m\u001b[30mcome\u001b[0m \u001b[5m\u001b[41m\u001b[30mout\u001b[0m \u001b[5m\u001b[41m\u001b[30mof\u001b[0m \u001b[5m\u001b[41m\u001b[30mthat\u001b[0m \u001b[5m\u001b[41m\u001b[30mroom\u001b[0m \u001b[5m\u001b[41m\u001b[30m--\u001b[0m \u001b[43m\u001b[30m[NEG] absolutely\u001b[0m \u001b[43m\u001b[30m[NEG] nothing\u001b[0m \u001b[43m\u001b[30m?\u001b[0m \n",
      "\n",
      "14\n",
      "Cue context: ... an \u001b[7m\u001b[4m\u001b[30munusual\u001b[0m one ...\n",
      "\u001b[42m\u001b[30mhave\u001b[0m \u001b[42m\u001b[30mreceived\u001b[0m \u001b[42m\u001b[30myour\u001b[0m \u001b[42m\u001b[30mrent\u001b[0m \u001b[42m\u001b[30m,\u001b[0m \u001b[42m\u001b[30mand\u001b[0m \u001b[42m\u001b[30mhe\u001b[0m \u001b[42m\u001b[30mis\u001b[0m \u001b[42m\u001b[30mnot\u001b[0m \u001b[42m\u001b[30ma\u001b[0m \u001b[42m\u001b[30mtroublesome\u001b[0m \u001b[42m\u001b[30mlodger\u001b[0m \u001b[42m\u001b[30m,\u001b[0m \u001b[42m\u001b[30mthough\u001b[0m \u001b[42m\u001b[30mhe\u001b[0m \u001b[30mis\u001b[0m \u001b[30mcertainly\u001b[0m \u001b[42m\u001b[30man\u001b[0m \u001b[30m[NEG] unusual\u001b[0m \u001b[30mone\u001b[0m \n",
      "\u001b[43m\u001b[30mhave\u001b[0m \u001b[43m\u001b[30mreceived\u001b[0m \u001b[43m\u001b[30myour\u001b[0m \u001b[43m\u001b[30mrent\u001b[0m \u001b[43m\u001b[30m,\u001b[0m \u001b[43m\u001b[30mand\u001b[0m \u001b[43m\u001b[30mhe\u001b[0m \u001b[43m\u001b[30mis\u001b[0m \u001b[43m\u001b[30mnot\u001b[0m \u001b[43m\u001b[30ma\u001b[0m \u001b[43m\u001b[30mtroublesome\u001b[0m \u001b[43m\u001b[30mlodger\u001b[0m \u001b[43m\u001b[30m,\u001b[0m \u001b[43m\u001b[30mthough\u001b[0m \u001b[43m\u001b[30mhe\u001b[0m \u001b[5m\u001b[41m\u001b[30mis\u001b[0m \u001b[5m\u001b[41m\u001b[30mcertainly\u001b[0m \u001b[43m\u001b[30man\u001b[0m \u001b[30m[NEG] unusual\u001b[0m \u001b[30mone\u001b[0m \n",
      "\n",
      "15\n",
      "Cue context: ... is \u001b[7m\u001b[4m\u001b[30mno\u001b[0m direct ...\n",
      "\u001b[42m\u001b[30mpays\u001b[0m \u001b[42m\u001b[30myou\u001b[0m \u001b[42m\u001b[30mwell\u001b[0m \u001b[42m\u001b[30m,\u001b[0m \u001b[42m\u001b[30mand\u001b[0m \u001b[42m\u001b[30mif\u001b[0m \u001b[30mhe\u001b[0m \u001b[30mchooses\u001b[0m \u001b[30mto\u001b[0m \u001b[30mlie\u001b[0m \u001b[30mconcealed\u001b[0m \u001b[30mit\u001b[0m \u001b[30mis\u001b[0m \u001b[30m[NEG] no\u001b[0m \u001b[42m\u001b[30mdirect\u001b[0m \u001b[30mbusiness\u001b[0m \u001b[30mof\u001b[0m \u001b[30myours\u001b[0m \n",
      "\u001b[43m\u001b[30mpays\u001b[0m \u001b[43m\u001b[30myou\u001b[0m \u001b[43m\u001b[30mwell\u001b[0m \u001b[43m\u001b[30m,\u001b[0m \u001b[43m\u001b[30mand\u001b[0m \u001b[43m\u001b[30mif\u001b[0m \u001b[5m\u001b[41m\u001b[30mhe\u001b[0m \u001b[5m\u001b[41m\u001b[30mchooses\u001b[0m \u001b[5m\u001b[41m\u001b[30mto\u001b[0m \u001b[5m\u001b[41m\u001b[30mlie\u001b[0m \u001b[5m\u001b[41m\u001b[30mconcealed\u001b[0m \u001b[5m\u001b[41m\u001b[30mit\u001b[0m \u001b[30mis\u001b[0m \u001b[30m[NEG] no\u001b[0m \u001b[43m\u001b[30mdirect\u001b[0m \u001b[30mbusiness\u001b[0m \u001b[30mof\u001b[0m \u001b[30myours\u001b[0m \n",
      "\n",
      "16\n",
      "Cue context: ... but \u001b[7m\u001b[4m\u001b[30mnot\u001b[0m the ...\n",
      "\u001b[42m\u001b[30mcan\u001b[0m \u001b[42m\u001b[30mimagine\u001b[0m \u001b[42m\u001b[30mthat\u001b[0m \u001b[42m\u001b[30mthe\u001b[0m \u001b[42m\u001b[30mword\u001b[0m \u001b[42m\u001b[30mwas\u001b[0m \u001b[42m\u001b[30mtaken\u001b[0m \u001b[42m\u001b[30mout\u001b[0m \u001b[42m\u001b[30mof\u001b[0m \u001b[42m\u001b[30ma\u001b[0m \u001b[42m\u001b[30mdictionary\u001b[0m \u001b[42m\u001b[30m,\u001b[0m \u001b[42m\u001b[30mwhich\u001b[0m \u001b[30mwould\u001b[0m \u001b[30mgive\u001b[0m \u001b[30mthe\u001b[0m \u001b[42m\u001b[30mnoun\u001b[0m \u001b[42m\u001b[30mbut\u001b[0m \u001b[42m\u001b[30m[NEG] not\u001b[0m \u001b[42m\u001b[30mthe\u001b[0m \u001b[30mplural\u001b[0m \n",
      "\u001b[43m\u001b[30mcan\u001b[0m \u001b[43m\u001b[30mimagine\u001b[0m \u001b[43m\u001b[30mthat\u001b[0m \u001b[43m\u001b[30mthe\u001b[0m \u001b[43m\u001b[30mword\u001b[0m \u001b[43m\u001b[30mwas\u001b[0m \u001b[43m\u001b[30mtaken\u001b[0m \u001b[43m\u001b[30mout\u001b[0m \u001b[43m\u001b[30mof\u001b[0m \u001b[43m\u001b[30ma\u001b[0m \u001b[43m\u001b[30mdictionary\u001b[0m \u001b[43m\u001b[30m,\u001b[0m \u001b[43m\u001b[30mwhich\u001b[0m \u001b[5m\u001b[41m\u001b[30mwould\u001b[0m \u001b[5m\u001b[41m\u001b[30mgive\u001b[0m \u001b[5m\u001b[41m\u001b[30mthe\u001b[0m \u001b[43m\u001b[30mnoun\u001b[0m \u001b[43m\u001b[30mbut\u001b[0m \u001b[43m\u001b[30m[NEG] not\u001b[0m \u001b[43m\u001b[30mthe\u001b[0m \u001b[30mplural\u001b[0m \n",
      "\n",
      "17\n",
      "Cue context: ... the \u001b[7m\u001b[4m\u001b[30munusual\u001b[0m ! ...\n",
      "\u001b[42m\u001b[30msurely\u001b[0m \u001b[42m\u001b[30mthe\u001b[0m \u001b[42m\u001b[30mmost\u001b[0m \u001b[42m\u001b[30mvaluable\u001b[0m \u001b[42m\u001b[30mhunting-ground\u001b[0m \u001b[42m\u001b[30mthat\u001b[0m \u001b[42m\u001b[30mever\u001b[0m \u001b[42m\u001b[30mwas\u001b[0m \u001b[42m\u001b[30mgiven\u001b[0m \u001b[42m\u001b[30mto\u001b[0m \u001b[42m\u001b[30ma\u001b[0m \u001b[42m\u001b[30mstudent\u001b[0m \u001b[42m\u001b[30mof\u001b[0m \u001b[42m\u001b[30mthe\u001b[0m \u001b[30m[NEG] unusual\u001b[0m \n",
      "\u001b[43m\u001b[30msurely\u001b[0m \u001b[43m\u001b[30mthe\u001b[0m \u001b[43m\u001b[30mmost\u001b[0m \u001b[43m\u001b[30mvaluable\u001b[0m \u001b[43m\u001b[30mhunting-ground\u001b[0m \u001b[43m\u001b[30mthat\u001b[0m \u001b[43m\u001b[30mever\u001b[0m \u001b[43m\u001b[30mwas\u001b[0m \u001b[43m\u001b[30mgiven\u001b[0m \u001b[43m\u001b[30mto\u001b[0m \u001b[43m\u001b[30ma\u001b[0m \u001b[43m\u001b[30mstudent\u001b[0m \u001b[43m\u001b[30mof\u001b[0m \u001b[5m\u001b[101m\u001b[97mthe\u001b[0m \u001b[30m[NEG] unusual\u001b[0m \n",
      "\n",
      "18\n",
      "Cue context: ... letter \u001b[7m\u001b[4m\u001b[30mwithout\u001b[0m a ...\n",
      "\u001b[42m\u001b[30mperson\u001b[0m \u001b[42m\u001b[30mis\u001b[0m \u001b[42m\u001b[30malone\u001b[0m \u001b[42m\u001b[30mand\u001b[0m \u001b[42m\u001b[30mcan\u001b[0m \u001b[42m\u001b[30mnot\u001b[0m \u001b[42m\u001b[30mbe\u001b[0m \u001b[42m\u001b[30mapproached\u001b[0m \u001b[42m\u001b[30mby\u001b[0m \u001b[42m\u001b[30mletter\u001b[0m \u001b[42m\u001b[30m[NEG] without\u001b[0m \u001b[42m\u001b[30ma\u001b[0m \u001b[30mbreach\u001b[0m \u001b[30mof\u001b[0m \u001b[30mthat\u001b[0m \u001b[30mabsolute\u001b[0m \u001b[30msecrecy\u001b[0m \u001b[30mwhich\u001b[0m \u001b[30mis\u001b[0m \u001b[30mdesired\u001b[0m \n",
      "\u001b[43m\u001b[30mperson\u001b[0m \u001b[43m\u001b[30mis\u001b[0m \u001b[43m\u001b[30malone\u001b[0m \u001b[43m\u001b[30mand\u001b[0m \u001b[43m\u001b[30mcan\u001b[0m \u001b[43m\u001b[30mnot\u001b[0m \u001b[43m\u001b[30mbe\u001b[0m \u001b[5m\u001b[101m\u001b[97mapproached\u001b[0m \u001b[5m\u001b[101m\u001b[97mby\u001b[0m \u001b[5m\u001b[101m\u001b[97mletter\u001b[0m \u001b[43m\u001b[30m[NEG] without\u001b[0m \u001b[43m\u001b[30ma\u001b[0m \u001b[30mbreach\u001b[0m \u001b[30mof\u001b[0m \u001b[30mthat\u001b[0m \u001b[30mabsolute\u001b[0m \u001b[30msecrecy\u001b[0m \u001b[30mwhich\u001b[0m \u001b[30mis\u001b[0m \u001b[30mdesired\u001b[0m \n",
      "\n",
      "19\n",
      "Cue context: ... be \u001b[7m\u001b[4m\u001b[30mirrelevant\u001b[0m . ...\n",
      "\u001b[42m\u001b[30mSurely\u001b[0m \u001b[42m\u001b[30mJimmy\u001b[0m \u001b[42m\u001b[30mwill\u001b[0m \u001b[42m\u001b[30mnot\u001b[0m \u001b[42m\u001b[30mbreak\u001b[0m \u001b[42m\u001b[30mhis\u001b[0m \u001b[42m\u001b[30mmother\u001b[0m \u001b[42m\u001b[30m's\u001b[0m \u001b[42m\u001b[30mheart\u001b[0m \u001b[42m\u001b[30m'\u001b[0m \u001b[42m\u001b[30m--\u001b[0m \u001b[42m\u001b[30mthat\u001b[0m \u001b[30mappears\u001b[0m \u001b[42m\u001b[30mto\u001b[0m \u001b[30mbe\u001b[0m \u001b[30m[NEG] irrelevant\u001b[0m \n",
      "\u001b[43m\u001b[30mSurely\u001b[0m \u001b[43m\u001b[30mJimmy\u001b[0m \u001b[43m\u001b[30mwill\u001b[0m \u001b[43m\u001b[30mnot\u001b[0m \u001b[43m\u001b[30mbreak\u001b[0m \u001b[43m\u001b[30mhis\u001b[0m \u001b[43m\u001b[30mmother\u001b[0m \u001b[43m\u001b[30m's\u001b[0m \u001b[43m\u001b[30mheart\u001b[0m \u001b[43m\u001b[30m'\u001b[0m \u001b[43m\u001b[30m--\u001b[0m \u001b[43m\u001b[30mthat\u001b[0m \u001b[30mappears\u001b[0m \u001b[5m\u001b[101m\u001b[97mto\u001b[0m \u001b[5m\u001b[41m\u001b[30mbe\u001b[0m \u001b[30m[NEG] irrelevant\u001b[0m \n",
      "\n",
      "20\n",
      "Cue context: ... could \u001b[7m\u001b[4m\u001b[30mnot\u001b[0m print ...\n",
      "\u001b[30mmysterious\u001b[0m \u001b[30mone\u001b[0m \u001b[30mcould\u001b[0m \u001b[42m\u001b[30munderstand\u001b[0m \u001b[42m\u001b[30mEnglish\u001b[0m \u001b[42m\u001b[30m,\u001b[0m \u001b[42m\u001b[30meven\u001b[0m \u001b[42m\u001b[30mif\u001b[0m \u001b[42m\u001b[30mhe\u001b[0m \u001b[42m\u001b[30mcould\u001b[0m \u001b[30m[NEG] not\u001b[0m \u001b[42m\u001b[30mprint\u001b[0m \u001b[30mit\u001b[0m \n",
      "\u001b[5m\u001b[41m\u001b[30mmysterious\u001b[0m \u001b[5m\u001b[41m\u001b[30mone\u001b[0m \u001b[5m\u001b[41m\u001b[30mcould\u001b[0m \u001b[43m\u001b[30munderstand\u001b[0m \u001b[43m\u001b[30mEnglish\u001b[0m \u001b[43m\u001b[30m,\u001b[0m \u001b[43m\u001b[30meven\u001b[0m \u001b[43m\u001b[30mif\u001b[0m \u001b[43m\u001b[30mhe\u001b[0m \u001b[5m\u001b[101m\u001b[97mcould\u001b[0m \u001b[30m[NEG] not\u001b[0m \u001b[43m\u001b[30mprint\u001b[0m \u001b[30mit\u001b[0m \n",
      "\n",
      "21\n",
      "Cue context: ... have \u001b[7m\u001b[4m\u001b[30mno more\u001b[0m of ...\n",
      "\u001b[42m\u001b[30mI\u001b[0m \u001b[30m'll\u001b[0m \u001b[30mhave\u001b[0m \u001b[30m[NEG] no\u001b[0m \u001b[42m\u001b[30m[NEG] more\u001b[0m \u001b[42m\u001b[30mof\u001b[0m \u001b[30mit\u001b[0m \n",
      "\u001b[43m\u001b[30mI\u001b[0m \u001b[30m'll\u001b[0m \u001b[30mhave\u001b[0m \u001b[30m[NEG] no\u001b[0m \u001b[43m\u001b[30m[NEG] more\u001b[0m \u001b[5m\u001b[101m\u001b[97mof\u001b[0m \u001b[30mit\u001b[0m \n",
      "\n",
      "22\n",
      "Cue context: ... had \u001b[7m\u001b[4m\u001b[30mnot\u001b[0m gone ...\n",
      "\u001b[42m\u001b[30m,\u001b[0m \u001b[42m\u001b[30mthis\u001b[0m \u001b[42m\u001b[30mmorning\u001b[0m \u001b[42m\u001b[30mhe\u001b[0m \u001b[30mhad\u001b[0m \u001b[30m[NEG] not\u001b[0m \u001b[42m\u001b[30mgone\u001b[0m \u001b[30mten\u001b[0m \u001b[30mpaces\u001b[0m \u001b[30mdown\u001b[0m \u001b[30mthe\u001b[0m \u001b[30mroad\u001b[0m \u001b[30mwhen\u001b[0m \u001b[30mtwo\u001b[0m \u001b[30mmen\u001b[0m \u001b[30mcame\u001b[0m \u001b[30mup\u001b[0m \u001b[30mbehind\u001b[0m \u001b[30mhim\u001b[0m \u001b[30m,\u001b[0m \u001b[30mthrew\u001b[0m \u001b[30ma\u001b[0m \u001b[30mcoat\u001b[0m \u001b[30mover\u001b[0m \u001b[30mhis\u001b[0m \u001b[30mhead\u001b[0m \u001b[30m,\u001b[0m \u001b[30mand\u001b[0m \u001b[30mbundled\u001b[0m \u001b[30mhim\u001b[0m \u001b[30minto\u001b[0m \u001b[30ma\u001b[0m \u001b[30mcab\u001b[0m \u001b[30mthat\u001b[0m \u001b[30mwas\u001b[0m \u001b[30mbeside\u001b[0m \u001b[30mthe\u001b[0m \u001b[30mcurb\u001b[0m \n",
      "\u001b[43m\u001b[30m,\u001b[0m \u001b[43m\u001b[30mthis\u001b[0m \u001b[43m\u001b[30mmorning\u001b[0m \u001b[5m\u001b[101m\u001b[97mhe\u001b[0m \u001b[30mhad\u001b[0m \u001b[30m[NEG] not\u001b[0m \u001b[43m\u001b[30mgone\u001b[0m \u001b[30mten\u001b[0m \u001b[30mpaces\u001b[0m \u001b[30mdown\u001b[0m \u001b[30mthe\u001b[0m \u001b[30mroad\u001b[0m \u001b[30mwhen\u001b[0m \u001b[5m\u001b[41m\u001b[30mtwo\u001b[0m \u001b[5m\u001b[41m\u001b[30mmen\u001b[0m \u001b[5m\u001b[41m\u001b[30mcame\u001b[0m \u001b[5m\u001b[41m\u001b[30mup\u001b[0m \u001b[5m\u001b[41m\u001b[30mbehind\u001b[0m \u001b[5m\u001b[41m\u001b[30mhim\u001b[0m \u001b[5m\u001b[41m\u001b[30m,\u001b[0m \u001b[5m\u001b[41m\u001b[30mthrew\u001b[0m \u001b[5m\u001b[41m\u001b[30ma\u001b[0m \u001b[5m\u001b[41m\u001b[30mcoat\u001b[0m \u001b[5m\u001b[41m\u001b[30mover\u001b[0m \u001b[5m\u001b[41m\u001b[30mhis\u001b[0m \u001b[5m\u001b[41m\u001b[30mhead\u001b[0m \u001b[5m\u001b[41m\u001b[30m,\u001b[0m \u001b[5m\u001b[41m\u001b[30mand\u001b[0m \u001b[5m\u001b[41m\u001b[30mbundled\u001b[0m \u001b[5m\u001b[41m\u001b[30mhim\u001b[0m \u001b[5m\u001b[41m\u001b[30minto\u001b[0m \u001b[5m\u001b[41m\u001b[30ma\u001b[0m \u001b[5m\u001b[41m\u001b[30mcab\u001b[0m \u001b[5m\u001b[41m\u001b[30mthat\u001b[0m \u001b[5m\u001b[41m\u001b[30mwas\u001b[0m \u001b[5m\u001b[41m\u001b[30mbeside\u001b[0m \u001b[5m\u001b[41m\u001b[30mthe\u001b[0m \u001b[5m\u001b[41m\u001b[30mcurb\u001b[0m \n",
      "\n",
      "23\n",
      "Cue context: ... it \u001b[7m\u001b[4m\u001b[30mnot\u001b[0m been ...\n",
      "\u001b[42m\u001b[30mthey\u001b[0m \u001b[42m\u001b[30mwould\u001b[0m \u001b[42m\u001b[30mhave\u001b[0m \u001b[42m\u001b[30mdone\u001b[0m \u001b[42m\u001b[30mhad\u001b[0m \u001b[30mit\u001b[0m \u001b[30m[NEG] not\u001b[0m \u001b[42m\u001b[30mbeen\u001b[0m \u001b[30ma\u001b[0m \u001b[30mmistake\u001b[0m \u001b[30m,\u001b[0m \u001b[42m\u001b[30mwe\u001b[0m \u001b[42m\u001b[30mcan\u001b[0m \u001b[42m\u001b[30monly\u001b[0m \u001b[42m\u001b[30mconjecture\u001b[0m \u001b[42m\u001b[30m.\u001b[0m \n",
      "\u001b[5m\u001b[101m\u001b[97mthey\u001b[0m \u001b[5m\u001b[101m\u001b[97mwould\u001b[0m \u001b[5m\u001b[101m\u001b[97mhave\u001b[0m \u001b[5m\u001b[101m\u001b[97mdone\u001b[0m \u001b[5m\u001b[101m\u001b[97mhad\u001b[0m \u001b[30mit\u001b[0m \u001b[30m[NEG] not\u001b[0m \u001b[43m\u001b[30mbeen\u001b[0m \u001b[30ma\u001b[0m \u001b[30mmistake\u001b[0m \u001b[30m,\u001b[0m \u001b[43m\u001b[30mwe\u001b[0m \u001b[43m\u001b[30mcan\u001b[0m \u001b[43m\u001b[30monly\u001b[0m \u001b[43m\u001b[30mconjecture\u001b[0m \u001b[43m\u001b[30m.\u001b[0m \n",
      "\n",
      "24\n",
      "Cue context: ... do \u001b[7m\u001b[4m\u001b[30mn't\u001b[0m see ...\n",
      "\u001b[42m\u001b[30mI\u001b[0m \u001b[30mdo\u001b[0m \u001b[30m[NEG] n't\u001b[0m \u001b[42m\u001b[30msee\u001b[0m \u001b[30mhow\u001b[0m \u001b[30mthat\u001b[0m \u001b[30mis\u001b[0m \u001b[30mto\u001b[0m \u001b[30mbe\u001b[0m \u001b[30mmanaged\u001b[0m \u001b[30m,\u001b[0m \u001b[42m\u001b[30munless\u001b[0m \u001b[42m\u001b[30myou\u001b[0m \u001b[42m\u001b[30mbreak\u001b[0m \u001b[42m\u001b[30min\u001b[0m \u001b[42m\u001b[30mthe\u001b[0m \u001b[42m\u001b[30mdoor\u001b[0m \n",
      "\u001b[43m\u001b[30mI\u001b[0m \u001b[30mdo\u001b[0m \u001b[30m[NEG] n't\u001b[0m \u001b[43m\u001b[30msee\u001b[0m \u001b[30mhow\u001b[0m \u001b[30mthat\u001b[0m \u001b[30mis\u001b[0m \u001b[30mto\u001b[0m \u001b[30mbe\u001b[0m \u001b[30mmanaged\u001b[0m \u001b[30m,\u001b[0m \u001b[5m\u001b[101m\u001b[97munless\u001b[0m \u001b[5m\u001b[101m\u001b[97myou\u001b[0m \u001b[5m\u001b[101m\u001b[97mbreak\u001b[0m \u001b[5m\u001b[101m\u001b[97min\u001b[0m \u001b[5m\u001b[101m\u001b[97mthe\u001b[0m \u001b[5m\u001b[101m\u001b[97mdoor\u001b[0m \n",
      "\n",
      "25\n",
      "Cue context: ... and \u001b[7m\u001b[4m\u001b[30mno\u001b[0m ordinary ...\n",
      "\u001b[42m\u001b[30mI\u001b[0m \u001b[42m\u001b[30mdid\u001b[0m \u001b[42m\u001b[30mnot\u001b[0m \u001b[42m\u001b[30mforesee\u001b[0m \u001b[42m\u001b[30mis\u001b[0m \u001b[42m\u001b[30mthat\u001b[0m \u001b[42m\u001b[30mwe\u001b[0m \u001b[30mshould\u001b[0m \u001b[30mfind\u001b[0m \u001b[30ma\u001b[0m \u001b[42m\u001b[30mwoman\u001b[0m \u001b[42m\u001b[30m,\u001b[0m \u001b[42m\u001b[30mand\u001b[0m \u001b[42m\u001b[30m[NEG] no\u001b[0m \u001b[42m\u001b[30mordinary\u001b[0m \u001b[30mwoman\u001b[0m \u001b[30m,\u001b[0m \u001b[42m\u001b[30mWatson\u001b[0m \u001b[42m\u001b[30m.\u001b[0m \n",
      "\u001b[43m\u001b[30mI\u001b[0m \u001b[43m\u001b[30mdid\u001b[0m \u001b[43m\u001b[30mnot\u001b[0m \u001b[43m\u001b[30mforesee\u001b[0m \u001b[43m\u001b[30mis\u001b[0m \u001b[43m\u001b[30mthat\u001b[0m \u001b[43m\u001b[30mwe\u001b[0m \u001b[5m\u001b[41m\u001b[30mshould\u001b[0m \u001b[5m\u001b[41m\u001b[30mfind\u001b[0m \u001b[5m\u001b[41m\u001b[30ma\u001b[0m \u001b[43m\u001b[30mwoman\u001b[0m \u001b[43m\u001b[30m,\u001b[0m \u001b[43m\u001b[30mand\u001b[0m \u001b[43m\u001b[30m[NEG] no\u001b[0m \u001b[43m\u001b[30mordinary\u001b[0m \u001b[30mwoman\u001b[0m \u001b[30m,\u001b[0m \u001b[43m\u001b[30mWatson\u001b[0m \u001b[43m\u001b[30m.\u001b[0m \n",
      "\n",
      "26\n",
      "Cue context: ... did \u001b[7m\u001b[4m\u001b[30mnot\u001b[0m foresee ...\n",
      "\u001b[42m\u001b[30mI\u001b[0m \u001b[30mdid\u001b[0m \u001b[30m[NEG] not\u001b[0m \u001b[42m\u001b[30mforesee\u001b[0m \u001b[30mis\u001b[0m \u001b[42m\u001b[30mthat\u001b[0m \u001b[30mwe\u001b[0m \u001b[30mshould\u001b[0m \u001b[30mfind\u001b[0m \u001b[30ma\u001b[0m \u001b[30mwoman\u001b[0m \u001b[30m,\u001b[0m \u001b[30mand\u001b[0m \u001b[30mno\u001b[0m \u001b[30mordinary\u001b[0m \u001b[30mwoman\u001b[0m \u001b[30m,\u001b[0m \u001b[42m\u001b[30mWatson\u001b[0m \u001b[42m\u001b[30m.\u001b[0m \n",
      "\u001b[5m\u001b[101m\u001b[97mI\u001b[0m \u001b[30mdid\u001b[0m \u001b[30m[NEG] not\u001b[0m \u001b[43m\u001b[30mforesee\u001b[0m \u001b[30mis\u001b[0m \u001b[5m\u001b[101m\u001b[97mthat\u001b[0m \u001b[30mwe\u001b[0m \u001b[30mshould\u001b[0m \u001b[30mfind\u001b[0m \u001b[30ma\u001b[0m \u001b[30mwoman\u001b[0m \u001b[30m,\u001b[0m \u001b[5m\u001b[41m\u001b[30mand\u001b[0m \u001b[5m\u001b[41m\u001b[30mno\u001b[0m \u001b[5m\u001b[41m\u001b[30mordinary\u001b[0m \u001b[5m\u001b[41m\u001b[30mwoman\u001b[0m \u001b[5m\u001b[41m\u001b[30m,\u001b[0m \u001b[43m\u001b[30mWatson\u001b[0m \u001b[43m\u001b[30m.\u001b[0m \n",
      "\n",
      "27\n",
      "Cue context: ... themselves \u001b[7m\u001b[4m\u001b[30mnot\u001b[0m aware ...\n",
      "\u001b[42m\u001b[30mattack\u001b[0m \u001b[42m\u001b[30mupon\u001b[0m \u001b[42m\u001b[30mMr.\u001b[0m \u001b[42m\u001b[30mWarren\u001b[0m \u001b[42m\u001b[30mfurther\u001b[0m \u001b[42m\u001b[30mshows\u001b[0m \u001b[42m\u001b[30mthat\u001b[0m \u001b[42m\u001b[30mthe\u001b[0m \u001b[30menemy\u001b[0m \u001b[30m,\u001b[0m \u001b[30mwhoever\u001b[0m \u001b[30mthey\u001b[0m \u001b[30mare\u001b[0m \u001b[30m,\u001b[0m \u001b[30mare\u001b[0m \u001b[30mthemselves\u001b[0m \u001b[30m[NEG] not\u001b[0m \u001b[42m\u001b[30maware\u001b[0m \u001b[30mof\u001b[0m \u001b[30mthe\u001b[0m \u001b[30msubstitution\u001b[0m \u001b[30mof\u001b[0m \u001b[30mthe\u001b[0m \u001b[30mfemale\u001b[0m \u001b[30mlodger\u001b[0m \u001b[30mfor\u001b[0m \u001b[30mthe\u001b[0m \u001b[30mmale\u001b[0m \n",
      "\u001b[43m\u001b[30mattack\u001b[0m \u001b[43m\u001b[30mupon\u001b[0m \u001b[43m\u001b[30mMr.\u001b[0m \u001b[43m\u001b[30mWarren\u001b[0m \u001b[43m\u001b[30mfurther\u001b[0m \u001b[43m\u001b[30mshows\u001b[0m \u001b[43m\u001b[30mthat\u001b[0m \u001b[43m\u001b[30mthe\u001b[0m \u001b[30menemy\u001b[0m \u001b[30m,\u001b[0m \u001b[5m\u001b[41m\u001b[30mwhoever\u001b[0m \u001b[30mthey\u001b[0m \u001b[30mare\u001b[0m \u001b[30m,\u001b[0m \u001b[5m\u001b[41m\u001b[30mare\u001b[0m \u001b[30mthemselves\u001b[0m \u001b[30m[NEG] not\u001b[0m \u001b[43m\u001b[30maware\u001b[0m \u001b[30mof\u001b[0m \u001b[30mthe\u001b[0m \u001b[30msubstitution\u001b[0m \u001b[30mof\u001b[0m \u001b[30mthe\u001b[0m \u001b[30mfemale\u001b[0m \u001b[30mlodger\u001b[0m \u001b[30mfor\u001b[0m \u001b[30mthe\u001b[0m \u001b[30mmale\u001b[0m \n",
      "\n",
      "28\n",
      "Cue context: ... neither \u001b[7m\u001b[4m\u001b[30mneither nor\u001b[0m credit ...\n",
      "\u001b[30mis\u001b[0m \u001b[30m[NEG] neither\u001b[0m \u001b[42m\u001b[30mmoney\u001b[0m \u001b[30m[NEG] nor\u001b[0m \u001b[42m\u001b[30mcredit\u001b[0m \u001b[30min\u001b[0m \u001b[42m\u001b[30mit\u001b[0m \u001b[42m\u001b[30m,\u001b[0m \u001b[42m\u001b[30mand\u001b[0m \u001b[42m\u001b[30myet\u001b[0m \u001b[42m\u001b[30mone\u001b[0m \u001b[42m\u001b[30mwould\u001b[0m \u001b[42m\u001b[30mwish\u001b[0m \u001b[42m\u001b[30mto\u001b[0m \u001b[42m\u001b[30mtidy\u001b[0m \u001b[42m\u001b[30mit\u001b[0m \u001b[42m\u001b[30mup\u001b[0m \n",
      "\u001b[30mis\u001b[0m \u001b[30m[NEG] neither\u001b[0m \u001b[43m\u001b[30mmoney\u001b[0m \u001b[30m[NEG] nor\u001b[0m \u001b[43m\u001b[30mcredit\u001b[0m \u001b[30min\u001b[0m \u001b[5m\u001b[101m\u001b[97mit\u001b[0m \u001b[5m\u001b[101m\u001b[97m,\u001b[0m \u001b[43m\u001b[30mand\u001b[0m \u001b[43m\u001b[30myet\u001b[0m \u001b[43m\u001b[30mone\u001b[0m \u001b[43m\u001b[30mwould\u001b[0m \u001b[43m\u001b[30mwish\u001b[0m \u001b[43m\u001b[30mto\u001b[0m \u001b[43m\u001b[30mtidy\u001b[0m \u001b[43m\u001b[30mit\u001b[0m \u001b[43m\u001b[30mup\u001b[0m \n",
      "\n",
      "29\n",
      "Cue context: ... . \u001b[7m\u001b[4m\u001b[30mNor\u001b[0m is ...\n",
      "\u001b[42m\u001b[30mis\u001b[0m \u001b[30mit\u001b[0m \u001b[30many\u001b[0m \u001b[30mbetter\u001b[0m \u001b[30mas\u001b[0m \u001b[30mthree\u001b[0m \u001b[30mwords\u001b[0m \u001b[30mAT\u001b[0m \u001b[30m,\u001b[0m \u001b[30mTEN\u001b[0m \u001b[30m,\u001b[0m \u001b[30mTA\u001b[0m \u001b[30m,\u001b[0m \u001b[42m\u001b[30munless\u001b[0m \u001b[42m\u001b[30mT.\u001b[0m \u001b[42m\u001b[30mA.\u001b[0m \u001b[42m\u001b[30mare\u001b[0m \u001b[42m\u001b[30ma\u001b[0m \u001b[42m\u001b[30mperson\u001b[0m \u001b[42m\u001b[30m's\u001b[0m \u001b[42m\u001b[30minitials\u001b[0m \n",
      "\u001b[43m\u001b[30mis\u001b[0m \u001b[30mit\u001b[0m \u001b[30many\u001b[0m \u001b[30mbetter\u001b[0m \u001b[30mas\u001b[0m \u001b[30mthree\u001b[0m \u001b[30mwords\u001b[0m \u001b[30mAT\u001b[0m \u001b[30m,\u001b[0m \u001b[5m\u001b[41m\u001b[30mTEN\u001b[0m \u001b[30m,\u001b[0m \u001b[5m\u001b[41m\u001b[30mTA\u001b[0m \u001b[30m,\u001b[0m \u001b[43m\u001b[30munless\u001b[0m \u001b[5m\u001b[101m\u001b[97mT.\u001b[0m \u001b[43m\u001b[30mA.\u001b[0m \u001b[43m\u001b[30mare\u001b[0m \u001b[5m\u001b[101m\u001b[97ma\u001b[0m \u001b[5m\u001b[101m\u001b[97mperson\u001b[0m \u001b[5m\u001b[101m\u001b[97m's\u001b[0m \u001b[5m\u001b[101m\u001b[97minitials\u001b[0m \n",
      "\n",
      "30\n",
      "Cue context: ... `` \u001b[7m\u001b[4m\u001b[30mNot\u001b[0m a ...\n",
      "\u001b[42m\u001b[30m[NEG] Not\u001b[0m \u001b[42m\u001b[30ma\u001b[0m \u001b[30mdoubt\u001b[0m \u001b[30mof\u001b[0m \u001b[42m\u001b[30mit\u001b[0m \n",
      "\u001b[43m\u001b[30m[NEG] Not\u001b[0m \u001b[43m\u001b[30ma\u001b[0m \u001b[30mdoubt\u001b[0m \u001b[30mof\u001b[0m \u001b[5m\u001b[101m\u001b[97mit\u001b[0m \n",
      "\n",
      "31\n",
      "Cue context: ... with \u001b[7m\u001b[4m\u001b[30mbreathless\u001b[0m suspense ...\n",
      "\u001b[42m\u001b[30m,\u001b[0m \u001b[42m\u001b[30mdimly\u001b[0m \u001b[42m\u001b[30moutlined\u001b[0m \u001b[42m\u001b[30mat\u001b[0m \u001b[42m\u001b[30mthe\u001b[0m \u001b[42m\u001b[30mtop\u001b[0m \u001b[42m\u001b[30mwindow\u001b[0m \u001b[42m\u001b[30m,\u001b[0m \u001b[42m\u001b[30mI\u001b[0m \u001b[42m\u001b[30mcould\u001b[0m \u001b[42m\u001b[30msee\u001b[0m \u001b[42m\u001b[30mthe\u001b[0m \u001b[42m\u001b[30mshadow\u001b[0m \u001b[42m\u001b[30mof\u001b[0m \u001b[42m\u001b[30ma\u001b[0m \u001b[42m\u001b[30mhead\u001b[0m \u001b[42m\u001b[30m,\u001b[0m \u001b[42m\u001b[30ma\u001b[0m \u001b[42m\u001b[30mwoman\u001b[0m \u001b[42m\u001b[30m's\u001b[0m \u001b[42m\u001b[30mhead\u001b[0m \u001b[42m\u001b[30m,\u001b[0m \u001b[42m\u001b[30mgazing\u001b[0m \u001b[42m\u001b[30mtensely\u001b[0m \u001b[42m\u001b[30m,\u001b[0m \u001b[42m\u001b[30mrigidly\u001b[0m \u001b[42m\u001b[30m,\u001b[0m \u001b[42m\u001b[30mout\u001b[0m \u001b[42m\u001b[30minto\u001b[0m \u001b[42m\u001b[30mthe\u001b[0m \u001b[42m\u001b[30mnight\u001b[0m \u001b[42m\u001b[30m,\u001b[0m \u001b[42m\u001b[30mwaiting\u001b[0m \u001b[42m\u001b[30mwith\u001b[0m \u001b[42m\u001b[30m[NEG] breathless\u001b[0m \u001b[30msuspense\u001b[0m \u001b[42m\u001b[30mfor\u001b[0m \u001b[42m\u001b[30mthe\u001b[0m \u001b[42m\u001b[30mrenewal\u001b[0m \u001b[42m\u001b[30mof\u001b[0m \u001b[42m\u001b[30mthat\u001b[0m \u001b[42m\u001b[30minterrupted\u001b[0m \u001b[42m\u001b[30mmessage\u001b[0m \n",
      "\u001b[43m\u001b[30m,\u001b[0m \u001b[43m\u001b[30mdimly\u001b[0m \u001b[43m\u001b[30moutlined\u001b[0m \u001b[43m\u001b[30mat\u001b[0m \u001b[43m\u001b[30mthe\u001b[0m \u001b[43m\u001b[30mtop\u001b[0m \u001b[43m\u001b[30mwindow\u001b[0m \u001b[43m\u001b[30m,\u001b[0m \u001b[43m\u001b[30mI\u001b[0m \u001b[43m\u001b[30mcould\u001b[0m \u001b[43m\u001b[30msee\u001b[0m \u001b[43m\u001b[30mthe\u001b[0m \u001b[43m\u001b[30mshadow\u001b[0m \u001b[43m\u001b[30mof\u001b[0m \u001b[43m\u001b[30ma\u001b[0m \u001b[43m\u001b[30mhead\u001b[0m \u001b[43m\u001b[30m,\u001b[0m \u001b[43m\u001b[30ma\u001b[0m \u001b[43m\u001b[30mwoman\u001b[0m \u001b[43m\u001b[30m's\u001b[0m \u001b[43m\u001b[30mhead\u001b[0m \u001b[43m\u001b[30m,\u001b[0m \u001b[43m\u001b[30mgazing\u001b[0m \u001b[43m\u001b[30mtensely\u001b[0m \u001b[43m\u001b[30m,\u001b[0m \u001b[43m\u001b[30mrigidly\u001b[0m \u001b[43m\u001b[30m,\u001b[0m \u001b[43m\u001b[30mout\u001b[0m \u001b[43m\u001b[30minto\u001b[0m \u001b[43m\u001b[30mthe\u001b[0m \u001b[43m\u001b[30mnight\u001b[0m \u001b[43m\u001b[30m,\u001b[0m \u001b[43m\u001b[30mwaiting\u001b[0m \u001b[43m\u001b[30mwith\u001b[0m \u001b[5m\u001b[101m\u001b[97m[NEG] breathless\u001b[0m \u001b[30msuspense\u001b[0m \u001b[5m\u001b[101m\u001b[97mfor\u001b[0m \u001b[5m\u001b[101m\u001b[97mthe\u001b[0m \u001b[5m\u001b[101m\u001b[97mrenewal\u001b[0m \u001b[5m\u001b[101m\u001b[97mof\u001b[0m \u001b[5m\u001b[101m\u001b[97mthat\u001b[0m \u001b[5m\u001b[101m\u001b[97minterrupted\u001b[0m \u001b[5m\u001b[101m\u001b[97mmessage\u001b[0m \n",
      "\n",
      "32\n",
      "Cue context: ... ca \u001b[7m\u001b[4m\u001b[30mn't\u001b[0m imagine ...\n",
      "\u001b[42m\u001b[30mHow\u001b[0m \u001b[42m\u001b[30myou\u001b[0m \u001b[42m\u001b[30mgot\u001b[0m \u001b[42m\u001b[30mon\u001b[0m \u001b[42m\u001b[30mto\u001b[0m \u001b[42m\u001b[30mit\u001b[0m \u001b[42m\u001b[30mI\u001b[0m \u001b[30mca\u001b[0m \u001b[30m[NEG] n't\u001b[0m \u001b[42m\u001b[30mimagine\u001b[0m \u001b[30m.\u001b[0m \n",
      "\u001b[43m\u001b[30mHow\u001b[0m \u001b[5m\u001b[101m\u001b[97myou\u001b[0m \u001b[5m\u001b[101m\u001b[97mgot\u001b[0m \u001b[5m\u001b[101m\u001b[97mon\u001b[0m \u001b[43m\u001b[30mto\u001b[0m \u001b[5m\u001b[101m\u001b[97mit\u001b[0m \u001b[43m\u001b[30mI\u001b[0m \u001b[30mca\u001b[0m \u001b[30m[NEG] n't\u001b[0m \u001b[43m\u001b[30mimagine\u001b[0m \u001b[30m.\u001b[0m \n",
      "\n",
      "33\n",
      "Cue context: ... did \u001b[7m\u001b[4m\u001b[30mn't\u001b[0m feel ...\n",
      "\u001b[42m\u001b[30mI\u001b[0m \u001b[42m\u001b[30m'll\u001b[0m \u001b[42m\u001b[30mdo\u001b[0m \u001b[42m\u001b[30myou\u001b[0m \u001b[42m\u001b[30mthis\u001b[0m \u001b[42m\u001b[30mjustice\u001b[0m \u001b[42m\u001b[30m,\u001b[0m \u001b[42m\u001b[30mMr.\u001b[0m \u001b[42m\u001b[30mHolmes\u001b[0m \u001b[42m\u001b[30m,\u001b[0m \u001b[42m\u001b[30mthat\u001b[0m \u001b[42m\u001b[30mI\u001b[0m \u001b[42m\u001b[30mwas\u001b[0m \u001b[42m\u001b[30mnever\u001b[0m \u001b[42m\u001b[30min\u001b[0m \u001b[42m\u001b[30ma\u001b[0m \u001b[42m\u001b[30mcase\u001b[0m \u001b[42m\u001b[30myet\u001b[0m \u001b[42m\u001b[30mthat\u001b[0m \u001b[42m\u001b[30mI\u001b[0m \u001b[30mdid\u001b[0m \u001b[30m[NEG] n't\u001b[0m \u001b[42m\u001b[30mfeel\u001b[0m \u001b[30mstronger\u001b[0m \u001b[30mfor\u001b[0m \u001b[30mhaving\u001b[0m \u001b[30myou\u001b[0m \u001b[30mon\u001b[0m \u001b[30mmy\u001b[0m \u001b[30mside\u001b[0m \n",
      "\u001b[43m\u001b[30mI\u001b[0m \u001b[43m\u001b[30m'll\u001b[0m \u001b[43m\u001b[30mdo\u001b[0m \u001b[43m\u001b[30myou\u001b[0m \u001b[43m\u001b[30mthis\u001b[0m \u001b[43m\u001b[30mjustice\u001b[0m \u001b[43m\u001b[30m,\u001b[0m \u001b[43m\u001b[30mMr.\u001b[0m \u001b[43m\u001b[30mHolmes\u001b[0m \u001b[43m\u001b[30m,\u001b[0m \u001b[43m\u001b[30mthat\u001b[0m \u001b[43m\u001b[30mI\u001b[0m \u001b[43m\u001b[30mwas\u001b[0m \u001b[43m\u001b[30mnever\u001b[0m \u001b[43m\u001b[30min\u001b[0m \u001b[43m\u001b[30ma\u001b[0m \u001b[43m\u001b[30mcase\u001b[0m \u001b[43m\u001b[30myet\u001b[0m \u001b[43m\u001b[30mthat\u001b[0m \u001b[5m\u001b[101m\u001b[97mI\u001b[0m \u001b[30mdid\u001b[0m \u001b[30m[NEG] n't\u001b[0m \u001b[43m\u001b[30mfeel\u001b[0m \u001b[30mstronger\u001b[0m \u001b[30mfor\u001b[0m \u001b[30mhaving\u001b[0m \u001b[30myou\u001b[0m \u001b[30mon\u001b[0m \u001b[30mmy\u001b[0m \u001b[30mside\u001b[0m \n",
      "\n",
      "34\n",
      "Cue context: ... was \u001b[7m\u001b[4m\u001b[30mnever\u001b[0m in ...\n",
      "\u001b[42m\u001b[30mI\u001b[0m \u001b[42m\u001b[30m'll\u001b[0m \u001b[42m\u001b[30mdo\u001b[0m \u001b[42m\u001b[30myou\u001b[0m \u001b[42m\u001b[30mthis\u001b[0m \u001b[42m\u001b[30mjustice\u001b[0m \u001b[42m\u001b[30m,\u001b[0m \u001b[42m\u001b[30mMr.\u001b[0m \u001b[42m\u001b[30mHolmes\u001b[0m \u001b[42m\u001b[30m,\u001b[0m \u001b[42m\u001b[30mthat\u001b[0m \u001b[42m\u001b[30mI\u001b[0m \u001b[30mwas\u001b[0m \u001b[30m[NEG] never\u001b[0m \u001b[42m\u001b[30min\u001b[0m \u001b[30ma\u001b[0m \u001b[30mcase\u001b[0m \u001b[30myet\u001b[0m \u001b[30mthat\u001b[0m \u001b[30mI\u001b[0m \u001b[30mdid\u001b[0m \u001b[30mn't\u001b[0m \u001b[30mfeel\u001b[0m \u001b[30mstronger\u001b[0m \u001b[30mfor\u001b[0m \u001b[30mhaving\u001b[0m \u001b[30myou\u001b[0m \u001b[30mon\u001b[0m \u001b[30mmy\u001b[0m \u001b[30mside\u001b[0m \n",
      "\u001b[43m\u001b[30mI\u001b[0m \u001b[43m\u001b[30m'll\u001b[0m \u001b[43m\u001b[30mdo\u001b[0m \u001b[43m\u001b[30myou\u001b[0m \u001b[43m\u001b[30mthis\u001b[0m \u001b[43m\u001b[30mjustice\u001b[0m \u001b[43m\u001b[30m,\u001b[0m \u001b[43m\u001b[30mMr.\u001b[0m \u001b[43m\u001b[30mHolmes\u001b[0m \u001b[43m\u001b[30m,\u001b[0m \u001b[43m\u001b[30mthat\u001b[0m \u001b[43m\u001b[30mI\u001b[0m \u001b[30mwas\u001b[0m \u001b[30m[NEG] never\u001b[0m \u001b[43m\u001b[30min\u001b[0m \u001b[30ma\u001b[0m \u001b[30mcase\u001b[0m \u001b[30myet\u001b[0m \u001b[30mthat\u001b[0m \u001b[30mI\u001b[0m \u001b[30mdid\u001b[0m \u001b[30mn't\u001b[0m \u001b[5m\u001b[41m\u001b[30mfeel\u001b[0m \u001b[30mstronger\u001b[0m \u001b[30mfor\u001b[0m \u001b[30mhaving\u001b[0m \u001b[30myou\u001b[0m \u001b[30mon\u001b[0m \u001b[30mmy\u001b[0m \u001b[30mside\u001b[0m \n",
      "\n",
      "35\n",
      "Cue context: ... do \u001b[7m\u001b[4m\u001b[30mn't\u001b[0m . ...\n",
      "\u001b[42m\u001b[30mI\u001b[0m \u001b[42m\u001b[30mexpect\u001b[0m \u001b[42m\u001b[30m,\u001b[0m \u001b[42m\u001b[30mas\u001b[0m \u001b[42m\u001b[30musual\u001b[0m \u001b[42m\u001b[30m,\u001b[0m \u001b[42m\u001b[30mhe\u001b[0m \u001b[42m\u001b[30mknows\u001b[0m \u001b[42m\u001b[30ma\u001b[0m \u001b[42m\u001b[30mgood\u001b[0m \u001b[42m\u001b[30mdeal\u001b[0m \u001b[42m\u001b[30mthat\u001b[0m \u001b[30mwe\u001b[0m \u001b[30mdo\u001b[0m \u001b[30m[NEG] n't\u001b[0m \u001b[42m\u001b[30m.\u001b[0m \n",
      "\u001b[43m\u001b[30mI\u001b[0m \u001b[43m\u001b[30mexpect\u001b[0m \u001b[43m\u001b[30m,\u001b[0m \u001b[43m\u001b[30mas\u001b[0m \u001b[43m\u001b[30musual\u001b[0m \u001b[43m\u001b[30m,\u001b[0m \u001b[43m\u001b[30mhe\u001b[0m \u001b[43m\u001b[30mknows\u001b[0m \u001b[43m\u001b[30ma\u001b[0m \u001b[43m\u001b[30mgood\u001b[0m \u001b[43m\u001b[30mdeal\u001b[0m \u001b[43m\u001b[30mthat\u001b[0m \u001b[5m\u001b[41m\u001b[30mwe\u001b[0m \u001b[30mdo\u001b[0m \u001b[30m[NEG] n't\u001b[0m \u001b[43m\u001b[30m.\u001b[0m \n",
      "\n",
      "36\n",
      "Cue context: ... but \u001b[7m\u001b[4m\u001b[30mnever\u001b[0m in ...\n",
      "\u001b[30mofficial\u001b[0m \u001b[30mdetectives\u001b[0m \u001b[30mmay\u001b[0m \u001b[30mblunder\u001b[0m \u001b[30min\u001b[0m \u001b[42m\u001b[30mthe\u001b[0m \u001b[42m\u001b[30mmatter\u001b[0m \u001b[42m\u001b[30mof\u001b[0m \u001b[42m\u001b[30mintelligence\u001b[0m \u001b[42m\u001b[30m,\u001b[0m \u001b[42m\u001b[30mbut\u001b[0m \u001b[42m\u001b[30m[NEG] never\u001b[0m \u001b[42m\u001b[30min\u001b[0m \u001b[30mthat\u001b[0m \u001b[30mof\u001b[0m \u001b[30mcourage\u001b[0m \n",
      "\u001b[30mofficial\u001b[0m \u001b[30mdetectives\u001b[0m \u001b[30mmay\u001b[0m \u001b[5m\u001b[41m\u001b[30mblunder\u001b[0m \u001b[5m\u001b[41m\u001b[30min\u001b[0m \u001b[43m\u001b[30mthe\u001b[0m \u001b[43m\u001b[30mmatter\u001b[0m \u001b[43m\u001b[30mof\u001b[0m \u001b[43m\u001b[30mintelligence\u001b[0m \u001b[43m\u001b[30m,\u001b[0m \u001b[43m\u001b[30mbut\u001b[0m \u001b[43m\u001b[30m[NEG] never\u001b[0m \u001b[43m\u001b[30min\u001b[0m \u001b[30mthat\u001b[0m \u001b[30mof\u001b[0m \u001b[30mcourage\u001b[0m \n",
      "\n",
      "37\n",
      "Cue context: ... `` \u001b[7m\u001b[4m\u001b[30mNot\u001b[0m much ...\n",
      "\u001b[42m\u001b[30m[NEG] Not\u001b[0m \u001b[42m\u001b[30mmuch\u001b[0m \u001b[30m,\u001b[0m \u001b[42m\u001b[30mMr.\u001b[0m \u001b[42m\u001b[30mHolmes\u001b[0m \u001b[42m\u001b[30m,\u001b[0m \u001b[42m\u001b[30mamong\u001b[0m \u001b[42m\u001b[30mthe\u001b[0m \u001b[42m\u001b[30mmillions\u001b[0m \u001b[42m\u001b[30mof\u001b[0m \u001b[42m\u001b[30mLondon\u001b[0m \u001b[42m\u001b[30m.\u001b[0m \n",
      "\u001b[43m\u001b[30m[NEG] Not\u001b[0m \u001b[43m\u001b[30mmuch\u001b[0m \u001b[30m,\u001b[0m \u001b[43m\u001b[30mMr.\u001b[0m \u001b[43m\u001b[30mHolmes\u001b[0m \u001b[43m\u001b[30m,\u001b[0m \u001b[43m\u001b[30mamong\u001b[0m \u001b[5m\u001b[101m\u001b[97mthe\u001b[0m \u001b[5m\u001b[101m\u001b[97mmillions\u001b[0m \u001b[5m\u001b[101m\u001b[97mof\u001b[0m \u001b[5m\u001b[101m\u001b[97mLondon\u001b[0m \u001b[5m\u001b[101m\u001b[97m.\u001b[0m \n",
      "\n",
      "38\n",
      "Cue context: ... fear \u001b[7m\u001b[4m\u001b[30mnothing\u001b[0m , ...\n",
      "\u001b[42m\u001b[30mNow\u001b[0m \u001b[30mthat\u001b[0m \u001b[30mGorgiano\u001b[0m \u001b[30mis\u001b[0m \u001b[30mdead\u001b[0m \u001b[30mwe\u001b[0m \u001b[30mfear\u001b[0m \u001b[30m[NEG] nothing\u001b[0m \u001b[42m\u001b[30m,\u001b[0m \u001b[42m\u001b[30m''\u001b[0m \u001b[42m\u001b[30msaid\u001b[0m \u001b[42m\u001b[30mthe\u001b[0m \u001b[42m\u001b[30mlady\u001b[0m \n",
      "\u001b[43m\u001b[30mNow\u001b[0m \u001b[5m\u001b[41m\u001b[30mthat\u001b[0m \u001b[5m\u001b[41m\u001b[30mGorgiano\u001b[0m \u001b[5m\u001b[41m\u001b[30mis\u001b[0m \u001b[5m\u001b[41m\u001b[30mdead\u001b[0m \u001b[5m\u001b[41m\u001b[30mwe\u001b[0m \u001b[30mfear\u001b[0m \u001b[30m[NEG] nothing\u001b[0m \u001b[43m\u001b[30m,\u001b[0m \u001b[43m\u001b[30m''\u001b[0m \u001b[43m\u001b[30msaid\u001b[0m \u001b[43m\u001b[30mthe\u001b[0m \u001b[43m\u001b[30mlady\u001b[0m \n",
      "\n",
      "39\n",
      "Cue context: ... very \u001b[7m\u001b[4m\u001b[30munconventional\u001b[0m English ...\n",
      "\u001b[42m\u001b[30mspoke\u001b[0m \u001b[42m\u001b[30min\u001b[0m \u001b[42m\u001b[30mrapid\u001b[0m \u001b[42m\u001b[30mand\u001b[0m \u001b[42m\u001b[30mfluent\u001b[0m \u001b[42m\u001b[30mbut\u001b[0m \u001b[42m\u001b[30mvery\u001b[0m \u001b[42m\u001b[30m[NEG] unconventional\u001b[0m \u001b[30mEnglish\u001b[0m \u001b[30m,\u001b[0m \u001b[42m\u001b[30mwhich\u001b[0m \u001b[42m\u001b[30m,\u001b[0m \u001b[42m\u001b[30mfor\u001b[0m \u001b[42m\u001b[30mthe\u001b[0m \u001b[42m\u001b[30msake\u001b[0m \u001b[42m\u001b[30mof\u001b[0m \u001b[42m\u001b[30mclearness\u001b[0m \u001b[42m\u001b[30m,\u001b[0m \u001b[42m\u001b[30mI\u001b[0m \u001b[42m\u001b[30mwill\u001b[0m \u001b[42m\u001b[30mmake\u001b[0m \u001b[42m\u001b[30mgrammatical\u001b[0m \n",
      "\u001b[43m\u001b[30mspoke\u001b[0m \u001b[43m\u001b[30min\u001b[0m \u001b[43m\u001b[30mrapid\u001b[0m \u001b[43m\u001b[30mand\u001b[0m \u001b[43m\u001b[30mfluent\u001b[0m \u001b[43m\u001b[30mbut\u001b[0m \u001b[43m\u001b[30mvery\u001b[0m \u001b[5m\u001b[101m\u001b[97m[NEG] unconventional\u001b[0m \u001b[30mEnglish\u001b[0m \u001b[30m,\u001b[0m \u001b[43m\u001b[30mwhich\u001b[0m \u001b[43m\u001b[30m,\u001b[0m \u001b[43m\u001b[30mfor\u001b[0m \u001b[43m\u001b[30mthe\u001b[0m \u001b[43m\u001b[30msake\u001b[0m \u001b[43m\u001b[30mof\u001b[0m \u001b[43m\u001b[30mclearness\u001b[0m \u001b[43m\u001b[30m,\u001b[0m \u001b[43m\u001b[30mI\u001b[0m \u001b[43m\u001b[30mwill\u001b[0m \u001b[43m\u001b[30mmake\u001b[0m \u001b[43m\u001b[30mgrammatical\u001b[0m \n",
      "\n",
      "40\n",
      "Cue context: ... had \u001b[7m\u001b[4m\u001b[30mnever\u001b[0m seen ...\n",
      "\u001b[42m\u001b[30msaid\u001b[0m \u001b[42m\u001b[30mnothing\u001b[0m \u001b[42m\u001b[30m,\u001b[0m \u001b[42m\u001b[30mbut\u001b[0m \u001b[42m\u001b[30mI\u001b[0m \u001b[42m\u001b[30m,\u001b[0m \u001b[42m\u001b[30mwho\u001b[0m \u001b[42m\u001b[30mknew\u001b[0m \u001b[42m\u001b[30mhim\u001b[0m \u001b[42m\u001b[30mso\u001b[0m \u001b[42m\u001b[30mwell\u001b[0m \u001b[42m\u001b[30m,\u001b[0m \u001b[42m\u001b[30mcould\u001b[0m \u001b[42m\u001b[30mread\u001b[0m \u001b[42m\u001b[30min\u001b[0m \u001b[42m\u001b[30mhis\u001b[0m \u001b[42m\u001b[30mface\u001b[0m \u001b[42m\u001b[30msome\u001b[0m \u001b[42m\u001b[30memotion\u001b[0m \u001b[42m\u001b[30mwhich\u001b[0m \u001b[30mI\u001b[0m \u001b[30mhad\u001b[0m \u001b[30m[NEG] never\u001b[0m \u001b[42m\u001b[30mseen\u001b[0m \u001b[30mthere\u001b[0m \u001b[30mbefore\u001b[0m \n",
      "\u001b[43m\u001b[30msaid\u001b[0m \u001b[43m\u001b[30mnothing\u001b[0m \u001b[43m\u001b[30m,\u001b[0m \u001b[43m\u001b[30mbut\u001b[0m \u001b[43m\u001b[30mI\u001b[0m \u001b[43m\u001b[30m,\u001b[0m \u001b[43m\u001b[30mwho\u001b[0m \u001b[43m\u001b[30mknew\u001b[0m \u001b[43m\u001b[30mhim\u001b[0m \u001b[43m\u001b[30mso\u001b[0m \u001b[43m\u001b[30mwell\u001b[0m \u001b[43m\u001b[30m,\u001b[0m \u001b[43m\u001b[30mcould\u001b[0m \u001b[43m\u001b[30mread\u001b[0m \u001b[43m\u001b[30min\u001b[0m \u001b[43m\u001b[30mhis\u001b[0m \u001b[43m\u001b[30mface\u001b[0m \u001b[43m\u001b[30msome\u001b[0m \u001b[43m\u001b[30memotion\u001b[0m \u001b[43m\u001b[30mwhich\u001b[0m \u001b[5m\u001b[41m\u001b[30mI\u001b[0m \u001b[30mhad\u001b[0m \u001b[30m[NEG] never\u001b[0m \u001b[43m\u001b[30mseen\u001b[0m \u001b[30mthere\u001b[0m \u001b[30mbefore\u001b[0m \n",
      "\n",
      "41\n",
      "Cue context: ... was \u001b[7m\u001b[4m\u001b[30mdislike\u001b[0m . ...\n",
      "\u001b[42m\u001b[30mfirst\u001b[0m \u001b[42m\u001b[30mI\u001b[0m \u001b[42m\u001b[30mthought\u001b[0m \u001b[42m\u001b[30mthat\u001b[0m \u001b[42m\u001b[30mit\u001b[0m \u001b[42m\u001b[30mwas\u001b[0m \u001b[42m\u001b[30m[NEG] dislike\u001b[0m \n",
      "\u001b[43m\u001b[30mfirst\u001b[0m \u001b[43m\u001b[30mI\u001b[0m \u001b[43m\u001b[30mthought\u001b[0m \u001b[43m\u001b[30mthat\u001b[0m \u001b[43m\u001b[30mit\u001b[0m \u001b[5m\u001b[101m\u001b[97mwas\u001b[0m \u001b[5m\u001b[101m\u001b[97m[NEG] dislike\u001b[0m \n",
      "\n",
      "42\n",
      "Cue context: ... hold \u001b[7m\u001b[4m\u001b[30mnothing\u001b[0m from ...\n",
      "\u001b[42m\u001b[30mnight\u001b[0m \u001b[42m\u001b[30m--\u001b[0m \u001b[42m\u001b[30mthe\u001b[0m \u001b[42m\u001b[30mnight\u001b[0m \u001b[42m\u001b[30mthat\u001b[0m \u001b[42m\u001b[30mI\u001b[0m \u001b[42m\u001b[30mread\u001b[0m \u001b[42m\u001b[30mhis\u001b[0m \u001b[42m\u001b[30mterror\u001b[0m \u001b[42m\u001b[30m--\u001b[0m \u001b[42m\u001b[30mI\u001b[0m \u001b[42m\u001b[30mput\u001b[0m \u001b[42m\u001b[30mmy\u001b[0m \u001b[42m\u001b[30marms\u001b[0m \u001b[42m\u001b[30mround\u001b[0m \u001b[42m\u001b[30mhim\u001b[0m \u001b[42m\u001b[30mand\u001b[0m \u001b[42m\u001b[30mI\u001b[0m \u001b[42m\u001b[30mimplored\u001b[0m \u001b[42m\u001b[30mhim\u001b[0m \u001b[42m\u001b[30mby\u001b[0m \u001b[42m\u001b[30mhis\u001b[0m \u001b[42m\u001b[30mlove\u001b[0m \u001b[42m\u001b[30mfor\u001b[0m \u001b[42m\u001b[30mme\u001b[0m \u001b[42m\u001b[30mand\u001b[0m \u001b[42m\u001b[30mby\u001b[0m \u001b[42m\u001b[30mall\u001b[0m \u001b[42m\u001b[30mthat\u001b[0m \u001b[42m\u001b[30mhe\u001b[0m \u001b[42m\u001b[30mheld\u001b[0m \u001b[42m\u001b[30mdear\u001b[0m \u001b[42m\u001b[30mto\u001b[0m \u001b[30mhold\u001b[0m \u001b[30m[NEG] nothing\u001b[0m \u001b[42m\u001b[30mfrom\u001b[0m \u001b[30mme\u001b[0m \u001b[30m,\u001b[0m \u001b[42m\u001b[30mand\u001b[0m \u001b[42m\u001b[30mto\u001b[0m \u001b[42m\u001b[30mtell\u001b[0m \u001b[42m\u001b[30mme\u001b[0m \u001b[42m\u001b[30mwhy\u001b[0m \u001b[42m\u001b[30mthis\u001b[0m \u001b[42m\u001b[30mhuge\u001b[0m \u001b[42m\u001b[30mman\u001b[0m \u001b[42m\u001b[30movershadowed\u001b[0m \u001b[42m\u001b[30mhim\u001b[0m \u001b[42m\u001b[30mso\u001b[0m \n",
      "\u001b[43m\u001b[30mnight\u001b[0m \u001b[43m\u001b[30m--\u001b[0m \u001b[43m\u001b[30mthe\u001b[0m \u001b[43m\u001b[30mnight\u001b[0m \u001b[43m\u001b[30mthat\u001b[0m \u001b[43m\u001b[30mI\u001b[0m \u001b[43m\u001b[30mread\u001b[0m \u001b[43m\u001b[30mhis\u001b[0m \u001b[43m\u001b[30mterror\u001b[0m \u001b[43m\u001b[30m--\u001b[0m \u001b[43m\u001b[30mI\u001b[0m \u001b[43m\u001b[30mput\u001b[0m \u001b[43m\u001b[30mmy\u001b[0m \u001b[43m\u001b[30marms\u001b[0m \u001b[43m\u001b[30mround\u001b[0m \u001b[43m\u001b[30mhim\u001b[0m \u001b[43m\u001b[30mand\u001b[0m \u001b[43m\u001b[30mI\u001b[0m \u001b[43m\u001b[30mimplored\u001b[0m \u001b[43m\u001b[30mhim\u001b[0m \u001b[43m\u001b[30mby\u001b[0m \u001b[43m\u001b[30mhis\u001b[0m \u001b[43m\u001b[30mlove\u001b[0m \u001b[43m\u001b[30mfor\u001b[0m \u001b[43m\u001b[30mme\u001b[0m \u001b[43m\u001b[30mand\u001b[0m \u001b[43m\u001b[30mby\u001b[0m \u001b[43m\u001b[30mall\u001b[0m \u001b[43m\u001b[30mthat\u001b[0m \u001b[43m\u001b[30mhe\u001b[0m \u001b[43m\u001b[30mheld\u001b[0m \u001b[43m\u001b[30mdear\u001b[0m \u001b[43m\u001b[30mto\u001b[0m \u001b[5m\u001b[41m\u001b[30mhold\u001b[0m \u001b[30m[NEG] nothing\u001b[0m \u001b[43m\u001b[30mfrom\u001b[0m \u001b[30mme\u001b[0m \u001b[30m,\u001b[0m \u001b[43m\u001b[30mand\u001b[0m \u001b[43m\u001b[30mto\u001b[0m \u001b[43m\u001b[30mtell\u001b[0m \u001b[43m\u001b[30mme\u001b[0m \u001b[43m\u001b[30mwhy\u001b[0m \u001b[43m\u001b[30mthis\u001b[0m \u001b[43m\u001b[30mhuge\u001b[0m \u001b[43m\u001b[30mman\u001b[0m \u001b[43m\u001b[30movershadowed\u001b[0m \u001b[43m\u001b[30mhim\u001b[0m \u001b[43m\u001b[30mso\u001b[0m \n",
      "\n",
      "43\n",
      "Cue context: ... rule \u001b[7m\u001b[4m\u001b[30mno\u001b[0m escape ...\n",
      "\u001b[42m\u001b[30moaths\u001b[0m \u001b[42m\u001b[30mand\u001b[0m \u001b[42m\u001b[30msecrets\u001b[0m \u001b[42m\u001b[30mof\u001b[0m \u001b[42m\u001b[30mthis\u001b[0m \u001b[42m\u001b[30mbrotherhood\u001b[0m \u001b[42m\u001b[30mwere\u001b[0m \u001b[42m\u001b[30mfrightful\u001b[0m \u001b[42m\u001b[30m,\u001b[0m \u001b[42m\u001b[30mbut\u001b[0m \u001b[42m\u001b[30monce\u001b[0m \u001b[30mwithin\u001b[0m \u001b[30mits\u001b[0m \u001b[30mrule\u001b[0m \u001b[30m[NEG] no\u001b[0m \u001b[42m\u001b[30mescape\u001b[0m \u001b[30mwas\u001b[0m \u001b[30mpossible\u001b[0m \n",
      "\u001b[43m\u001b[30moaths\u001b[0m \u001b[43m\u001b[30mand\u001b[0m \u001b[43m\u001b[30msecrets\u001b[0m \u001b[43m\u001b[30mof\u001b[0m \u001b[43m\u001b[30mthis\u001b[0m \u001b[43m\u001b[30mbrotherhood\u001b[0m \u001b[43m\u001b[30mwere\u001b[0m \u001b[43m\u001b[30mfrightful\u001b[0m \u001b[43m\u001b[30m,\u001b[0m \u001b[43m\u001b[30mbut\u001b[0m \u001b[43m\u001b[30monce\u001b[0m \u001b[5m\u001b[41m\u001b[30mwithin\u001b[0m \u001b[5m\u001b[41m\u001b[30mits\u001b[0m \u001b[5m\u001b[41m\u001b[30mrule\u001b[0m \u001b[5m\u001b[41m\u001b[30m[NEG] no\u001b[0m \u001b[43m\u001b[30mescape\u001b[0m \u001b[30mwas\u001b[0m \u001b[30mpossible\u001b[0m \n",
      "\n",
      "44\n",
      "Cue context: ... Gennaro \u001b[7m\u001b[4m\u001b[30msenseless\u001b[0m and ...\n",
      "\u001b[42m\u001b[30mstruck\u001b[0m \u001b[42m\u001b[30mGennaro\u001b[0m \u001b[42m\u001b[30m[NEG] senseless\u001b[0m \u001b[30mand\u001b[0m \u001b[42m\u001b[30mfled\u001b[0m \u001b[42m\u001b[30mfrom\u001b[0m \u001b[42m\u001b[30mthe\u001b[0m \u001b[42m\u001b[30mhouse\u001b[0m \u001b[42m\u001b[30mwhich\u001b[0m \u001b[42m\u001b[30mhe\u001b[0m \u001b[42m\u001b[30mwas\u001b[0m \u001b[42m\u001b[30mnever\u001b[0m \u001b[42m\u001b[30mmore\u001b[0m \u001b[42m\u001b[30mto\u001b[0m \u001b[42m\u001b[30menter\u001b[0m \n",
      "\u001b[43m\u001b[30mstruck\u001b[0m \u001b[5m\u001b[101m\u001b[97mGennaro\u001b[0m \u001b[5m\u001b[101m\u001b[97m[NEG] senseless\u001b[0m \u001b[30mand\u001b[0m \u001b[43m\u001b[30mfled\u001b[0m \u001b[43m\u001b[30mfrom\u001b[0m \u001b[43m\u001b[30mthe\u001b[0m \u001b[43m\u001b[30mhouse\u001b[0m \u001b[43m\u001b[30mwhich\u001b[0m \u001b[43m\u001b[30mhe\u001b[0m \u001b[43m\u001b[30mwas\u001b[0m \u001b[43m\u001b[30mnever\u001b[0m \u001b[43m\u001b[30mmore\u001b[0m \u001b[43m\u001b[30mto\u001b[0m \u001b[43m\u001b[30menter\u001b[0m \n",
      "\n",
      "45\n",
      "Cue context: ... was \u001b[7m\u001b[4m\u001b[30mnever more\u001b[0m to ...\n",
      "\u001b[42m\u001b[30mstruck\u001b[0m \u001b[42m\u001b[30mGennaro\u001b[0m \u001b[42m\u001b[30msenseless\u001b[0m \u001b[42m\u001b[30mand\u001b[0m \u001b[42m\u001b[30mfled\u001b[0m \u001b[42m\u001b[30mfrom\u001b[0m \u001b[42m\u001b[30mthe\u001b[0m \u001b[42m\u001b[30mhouse\u001b[0m \u001b[42m\u001b[30mwhich\u001b[0m \u001b[42m\u001b[30mhe\u001b[0m \u001b[30mwas\u001b[0m \u001b[30m[NEG] never\u001b[0m \u001b[42m\u001b[30m[NEG] more\u001b[0m \u001b[42m\u001b[30mto\u001b[0m \u001b[30menter\u001b[0m \n",
      "\u001b[43m\u001b[30mstruck\u001b[0m \u001b[43m\u001b[30mGennaro\u001b[0m \u001b[43m\u001b[30msenseless\u001b[0m \u001b[43m\u001b[30mand\u001b[0m \u001b[43m\u001b[30mfled\u001b[0m \u001b[43m\u001b[30mfrom\u001b[0m \u001b[43m\u001b[30mthe\u001b[0m \u001b[43m\u001b[30mhouse\u001b[0m \u001b[43m\u001b[30mwhich\u001b[0m \u001b[43m\u001b[30mhe\u001b[0m \u001b[30mwas\u001b[0m \u001b[30m[NEG] never\u001b[0m \u001b[43m\u001b[30m[NEG] more\u001b[0m \u001b[5m\u001b[101m\u001b[97mto\u001b[0m \u001b[30menter\u001b[0m \n",
      "\n",
      "46\n",
      "Cue context: ... but \u001b[7m\u001b[4m\u001b[30mnot\u001b[0m before ...\n",
      "\u001b[42m\u001b[30mmidday\u001b[0m \u001b[42m\u001b[30mmy\u001b[0m \u001b[30mhusband\u001b[0m \u001b[30mand\u001b[0m \u001b[30mI\u001b[0m \u001b[30mwere\u001b[0m \u001b[30mon\u001b[0m \u001b[30mour\u001b[0m \u001b[30mway\u001b[0m \u001b[30mto\u001b[0m \u001b[30mLondon\u001b[0m \u001b[30m,\u001b[0m \u001b[42m\u001b[30mbut\u001b[0m \u001b[42m\u001b[30m[NEG] not\u001b[0m \u001b[42m\u001b[30mbefore\u001b[0m \u001b[30mhe\u001b[0m \u001b[30mhad\u001b[0m \u001b[30mgiven\u001b[0m \u001b[30mour\u001b[0m \u001b[30mbenefactor\u001b[0m \u001b[30mfull\u001b[0m \u001b[30mwarning\u001b[0m \u001b[30mof\u001b[0m \u001b[30mthis\u001b[0m \u001b[30mdanger\u001b[0m \u001b[30m,\u001b[0m \u001b[30mand\u001b[0m \u001b[30mhad\u001b[0m \u001b[30malso\u001b[0m \u001b[30mleft\u001b[0m \u001b[30msuch\u001b[0m \u001b[30minformation\u001b[0m \u001b[30mfor\u001b[0m \u001b[30mthe\u001b[0m \u001b[30mpolice\u001b[0m \u001b[30mas\u001b[0m \u001b[30mwould\u001b[0m \u001b[30msafeguard\u001b[0m \u001b[30mhis\u001b[0m \u001b[30mlife\u001b[0m \u001b[30mfor\u001b[0m \u001b[30mthe\u001b[0m \u001b[30mfuture\u001b[0m \n",
      "\u001b[43m\u001b[30mmidday\u001b[0m \u001b[43m\u001b[30mmy\u001b[0m \u001b[5m\u001b[41m\u001b[30mhusband\u001b[0m \u001b[5m\u001b[41m\u001b[30mand\u001b[0m \u001b[5m\u001b[41m\u001b[30mI\u001b[0m \u001b[5m\u001b[41m\u001b[30mwere\u001b[0m \u001b[5m\u001b[41m\u001b[30mon\u001b[0m \u001b[5m\u001b[41m\u001b[30mour\u001b[0m \u001b[5m\u001b[41m\u001b[30mway\u001b[0m \u001b[5m\u001b[41m\u001b[30mto\u001b[0m \u001b[5m\u001b[41m\u001b[30mLondon\u001b[0m \u001b[5m\u001b[41m\u001b[30m,\u001b[0m \u001b[43m\u001b[30mbut\u001b[0m \u001b[43m\u001b[30m[NEG] not\u001b[0m \u001b[43m\u001b[30mbefore\u001b[0m \u001b[30mhe\u001b[0m \u001b[30mhad\u001b[0m \u001b[30mgiven\u001b[0m \u001b[30mour\u001b[0m \u001b[30mbenefactor\u001b[0m \u001b[30mfull\u001b[0m \u001b[30mwarning\u001b[0m \u001b[30mof\u001b[0m \u001b[30mthis\u001b[0m \u001b[30mdanger\u001b[0m \u001b[30m,\u001b[0m \u001b[5m\u001b[41m\u001b[30mand\u001b[0m \u001b[5m\u001b[41m\u001b[30mhad\u001b[0m \u001b[30malso\u001b[0m \u001b[5m\u001b[41m\u001b[30mleft\u001b[0m \u001b[30msuch\u001b[0m \u001b[30minformation\u001b[0m \u001b[30mfor\u001b[0m \u001b[5m\u001b[41m\u001b[30mthe\u001b[0m \u001b[30mpolice\u001b[0m \u001b[30mas\u001b[0m \u001b[30mwould\u001b[0m \u001b[30msafeguard\u001b[0m \u001b[30mhis\u001b[0m \u001b[30mlife\u001b[0m \u001b[30mfor\u001b[0m \u001b[30mthe\u001b[0m \u001b[30mfuture\u001b[0m \n",
      "\n",
      "47\n",
      "Cue context: ... unfortunately \u001b[7m\u001b[4m\u001b[30mimpossible\u001b[0m entirely ...\n",
      "\u001b[30mis\u001b[0m \u001b[30m,\u001b[0m \u001b[42m\u001b[30mhowever\u001b[0m \u001b[42m\u001b[30m,\u001b[0m \u001b[42m\u001b[30munfortunately\u001b[0m \u001b[42m\u001b[30m[NEG] impossible\u001b[0m \u001b[30mentirely\u001b[0m \u001b[30mto\u001b[0m \u001b[30mseparate\u001b[0m \u001b[30mthe\u001b[0m \u001b[30msensational\u001b[0m \u001b[30mfrom\u001b[0m \u001b[30mthe\u001b[0m \u001b[30mcriminal\u001b[0m \u001b[30m,\u001b[0m \u001b[42m\u001b[30mand\u001b[0m \u001b[42m\u001b[30ma\u001b[0m \u001b[42m\u001b[30mchronicler\u001b[0m \u001b[42m\u001b[30mis\u001b[0m \u001b[42m\u001b[30mleft\u001b[0m \u001b[42m\u001b[30min\u001b[0m \u001b[42m\u001b[30mthe\u001b[0m \u001b[42m\u001b[30mdilemma\u001b[0m \u001b[42m\u001b[30mthat\u001b[0m \u001b[42m\u001b[30mhe\u001b[0m \u001b[42m\u001b[30mmust\u001b[0m \u001b[42m\u001b[30meither\u001b[0m \u001b[42m\u001b[30msacrifice\u001b[0m \u001b[42m\u001b[30mdetails\u001b[0m \u001b[42m\u001b[30mwhich\u001b[0m \u001b[42m\u001b[30mare\u001b[0m \u001b[42m\u001b[30messential\u001b[0m \u001b[42m\u001b[30mto\u001b[0m \u001b[42m\u001b[30mhis\u001b[0m \u001b[42m\u001b[30mstatement\u001b[0m \u001b[42m\u001b[30mand\u001b[0m \u001b[42m\u001b[30mso\u001b[0m \u001b[42m\u001b[30mgive\u001b[0m \u001b[42m\u001b[30ma\u001b[0m \u001b[42m\u001b[30mfalse\u001b[0m \u001b[42m\u001b[30mimpression\u001b[0m \u001b[42m\u001b[30mof\u001b[0m \u001b[42m\u001b[30mthe\u001b[0m \u001b[42m\u001b[30mproblem\u001b[0m \u001b[42m\u001b[30m,\u001b[0m \u001b[42m\u001b[30mor\u001b[0m \u001b[42m\u001b[30mhe\u001b[0m \u001b[42m\u001b[30mmust\u001b[0m \u001b[42m\u001b[30muse\u001b[0m \u001b[42m\u001b[30mmatter\u001b[0m \u001b[42m\u001b[30mwhich\u001b[0m \u001b[42m\u001b[30mchance\u001b[0m \u001b[42m\u001b[30m,\u001b[0m \u001b[42m\u001b[30mand\u001b[0m \u001b[42m\u001b[30mnot\u001b[0m \u001b[42m\u001b[30mchoice\u001b[0m \u001b[42m\u001b[30m,\u001b[0m \u001b[42m\u001b[30mhas\u001b[0m \u001b[42m\u001b[30mprovided\u001b[0m \u001b[42m\u001b[30mhim\u001b[0m \u001b[42m\u001b[30mwith\u001b[0m \n",
      "\u001b[30mis\u001b[0m \u001b[30m,\u001b[0m \u001b[43m\u001b[30mhowever\u001b[0m \u001b[43m\u001b[30m,\u001b[0m \u001b[43m\u001b[30munfortunately\u001b[0m \u001b[5m\u001b[101m\u001b[97m[NEG] impossible\u001b[0m \u001b[30mentirely\u001b[0m \u001b[30mto\u001b[0m \u001b[30mseparate\u001b[0m \u001b[30mthe\u001b[0m \u001b[30msensational\u001b[0m \u001b[30mfrom\u001b[0m \u001b[30mthe\u001b[0m \u001b[30mcriminal\u001b[0m \u001b[30m,\u001b[0m \u001b[43m\u001b[30mand\u001b[0m \u001b[43m\u001b[30ma\u001b[0m \u001b[43m\u001b[30mchronicler\u001b[0m \u001b[43m\u001b[30mis\u001b[0m \u001b[43m\u001b[30mleft\u001b[0m \u001b[43m\u001b[30min\u001b[0m \u001b[43m\u001b[30mthe\u001b[0m \u001b[43m\u001b[30mdilemma\u001b[0m \u001b[43m\u001b[30mthat\u001b[0m \u001b[43m\u001b[30mhe\u001b[0m \u001b[43m\u001b[30mmust\u001b[0m \u001b[43m\u001b[30meither\u001b[0m \u001b[43m\u001b[30msacrifice\u001b[0m \u001b[43m\u001b[30mdetails\u001b[0m \u001b[43m\u001b[30mwhich\u001b[0m \u001b[43m\u001b[30mare\u001b[0m \u001b[43m\u001b[30messential\u001b[0m \u001b[43m\u001b[30mto\u001b[0m \u001b[43m\u001b[30mhis\u001b[0m \u001b[43m\u001b[30mstatement\u001b[0m \u001b[43m\u001b[30mand\u001b[0m \u001b[43m\u001b[30mso\u001b[0m \u001b[43m\u001b[30mgive\u001b[0m \u001b[43m\u001b[30ma\u001b[0m \u001b[43m\u001b[30mfalse\u001b[0m \u001b[43m\u001b[30mimpression\u001b[0m \u001b[43m\u001b[30mof\u001b[0m \u001b[43m\u001b[30mthe\u001b[0m \u001b[43m\u001b[30mproblem\u001b[0m \u001b[43m\u001b[30m,\u001b[0m \u001b[43m\u001b[30mor\u001b[0m \u001b[43m\u001b[30mhe\u001b[0m \u001b[43m\u001b[30mmust\u001b[0m \u001b[43m\u001b[30muse\u001b[0m \u001b[43m\u001b[30mmatter\u001b[0m \u001b[43m\u001b[30mwhich\u001b[0m \u001b[43m\u001b[30mchance\u001b[0m \u001b[43m\u001b[30m,\u001b[0m \u001b[43m\u001b[30mand\u001b[0m \u001b[43m\u001b[30mnot\u001b[0m \u001b[43m\u001b[30mchoice\u001b[0m \u001b[43m\u001b[30m,\u001b[0m \u001b[43m\u001b[30mhas\u001b[0m \u001b[43m\u001b[30mprovided\u001b[0m \u001b[43m\u001b[30mhim\u001b[0m \u001b[43m\u001b[30mwith\u001b[0m \n",
      "\n",
      "48\n",
      "Cue context: ... and \u001b[7m\u001b[4m\u001b[30mnot\u001b[0m choice ...\n",
      "\u001b[42m\u001b[30mis\u001b[0m \u001b[42m\u001b[30m,\u001b[0m \u001b[42m\u001b[30mhowever\u001b[0m \u001b[42m\u001b[30m,\u001b[0m \u001b[42m\u001b[30munfortunately\u001b[0m \u001b[42m\u001b[30mimpossible\u001b[0m \u001b[42m\u001b[30mentirely\u001b[0m \u001b[42m\u001b[30mto\u001b[0m \u001b[42m\u001b[30mseparate\u001b[0m \u001b[42m\u001b[30mthe\u001b[0m \u001b[42m\u001b[30msensational\u001b[0m \u001b[42m\u001b[30mfrom\u001b[0m \u001b[42m\u001b[30mthe\u001b[0m \u001b[42m\u001b[30mcriminal\u001b[0m \u001b[42m\u001b[30m,\u001b[0m \u001b[42m\u001b[30mand\u001b[0m \u001b[42m\u001b[30ma\u001b[0m \u001b[42m\u001b[30mchronicler\u001b[0m \u001b[42m\u001b[30mis\u001b[0m \u001b[42m\u001b[30mleft\u001b[0m \u001b[42m\u001b[30min\u001b[0m \u001b[42m\u001b[30mthe\u001b[0m \u001b[42m\u001b[30mdilemma\u001b[0m \u001b[42m\u001b[30mthat\u001b[0m \u001b[42m\u001b[30mhe\u001b[0m \u001b[42m\u001b[30mmust\u001b[0m \u001b[42m\u001b[30meither\u001b[0m \u001b[42m\u001b[30msacrifice\u001b[0m \u001b[42m\u001b[30mdetails\u001b[0m \u001b[42m\u001b[30mwhich\u001b[0m \u001b[42m\u001b[30mare\u001b[0m \u001b[42m\u001b[30messential\u001b[0m \u001b[42m\u001b[30mto\u001b[0m \u001b[42m\u001b[30mhis\u001b[0m \u001b[42m\u001b[30mstatement\u001b[0m \u001b[42m\u001b[30mand\u001b[0m \u001b[42m\u001b[30mso\u001b[0m \u001b[42m\u001b[30mgive\u001b[0m \u001b[42m\u001b[30ma\u001b[0m \u001b[42m\u001b[30mfalse\u001b[0m \u001b[42m\u001b[30mimpression\u001b[0m \u001b[42m\u001b[30mof\u001b[0m \u001b[42m\u001b[30mthe\u001b[0m \u001b[42m\u001b[30mproblem\u001b[0m \u001b[42m\u001b[30m,\u001b[0m \u001b[42m\u001b[30mor\u001b[0m \u001b[42m\u001b[30mhe\u001b[0m \u001b[42m\u001b[30mmust\u001b[0m \u001b[42m\u001b[30muse\u001b[0m \u001b[42m\u001b[30mmatter\u001b[0m \u001b[42m\u001b[30mwhich\u001b[0m \u001b[30mchance\u001b[0m \u001b[42m\u001b[30m,\u001b[0m \u001b[42m\u001b[30mand\u001b[0m \u001b[42m\u001b[30m[NEG] not\u001b[0m \u001b[42m\u001b[30mchoice\u001b[0m \u001b[30m,\u001b[0m \u001b[42m\u001b[30mhas\u001b[0m \u001b[30mprovided\u001b[0m \u001b[30mhim\u001b[0m \u001b[30mwith\u001b[0m \n",
      "\u001b[43m\u001b[30mis\u001b[0m \u001b[43m\u001b[30m,\u001b[0m \u001b[43m\u001b[30mhowever\u001b[0m \u001b[43m\u001b[30m,\u001b[0m \u001b[43m\u001b[30munfortunately\u001b[0m \u001b[43m\u001b[30mimpossible\u001b[0m \u001b[43m\u001b[30mentirely\u001b[0m \u001b[43m\u001b[30mto\u001b[0m \u001b[43m\u001b[30mseparate\u001b[0m \u001b[43m\u001b[30mthe\u001b[0m \u001b[43m\u001b[30msensational\u001b[0m \u001b[43m\u001b[30mfrom\u001b[0m \u001b[43m\u001b[30mthe\u001b[0m \u001b[43m\u001b[30mcriminal\u001b[0m \u001b[43m\u001b[30m,\u001b[0m \u001b[43m\u001b[30mand\u001b[0m \u001b[43m\u001b[30ma\u001b[0m \u001b[43m\u001b[30mchronicler\u001b[0m \u001b[43m\u001b[30mis\u001b[0m \u001b[43m\u001b[30mleft\u001b[0m \u001b[43m\u001b[30min\u001b[0m \u001b[43m\u001b[30mthe\u001b[0m \u001b[43m\u001b[30mdilemma\u001b[0m \u001b[43m\u001b[30mthat\u001b[0m \u001b[43m\u001b[30mhe\u001b[0m \u001b[43m\u001b[30mmust\u001b[0m \u001b[43m\u001b[30meither\u001b[0m \u001b[43m\u001b[30msacrifice\u001b[0m \u001b[43m\u001b[30mdetails\u001b[0m \u001b[43m\u001b[30mwhich\u001b[0m \u001b[43m\u001b[30mare\u001b[0m \u001b[43m\u001b[30messential\u001b[0m \u001b[43m\u001b[30mto\u001b[0m \u001b[43m\u001b[30mhis\u001b[0m \u001b[43m\u001b[30mstatement\u001b[0m \u001b[43m\u001b[30mand\u001b[0m \u001b[43m\u001b[30mso\u001b[0m \u001b[43m\u001b[30mgive\u001b[0m \u001b[43m\u001b[30ma\u001b[0m \u001b[43m\u001b[30mfalse\u001b[0m \u001b[43m\u001b[30mimpression\u001b[0m \u001b[43m\u001b[30mof\u001b[0m \u001b[43m\u001b[30mthe\u001b[0m \u001b[43m\u001b[30mproblem\u001b[0m \u001b[43m\u001b[30m,\u001b[0m \u001b[43m\u001b[30mor\u001b[0m \u001b[43m\u001b[30mhe\u001b[0m \u001b[43m\u001b[30mmust\u001b[0m \u001b[43m\u001b[30muse\u001b[0m \u001b[43m\u001b[30mmatter\u001b[0m \u001b[43m\u001b[30mwhich\u001b[0m \u001b[5m\u001b[41m\u001b[30mchance\u001b[0m \u001b[43m\u001b[30m,\u001b[0m \u001b[43m\u001b[30mand\u001b[0m \u001b[43m\u001b[30m[NEG] not\u001b[0m \u001b[43m\u001b[30mchoice\u001b[0m \u001b[30m,\u001b[0m \u001b[5m\u001b[101m\u001b[97mhas\u001b[0m \u001b[30mprovided\u001b[0m \u001b[30mhim\u001b[0m \u001b[30mwith\u001b[0m \n",
      "\n",
      "49\n",
      "Cue context: ... expressed \u001b[7m\u001b[4m\u001b[30mincredulity\u001b[0m . ...\n",
      "\u001b[42m\u001b[30mmy\u001b[0m \u001b[42m\u001b[30mremarking\u001b[0m \u001b[42m\u001b[30mthat\u001b[0m \u001b[42m\u001b[30mI\u001b[0m \u001b[42m\u001b[30mwas\u001b[0m \u001b[42m\u001b[30mconstantly\u001b[0m \u001b[42m\u001b[30min\u001b[0m \u001b[42m\u001b[30mthe\u001b[0m \u001b[42m\u001b[30mhabit\u001b[0m \u001b[42m\u001b[30mof\u001b[0m \u001b[42m\u001b[30mdoing\u001b[0m \u001b[42m\u001b[30mthe\u001b[0m \u001b[42m\u001b[30msame\u001b[0m \u001b[42m\u001b[30mthing\u001b[0m \u001b[42m\u001b[30myou\u001b[0m \u001b[30mexpressed\u001b[0m \u001b[30m[NEG] incredulity\u001b[0m \u001b[30m.\u001b[0m \n",
      "\u001b[43m\u001b[30mmy\u001b[0m \u001b[43m\u001b[30mremarking\u001b[0m \u001b[43m\u001b[30mthat\u001b[0m \u001b[43m\u001b[30mI\u001b[0m \u001b[43m\u001b[30mwas\u001b[0m \u001b[43m\u001b[30mconstantly\u001b[0m \u001b[43m\u001b[30min\u001b[0m \u001b[43m\u001b[30mthe\u001b[0m \u001b[43m\u001b[30mhabit\u001b[0m \u001b[43m\u001b[30mof\u001b[0m \u001b[43m\u001b[30mdoing\u001b[0m \u001b[43m\u001b[30mthe\u001b[0m \u001b[43m\u001b[30msame\u001b[0m \u001b[43m\u001b[30mthing\u001b[0m \u001b[43m\u001b[30myou\u001b[0m \u001b[5m\u001b[41m\u001b[30mexpressed\u001b[0m \u001b[30m[NEG] incredulity\u001b[0m \u001b[30m.\u001b[0m \n",
      "\n",
      "50\n",
      "Cue context: ... Perhaps \u001b[7m\u001b[4m\u001b[30mnot\u001b[0m with ...\n",
      "\u001b[42m\u001b[30mPerhaps\u001b[0m \u001b[42m\u001b[30m[NEG] not\u001b[0m \u001b[42m\u001b[30mwith\u001b[0m \u001b[30myour\u001b[0m \u001b[30mtongue\u001b[0m \u001b[30m,\u001b[0m \u001b[42m\u001b[30mmy\u001b[0m \u001b[42m\u001b[30mdear\u001b[0m \u001b[42m\u001b[30mWatson\u001b[0m \u001b[42m\u001b[30m,\u001b[0m \u001b[42m\u001b[30mbut\u001b[0m \u001b[42m\u001b[30mcertainly\u001b[0m \u001b[42m\u001b[30mwith\u001b[0m \u001b[42m\u001b[30myour\u001b[0m \u001b[42m\u001b[30meyebrows\u001b[0m \n",
      "\u001b[43m\u001b[30mPerhaps\u001b[0m \u001b[5m\u001b[101m\u001b[97m[NEG] not\u001b[0m \u001b[43m\u001b[30mwith\u001b[0m \u001b[30myour\u001b[0m \u001b[30mtongue\u001b[0m \u001b[30m,\u001b[0m \u001b[43m\u001b[30mmy\u001b[0m \u001b[43m\u001b[30mdear\u001b[0m \u001b[43m\u001b[30mWatson\u001b[0m \u001b[43m\u001b[30m,\u001b[0m \u001b[43m\u001b[30mbut\u001b[0m \u001b[43m\u001b[30mcertainly\u001b[0m \u001b[43m\u001b[30mwith\u001b[0m \u001b[43m\u001b[30myour\u001b[0m \u001b[43m\u001b[30meyebrows\u001b[0m \n",
      "\n",
      "51\n",
      "Cue context: ... an \u001b[7m\u001b[4m\u001b[30minjustice\u001b[0m . ...\n",
      "\u001b[42m\u001b[30mYou\u001b[0m \u001b[30mdo\u001b[0m \u001b[30myourself\u001b[0m \u001b[30man\u001b[0m \u001b[30m[NEG] injustice\u001b[0m \n",
      "\u001b[43m\u001b[30mYou\u001b[0m \u001b[5m\u001b[41m\u001b[30mdo\u001b[0m \u001b[5m\u001b[41m\u001b[30myourself\u001b[0m \u001b[5m\u001b[41m\u001b[30man\u001b[0m \u001b[30m[NEG] injustice\u001b[0m \n",
      "\n",
      "52\n",
      "Cue context: ... the \u001b[7m\u001b[4m\u001b[30munframed\u001b[0m portrait ...\n",
      "\u001b[42m\u001b[30meyes\u001b[0m \u001b[42m\u001b[30mflashed\u001b[0m \u001b[42m\u001b[30macross\u001b[0m \u001b[42m\u001b[30mto\u001b[0m \u001b[42m\u001b[30mthe\u001b[0m \u001b[30m[NEG] unframed\u001b[0m \u001b[30mportrait\u001b[0m \u001b[30mof\u001b[0m \u001b[30mHenry\u001b[0m \u001b[30mWard\u001b[0m \u001b[30mBeecher\u001b[0m \u001b[30mwhich\u001b[0m \u001b[30mstands\u001b[0m \u001b[30mupon\u001b[0m \u001b[30mthe\u001b[0m \u001b[30mtop\u001b[0m \u001b[30mof\u001b[0m \u001b[30myour\u001b[0m \u001b[30mbooks\u001b[0m \n",
      "\u001b[43m\u001b[30meyes\u001b[0m \u001b[43m\u001b[30mflashed\u001b[0m \u001b[43m\u001b[30macross\u001b[0m \u001b[43m\u001b[30mto\u001b[0m \u001b[43m\u001b[30mthe\u001b[0m \u001b[30m[NEG] unframed\u001b[0m \u001b[30mportrait\u001b[0m \u001b[30mof\u001b[0m \u001b[30mHenry\u001b[0m \u001b[30mWard\u001b[0m \u001b[5m\u001b[41m\u001b[30mBeecher\u001b[0m \u001b[30mwhich\u001b[0m \u001b[5m\u001b[41m\u001b[30mstands\u001b[0m \u001b[5m\u001b[41m\u001b[30mupon\u001b[0m \u001b[5m\u001b[41m\u001b[30mthe\u001b[0m \u001b[5m\u001b[41m\u001b[30mtop\u001b[0m \u001b[5m\u001b[41m\u001b[30mof\u001b[0m \u001b[5m\u001b[41m\u001b[30myour\u001b[0m \u001b[5m\u001b[41m\u001b[30mbooks\u001b[0m \n",
      "\n",
      "53\n",
      "Cue context: ... certainly \u001b[7m\u001b[4m\u001b[30mnot\u001b[0m rough ...\n",
      "\u001b[42m\u001b[30m,\u001b[0m \u001b[42m\u001b[30mcarbolic\u001b[0m \u001b[42m\u001b[30mor\u001b[0m \u001b[42m\u001b[30mrectified\u001b[0m \u001b[42m\u001b[30mspirits\u001b[0m \u001b[42m\u001b[30mwould\u001b[0m \u001b[30mbe\u001b[0m \u001b[30mthe\u001b[0m \u001b[30mpreservatives\u001b[0m \u001b[30mwhich\u001b[0m \u001b[30mwould\u001b[0m \u001b[30msuggest\u001b[0m \u001b[30mthemselves\u001b[0m \u001b[30mto\u001b[0m \u001b[30mthe\u001b[0m \u001b[30mmedical\u001b[0m \u001b[30mmind\u001b[0m \u001b[30m,\u001b[0m \u001b[42m\u001b[30mcertainly\u001b[0m \u001b[42m\u001b[30m[NEG] not\u001b[0m \u001b[42m\u001b[30mrough\u001b[0m \u001b[30msalt\u001b[0m \n",
      "\u001b[43m\u001b[30m,\u001b[0m \u001b[43m\u001b[30mcarbolic\u001b[0m \u001b[43m\u001b[30mor\u001b[0m \u001b[43m\u001b[30mrectified\u001b[0m \u001b[43m\u001b[30mspirits\u001b[0m \u001b[43m\u001b[30mwould\u001b[0m \u001b[5m\u001b[41m\u001b[30mbe\u001b[0m \u001b[5m\u001b[41m\u001b[30mthe\u001b[0m \u001b[5m\u001b[41m\u001b[30mpreservatives\u001b[0m \u001b[5m\u001b[41m\u001b[30mwhich\u001b[0m \u001b[5m\u001b[41m\u001b[30mwould\u001b[0m \u001b[5m\u001b[41m\u001b[30msuggest\u001b[0m \u001b[5m\u001b[41m\u001b[30mthemselves\u001b[0m \u001b[5m\u001b[41m\u001b[30mto\u001b[0m \u001b[5m\u001b[41m\u001b[30mthe\u001b[0m \u001b[5m\u001b[41m\u001b[30mmedical\u001b[0m \u001b[5m\u001b[41m\u001b[30mmind\u001b[0m \u001b[5m\u001b[41m\u001b[30m,\u001b[0m \u001b[43m\u001b[30mcertainly\u001b[0m \u001b[43m\u001b[30m[NEG] not\u001b[0m \u001b[43m\u001b[30mrough\u001b[0m \u001b[30msalt\u001b[0m \n",
      "\n",
      "54\n",
      "Cue context: ... Cushing \u001b[7m\u001b[4m\u001b[30mimpatiently\u001b[0m . ...\n",
      "\u001b[42m\u001b[30mOh\u001b[0m \u001b[42m\u001b[30m,\u001b[0m \u001b[42m\u001b[30mI\u001b[0m \u001b[42m\u001b[30mam\u001b[0m \u001b[42m\u001b[30mweary\u001b[0m \u001b[42m\u001b[30mof\u001b[0m \u001b[42m\u001b[30mquestions\u001b[0m \u001b[42m\u001b[30m!\u001b[0m \u001b[42m\u001b[30m''\u001b[0m \u001b[42m\u001b[30mcried\u001b[0m \u001b[30mMiss\u001b[0m \u001b[30mCushing\u001b[0m \u001b[30m[NEG] impatiently\u001b[0m \n",
      "\u001b[43m\u001b[30mOh\u001b[0m \u001b[43m\u001b[30m,\u001b[0m \u001b[43m\u001b[30mI\u001b[0m \u001b[43m\u001b[30mam\u001b[0m \u001b[43m\u001b[30mweary\u001b[0m \u001b[43m\u001b[30mof\u001b[0m \u001b[43m\u001b[30mquestions\u001b[0m \u001b[43m\u001b[30m!\u001b[0m \u001b[43m\u001b[30m''\u001b[0m \u001b[43m\u001b[30mcried\u001b[0m \u001b[5m\u001b[41m\u001b[30mMiss\u001b[0m \u001b[5m\u001b[41m\u001b[30mCushing\u001b[0m \u001b[30m[NEG] impatiently\u001b[0m \n",
      "\n",
      "55\n",
      "Cue context: ... was \u001b[7m\u001b[4m\u001b[30munmarried\u001b[0m at ...\n",
      "\u001b[42m\u001b[30mobserve\u001b[0m \u001b[42m\u001b[30mthat\u001b[0m \u001b[42m\u001b[30mshe\u001b[0m \u001b[30mwas\u001b[0m \u001b[30m[NEG] unmarried\u001b[0m \u001b[30mat\u001b[0m \u001b[30mthe\u001b[0m \u001b[30mtime\u001b[0m \u001b[30m.\u001b[0m \n",
      "\u001b[43m\u001b[30mobserve\u001b[0m \u001b[43m\u001b[30mthat\u001b[0m \u001b[43m\u001b[30mshe\u001b[0m \u001b[30mwas\u001b[0m \u001b[30m[NEG] unmarried\u001b[0m \u001b[30mat\u001b[0m \u001b[5m\u001b[41m\u001b[30mthe\u001b[0m \u001b[5m\u001b[41m\u001b[30mtime\u001b[0m \u001b[5m\u001b[41m\u001b[30m.\u001b[0m \n",
      "\n",
      "56\n",
      "Cue context: ... could \u001b[7m\u001b[4m\u001b[30mn't\u001b[0m abide ...\n",
      "\u001b[42m\u001b[30mwas\u001b[0m \u001b[42m\u001b[30mon\u001b[0m \u001b[42m\u001b[30mthe\u001b[0m \u001b[42m\u001b[30mSouth\u001b[0m \u001b[42m\u001b[30mAmerican\u001b[0m \u001b[42m\u001b[30mline\u001b[0m \u001b[42m\u001b[30mwhen\u001b[0m \u001b[42m\u001b[30mthat\u001b[0m \u001b[42m\u001b[30mwas\u001b[0m \u001b[42m\u001b[30mtaken\u001b[0m \u001b[42m\u001b[30m,\u001b[0m \u001b[42m\u001b[30mbut\u001b[0m \u001b[42m\u001b[30mhe\u001b[0m \u001b[42m\u001b[30mwas\u001b[0m \u001b[42m\u001b[30mso\u001b[0m \u001b[42m\u001b[30mfond\u001b[0m \u001b[42m\u001b[30mof\u001b[0m \u001b[42m\u001b[30mher\u001b[0m \u001b[42m\u001b[30mthat\u001b[0m \u001b[42m\u001b[30mhe\u001b[0m \u001b[30mcould\u001b[0m \u001b[30m[NEG] n't\u001b[0m \u001b[42m\u001b[30mabide\u001b[0m \u001b[30mto\u001b[0m \u001b[30mleave\u001b[0m \u001b[30mher\u001b[0m \u001b[30mfor\u001b[0m \u001b[30mso\u001b[0m \u001b[30mlong\u001b[0m \u001b[30m,\u001b[0m \u001b[42m\u001b[30mand\u001b[0m \u001b[42m\u001b[30mhe\u001b[0m \u001b[42m\u001b[30mgot\u001b[0m \u001b[42m\u001b[30minto\u001b[0m \u001b[42m\u001b[30mthe\u001b[0m \u001b[42m\u001b[30mLiverpool\u001b[0m \u001b[42m\u001b[30mand\u001b[0m \u001b[42m\u001b[30mLondon\u001b[0m \u001b[42m\u001b[30mboats\u001b[0m \u001b[42m\u001b[30m.\u001b[0m \n",
      "\u001b[43m\u001b[30mwas\u001b[0m \u001b[43m\u001b[30mon\u001b[0m \u001b[43m\u001b[30mthe\u001b[0m \u001b[43m\u001b[30mSouth\u001b[0m \u001b[43m\u001b[30mAmerican\u001b[0m \u001b[43m\u001b[30mline\u001b[0m \u001b[43m\u001b[30mwhen\u001b[0m \u001b[43m\u001b[30mthat\u001b[0m \u001b[43m\u001b[30mwas\u001b[0m \u001b[43m\u001b[30mtaken\u001b[0m \u001b[43m\u001b[30m,\u001b[0m \u001b[43m\u001b[30mbut\u001b[0m \u001b[43m\u001b[30mhe\u001b[0m \u001b[5m\u001b[101m\u001b[97mwas\u001b[0m \u001b[43m\u001b[30mso\u001b[0m \u001b[43m\u001b[30mfond\u001b[0m \u001b[43m\u001b[30mof\u001b[0m \u001b[43m\u001b[30mher\u001b[0m \u001b[43m\u001b[30mthat\u001b[0m \u001b[43m\u001b[30mhe\u001b[0m \u001b[30mcould\u001b[0m \u001b[30m[NEG] n't\u001b[0m \u001b[43m\u001b[30mabide\u001b[0m \u001b[30mto\u001b[0m \u001b[30mleave\u001b[0m \u001b[30mher\u001b[0m \u001b[30mfor\u001b[0m \u001b[30mso\u001b[0m \u001b[30mlong\u001b[0m \u001b[30m,\u001b[0m \u001b[43m\u001b[30mand\u001b[0m \u001b[43m\u001b[30mhe\u001b[0m \u001b[43m\u001b[30mgot\u001b[0m \u001b[43m\u001b[30minto\u001b[0m \u001b[43m\u001b[30mthe\u001b[0m \u001b[43m\u001b[30mLiverpool\u001b[0m \u001b[43m\u001b[30mand\u001b[0m \u001b[43m\u001b[30mLondon\u001b[0m \u001b[43m\u001b[30mboats\u001b[0m \u001b[43m\u001b[30m.\u001b[0m \n",
      "\n",
      "57\n",
      "Cue context: ... ca \u001b[7m\u001b[4m\u001b[30mn't\u001b[0m , ...\n",
      "\u001b[42m\u001b[30mWell\u001b[0m \u001b[42m\u001b[30m,\u001b[0m \u001b[42m\u001b[30mif\u001b[0m \u001b[30mwe\u001b[0m \u001b[30mca\u001b[0m \u001b[30mn't\u001b[0m \u001b[30mwe\u001b[0m \u001b[30mca\u001b[0m \u001b[30m[NEG] n't\u001b[0m \u001b[42m\u001b[30m,\u001b[0m \u001b[42m\u001b[30m''\u001b[0m \u001b[42m\u001b[30msaid\u001b[0m \u001b[42m\u001b[30mHolmes\u001b[0m \u001b[42m\u001b[30m,\u001b[0m \u001b[42m\u001b[30mcheerfully\u001b[0m \n",
      "\u001b[43m\u001b[30mWell\u001b[0m \u001b[43m\u001b[30m,\u001b[0m \u001b[43m\u001b[30mif\u001b[0m \u001b[5m\u001b[41m\u001b[30mwe\u001b[0m \u001b[5m\u001b[41m\u001b[30mca\u001b[0m \u001b[5m\u001b[41m\u001b[30mn't\u001b[0m \u001b[5m\u001b[41m\u001b[30mwe\u001b[0m \u001b[30mca\u001b[0m \u001b[5m\u001b[41m\u001b[30m[NEG] n't\u001b[0m \u001b[43m\u001b[30m,\u001b[0m \u001b[43m\u001b[30m''\u001b[0m \u001b[43m\u001b[30msaid\u001b[0m \u001b[43m\u001b[30mHolmes\u001b[0m \u001b[43m\u001b[30m,\u001b[0m \u001b[43m\u001b[30mcheerfully\u001b[0m \n",
      "\n",
      "58\n",
      "Cue context: ... could \u001b[7m\u001b[4m\u001b[30mnot\u001b[0m or ...\n",
      "\u001b[42m\u001b[30mPerhaps\u001b[0m \u001b[42m\u001b[30mshe\u001b[0m \u001b[30mcould\u001b[0m \u001b[30m[NEG] not\u001b[0m \u001b[42m\u001b[30mor\u001b[0m \u001b[42m\u001b[30mwould\u001b[0m \u001b[42m\u001b[30mnot\u001b[0m \u001b[42m\u001b[30mhave\u001b[0m \u001b[30mtold\u001b[0m \u001b[30myou\u001b[0m \u001b[30mmuch\u001b[0m \u001b[30m.\u001b[0m \n",
      "\u001b[43m\u001b[30mPerhaps\u001b[0m \u001b[43m\u001b[30mshe\u001b[0m \u001b[30mcould\u001b[0m \u001b[30m[NEG] not\u001b[0m \u001b[43m\u001b[30mor\u001b[0m \u001b[5m\u001b[101m\u001b[97mwould\u001b[0m \u001b[5m\u001b[101m\u001b[97mnot\u001b[0m \u001b[43m\u001b[30mhave\u001b[0m \u001b[30mtold\u001b[0m \u001b[30myou\u001b[0m \u001b[30mmuch\u001b[0m \u001b[30m.\u001b[0m \n",
      "\n",
      "59\n",
      "Cue context: ... would \u001b[7m\u001b[4m\u001b[30mnot\u001b[0m have ...\n",
      "\u001b[42m\u001b[30mPerhaps\u001b[0m \u001b[42m\u001b[30mshe\u001b[0m \u001b[30mcould\u001b[0m \u001b[42m\u001b[30mnot\u001b[0m \u001b[42m\u001b[30mor\u001b[0m \u001b[42m\u001b[30mwould\u001b[0m \u001b[30m[NEG] not\u001b[0m \u001b[42m\u001b[30mhave\u001b[0m \u001b[30mtold\u001b[0m \u001b[30myou\u001b[0m \u001b[30mmuch\u001b[0m \u001b[30m.\u001b[0m \n",
      "\u001b[43m\u001b[30mPerhaps\u001b[0m \u001b[43m\u001b[30mshe\u001b[0m \u001b[30mcould\u001b[0m \u001b[5m\u001b[101m\u001b[97mnot\u001b[0m \u001b[43m\u001b[30mor\u001b[0m \u001b[43m\u001b[30mwould\u001b[0m \u001b[30m[NEG] not\u001b[0m \u001b[43m\u001b[30mhave\u001b[0m \u001b[30mtold\u001b[0m \u001b[30myou\u001b[0m \u001b[30mmuch\u001b[0m \u001b[30m.\u001b[0m \n",
      "\n",
      "60\n",
      "Cue context: ... mind \u001b[7m\u001b[4m\u001b[30mnothing\u001b[0m could ...\n",
      "\u001b[42m\u001b[30mOn\u001b[0m \u001b[42m\u001b[30mthe\u001b[0m \u001b[42m\u001b[30mcontrary\u001b[0m \u001b[42m\u001b[30m,\u001b[0m \u001b[42m\u001b[30mto\u001b[0m \u001b[30mmy\u001b[0m \u001b[30mmind\u001b[0m \u001b[30m[NEG] nothing\u001b[0m \u001b[42m\u001b[30mcould\u001b[0m \u001b[30mbe\u001b[0m \u001b[30mmore\u001b[0m \u001b[30mclear\u001b[0m \n",
      "\u001b[43m\u001b[30mOn\u001b[0m \u001b[43m\u001b[30mthe\u001b[0m \u001b[43m\u001b[30mcontrary\u001b[0m \u001b[43m\u001b[30m,\u001b[0m \u001b[43m\u001b[30mto\u001b[0m \u001b[30mmy\u001b[0m \u001b[30mmind\u001b[0m \u001b[5m\u001b[41m\u001b[30m[NEG] nothing\u001b[0m \u001b[43m\u001b[30mcould\u001b[0m \u001b[30mbe\u001b[0m \u001b[30mmore\u001b[0m \u001b[30mclear\u001b[0m \n",
      "\n",
      "61\n",
      "Cue context: ... would \u001b[7m\u001b[4m\u001b[30mundoubtedly\u001b[0m have ...\n",
      "\u001b[42m\u001b[30mquarrel\u001b[0m \u001b[42m\u001b[30mhad\u001b[0m \u001b[42m\u001b[30mput\u001b[0m \u001b[42m\u001b[30ma\u001b[0m \u001b[42m\u001b[30mstop\u001b[0m \u001b[42m\u001b[30mto\u001b[0m \u001b[42m\u001b[30mall\u001b[0m \u001b[42m\u001b[30mcommunications\u001b[0m \u001b[42m\u001b[30mfor\u001b[0m \u001b[42m\u001b[30msome\u001b[0m \u001b[42m\u001b[30mmonths\u001b[0m \u001b[42m\u001b[30m,\u001b[0m \u001b[42m\u001b[30mso\u001b[0m \u001b[42m\u001b[30mthat\u001b[0m \u001b[42m\u001b[30mif\u001b[0m \u001b[42m\u001b[30mBrowner\u001b[0m \u001b[42m\u001b[30mhad\u001b[0m \u001b[42m\u001b[30moccasion\u001b[0m \u001b[42m\u001b[30mto\u001b[0m \u001b[42m\u001b[30maddress\u001b[0m \u001b[42m\u001b[30ma\u001b[0m \u001b[42m\u001b[30mpacket\u001b[0m \u001b[42m\u001b[30mto\u001b[0m \u001b[42m\u001b[30mMiss\u001b[0m \u001b[42m\u001b[30mSarah\u001b[0m \u001b[42m\u001b[30m,\u001b[0m \u001b[42m\u001b[30mhe\u001b[0m \u001b[42m\u001b[30mwould\u001b[0m \u001b[42m\u001b[30m[NEG] undoubtedly\u001b[0m \u001b[30mhave\u001b[0m \u001b[42m\u001b[30mdone\u001b[0m \u001b[42m\u001b[30mso\u001b[0m \u001b[42m\u001b[30mto\u001b[0m \u001b[42m\u001b[30mher\u001b[0m \u001b[42m\u001b[30mold\u001b[0m \u001b[42m\u001b[30maddress\u001b[0m \n",
      "\u001b[43m\u001b[30mquarrel\u001b[0m \u001b[43m\u001b[30mhad\u001b[0m \u001b[43m\u001b[30mput\u001b[0m \u001b[43m\u001b[30ma\u001b[0m \u001b[43m\u001b[30mstop\u001b[0m \u001b[43m\u001b[30mto\u001b[0m \u001b[43m\u001b[30mall\u001b[0m \u001b[43m\u001b[30mcommunications\u001b[0m \u001b[43m\u001b[30mfor\u001b[0m \u001b[43m\u001b[30msome\u001b[0m \u001b[43m\u001b[30mmonths\u001b[0m \u001b[43m\u001b[30m,\u001b[0m \u001b[43m\u001b[30mso\u001b[0m \u001b[43m\u001b[30mthat\u001b[0m \u001b[43m\u001b[30mif\u001b[0m \u001b[43m\u001b[30mBrowner\u001b[0m \u001b[43m\u001b[30mhad\u001b[0m \u001b[43m\u001b[30moccasion\u001b[0m \u001b[43m\u001b[30mto\u001b[0m \u001b[43m\u001b[30maddress\u001b[0m \u001b[43m\u001b[30ma\u001b[0m \u001b[43m\u001b[30mpacket\u001b[0m \u001b[43m\u001b[30mto\u001b[0m \u001b[43m\u001b[30mMiss\u001b[0m \u001b[43m\u001b[30mSarah\u001b[0m \u001b[43m\u001b[30m,\u001b[0m \u001b[43m\u001b[30mhe\u001b[0m \u001b[5m\u001b[101m\u001b[97mwould\u001b[0m \u001b[5m\u001b[101m\u001b[97m[NEG] undoubtedly\u001b[0m \u001b[5m\u001b[41m\u001b[30mhave\u001b[0m \u001b[5m\u001b[101m\u001b[97mdone\u001b[0m \u001b[5m\u001b[101m\u001b[97mso\u001b[0m \u001b[5m\u001b[101m\u001b[97mto\u001b[0m \u001b[5m\u001b[101m\u001b[97mher\u001b[0m \u001b[5m\u001b[101m\u001b[97mold\u001b[0m \u001b[5m\u001b[101m\u001b[97maddress\u001b[0m \n",
      "\n",
      "62\n",
      "Cue context: ... exceedingly \u001b[7m\u001b[4m\u001b[30munlikely\u001b[0m , ...\n",
      "\u001b[42m\u001b[30mA\u001b[0m \u001b[42m\u001b[30msecond\u001b[0m \u001b[42m\u001b[30msolution\u001b[0m \u001b[42m\u001b[30mwas\u001b[0m \u001b[42m\u001b[30mat\u001b[0m \u001b[42m\u001b[30mthis\u001b[0m \u001b[42m\u001b[30mstage\u001b[0m \u001b[42m\u001b[30mobviously\u001b[0m \u001b[42m\u001b[30mpossible\u001b[0m \u001b[42m\u001b[30m,\u001b[0m \u001b[42m\u001b[30mand\u001b[0m \u001b[42m\u001b[30malthough\u001b[0m \u001b[42m\u001b[30mI\u001b[0m \u001b[30mthought\u001b[0m \u001b[30mit\u001b[0m \u001b[30mexceedingly\u001b[0m \u001b[30m[NEG] unlikely\u001b[0m \u001b[30m,\u001b[0m \u001b[42m\u001b[30mI\u001b[0m \u001b[42m\u001b[30mwas\u001b[0m \u001b[42m\u001b[30mdetermined\u001b[0m \u001b[42m\u001b[30mto\u001b[0m \u001b[42m\u001b[30melucidate\u001b[0m \u001b[42m\u001b[30mit\u001b[0m \u001b[42m\u001b[30mbefore\u001b[0m \u001b[42m\u001b[30mgoing\u001b[0m \u001b[42m\u001b[30mfurther\u001b[0m \n",
      "\u001b[43m\u001b[30mA\u001b[0m \u001b[43m\u001b[30msecond\u001b[0m \u001b[43m\u001b[30msolution\u001b[0m \u001b[43m\u001b[30mwas\u001b[0m \u001b[43m\u001b[30mat\u001b[0m \u001b[43m\u001b[30mthis\u001b[0m \u001b[43m\u001b[30mstage\u001b[0m \u001b[43m\u001b[30mobviously\u001b[0m \u001b[43m\u001b[30mpossible\u001b[0m \u001b[43m\u001b[30m,\u001b[0m \u001b[43m\u001b[30mand\u001b[0m \u001b[43m\u001b[30malthough\u001b[0m \u001b[43m\u001b[30mI\u001b[0m \u001b[5m\u001b[41m\u001b[30mthought\u001b[0m \u001b[5m\u001b[41m\u001b[30mit\u001b[0m \u001b[5m\u001b[41m\u001b[30mexceedingly\u001b[0m \u001b[30m[NEG] unlikely\u001b[0m \u001b[30m,\u001b[0m \u001b[43m\u001b[30mI\u001b[0m \u001b[43m\u001b[30mwas\u001b[0m \u001b[43m\u001b[30mdetermined\u001b[0m \u001b[43m\u001b[30mto\u001b[0m \u001b[43m\u001b[30melucidate\u001b[0m \u001b[43m\u001b[30mit\u001b[0m \u001b[43m\u001b[30mbefore\u001b[0m \u001b[43m\u001b[30mgoing\u001b[0m \u001b[43m\u001b[30mfurther\u001b[0m \n",
      "\n",
      "63\n",
      "Cue context: ... have \u001b[7m\u001b[4m\u001b[30mno\u001b[0m heart ...\n",
      "\u001b[42m\u001b[30mjumped\u001b[0m \u001b[42m\u001b[30mup\u001b[0m \u001b[42m\u001b[30mwhen\u001b[0m \u001b[42m\u001b[30mhe\u001b[0m \u001b[42m\u001b[30mheard\u001b[0m \u001b[42m\u001b[30mmy\u001b[0m \u001b[42m\u001b[30mbusiness\u001b[0m \u001b[42m\u001b[30m,\u001b[0m \u001b[42m\u001b[30mand\u001b[0m \u001b[42m\u001b[30mI\u001b[0m \u001b[42m\u001b[30mhad\u001b[0m \u001b[42m\u001b[30mmy\u001b[0m \u001b[42m\u001b[30mwhistle\u001b[0m \u001b[42m\u001b[30mto\u001b[0m \u001b[42m\u001b[30mmy\u001b[0m \u001b[42m\u001b[30mlips\u001b[0m \u001b[42m\u001b[30mto\u001b[0m \u001b[42m\u001b[30mcall\u001b[0m \u001b[42m\u001b[30ma\u001b[0m \u001b[42m\u001b[30mcouple\u001b[0m \u001b[42m\u001b[30mof\u001b[0m \u001b[42m\u001b[30mriver\u001b[0m \u001b[42m\u001b[30mpolice\u001b[0m \u001b[42m\u001b[30m,\u001b[0m \u001b[42m\u001b[30mwho\u001b[0m \u001b[42m\u001b[30mwere\u001b[0m \u001b[42m\u001b[30mround\u001b[0m \u001b[42m\u001b[30mthe\u001b[0m \u001b[42m\u001b[30mcorner\u001b[0m \u001b[42m\u001b[30m,\u001b[0m \u001b[42m\u001b[30mbut\u001b[0m \u001b[42m\u001b[30mhe\u001b[0m \u001b[30mseemed\u001b[0m \u001b[42m\u001b[30mto\u001b[0m \u001b[42m\u001b[30mhave\u001b[0m \u001b[30m[NEG] no\u001b[0m \u001b[42m\u001b[30mheart\u001b[0m \u001b[30min\u001b[0m \u001b[30mhim\u001b[0m \u001b[30m,\u001b[0m \u001b[42m\u001b[30mand\u001b[0m \u001b[42m\u001b[30mhe\u001b[0m \u001b[42m\u001b[30mheld\u001b[0m \u001b[42m\u001b[30mout\u001b[0m \u001b[42m\u001b[30mhis\u001b[0m \u001b[42m\u001b[30mhands\u001b[0m \u001b[42m\u001b[30mquietly\u001b[0m \u001b[42m\u001b[30menough\u001b[0m \u001b[42m\u001b[30mfor\u001b[0m \u001b[42m\u001b[30mthe\u001b[0m \u001b[42m\u001b[30mdarbies\u001b[0m \n",
      "\u001b[43m\u001b[30mjumped\u001b[0m \u001b[43m\u001b[30mup\u001b[0m \u001b[43m\u001b[30mwhen\u001b[0m \u001b[43m\u001b[30mhe\u001b[0m \u001b[43m\u001b[30mheard\u001b[0m \u001b[43m\u001b[30mmy\u001b[0m \u001b[43m\u001b[30mbusiness\u001b[0m \u001b[43m\u001b[30m,\u001b[0m \u001b[43m\u001b[30mand\u001b[0m \u001b[43m\u001b[30mI\u001b[0m \u001b[43m\u001b[30mhad\u001b[0m \u001b[43m\u001b[30mmy\u001b[0m \u001b[43m\u001b[30mwhistle\u001b[0m \u001b[43m\u001b[30mto\u001b[0m \u001b[43m\u001b[30mmy\u001b[0m \u001b[43m\u001b[30mlips\u001b[0m \u001b[43m\u001b[30mto\u001b[0m \u001b[43m\u001b[30mcall\u001b[0m \u001b[43m\u001b[30ma\u001b[0m \u001b[43m\u001b[30mcouple\u001b[0m \u001b[43m\u001b[30mof\u001b[0m \u001b[43m\u001b[30mriver\u001b[0m \u001b[43m\u001b[30mpolice\u001b[0m \u001b[43m\u001b[30m,\u001b[0m \u001b[43m\u001b[30mwho\u001b[0m \u001b[43m\u001b[30mwere\u001b[0m \u001b[43m\u001b[30mround\u001b[0m \u001b[43m\u001b[30mthe\u001b[0m \u001b[43m\u001b[30mcorner\u001b[0m \u001b[43m\u001b[30m,\u001b[0m \u001b[43m\u001b[30mbut\u001b[0m \u001b[43m\u001b[30mhe\u001b[0m \u001b[30mseemed\u001b[0m \u001b[5m\u001b[101m\u001b[97mto\u001b[0m \u001b[5m\u001b[101m\u001b[97mhave\u001b[0m \u001b[30m[NEG] no\u001b[0m \u001b[43m\u001b[30mheart\u001b[0m \u001b[30min\u001b[0m \u001b[30mhim\u001b[0m \u001b[30m,\u001b[0m \u001b[43m\u001b[30mand\u001b[0m \u001b[43m\u001b[30mhe\u001b[0m \u001b[43m\u001b[30mheld\u001b[0m \u001b[43m\u001b[30mout\u001b[0m \u001b[43m\u001b[30mhis\u001b[0m \u001b[43m\u001b[30mhands\u001b[0m \u001b[43m\u001b[30mquietly\u001b[0m \u001b[43m\u001b[30menough\u001b[0m \u001b[43m\u001b[30mfor\u001b[0m \u001b[43m\u001b[30mthe\u001b[0m \u001b[43m\u001b[30mdarbies\u001b[0m \n",
      "\n",
      "64\n",
      "Cue context: ... had \u001b[7m\u001b[4m\u001b[30mnever\u001b[0m a ...\n",
      "\u001b[42m\u001b[30mwhen\u001b[0m \u001b[42m\u001b[30mlittle\u001b[0m \u001b[42m\u001b[30mMary\u001b[0m \u001b[42m\u001b[30mwas\u001b[0m \u001b[42m\u001b[30mthere\u001b[0m \u001b[42m\u001b[30mI\u001b[0m \u001b[30mhad\u001b[0m \u001b[30m[NEG] never\u001b[0m \u001b[42m\u001b[30ma\u001b[0m \u001b[30mthought\u001b[0m \u001b[30mof\u001b[0m \u001b[30mher\u001b[0m \u001b[30m,\u001b[0m \u001b[42m\u001b[30mand\u001b[0m \u001b[42m\u001b[30mthat\u001b[0m \u001b[42m\u001b[30mI\u001b[0m \u001b[42m\u001b[30mswear\u001b[0m \u001b[42m\u001b[30mas\u001b[0m \u001b[42m\u001b[30mI\u001b[0m \u001b[42m\u001b[30mhope\u001b[0m \u001b[42m\u001b[30mfor\u001b[0m \u001b[42m\u001b[30mGod\u001b[0m \u001b[42m\u001b[30m's\u001b[0m \u001b[42m\u001b[30mmercy\u001b[0m \n",
      "\u001b[43m\u001b[30mwhen\u001b[0m \u001b[5m\u001b[101m\u001b[97mlittle\u001b[0m \u001b[43m\u001b[30mMary\u001b[0m \u001b[43m\u001b[30mwas\u001b[0m \u001b[5m\u001b[101m\u001b[97mthere\u001b[0m \u001b[43m\u001b[30mI\u001b[0m \u001b[30mhad\u001b[0m \u001b[30m[NEG] never\u001b[0m \u001b[43m\u001b[30ma\u001b[0m \u001b[30mthought\u001b[0m \u001b[30mof\u001b[0m \u001b[30mher\u001b[0m \u001b[30m,\u001b[0m \u001b[43m\u001b[30mand\u001b[0m \u001b[43m\u001b[30mthat\u001b[0m \u001b[43m\u001b[30mI\u001b[0m \u001b[43m\u001b[30mswear\u001b[0m \u001b[43m\u001b[30mas\u001b[0m \u001b[43m\u001b[30mI\u001b[0m \u001b[43m\u001b[30mhope\u001b[0m \u001b[43m\u001b[30mfor\u001b[0m \u001b[43m\u001b[30mGod\u001b[0m \u001b[43m\u001b[30m's\u001b[0m \u001b[43m\u001b[30mmercy\u001b[0m \n",
      "\n",
      "65\n",
      "Cue context: ... , \u001b[7m\u001b[4m\u001b[30mnor\u001b[0m for ...\n",
      "\u001b[30mwas\u001b[0m \u001b[30mno\u001b[0m \u001b[42m\u001b[30mneed\u001b[0m \u001b[30mfor\u001b[0m \u001b[42m\u001b[30mher\u001b[0m \u001b[42m\u001b[30mto\u001b[0m \u001b[30mspeak\u001b[0m \u001b[30m,\u001b[0m \u001b[42m\u001b[30m[NEG] nor\u001b[0m \u001b[42m\u001b[30mfor\u001b[0m \u001b[30mme\u001b[0m \u001b[30meither\u001b[0m \n",
      "\u001b[5m\u001b[41m\u001b[30mwas\u001b[0m \u001b[5m\u001b[41m\u001b[30mno\u001b[0m \u001b[43m\u001b[30mneed\u001b[0m \u001b[5m\u001b[41m\u001b[30mfor\u001b[0m \u001b[43m\u001b[30mher\u001b[0m \u001b[43m\u001b[30mto\u001b[0m \u001b[5m\u001b[41m\u001b[30mspeak\u001b[0m \u001b[5m\u001b[41m\u001b[30m,\u001b[0m \u001b[43m\u001b[30m[NEG] nor\u001b[0m \u001b[43m\u001b[30mfor\u001b[0m \u001b[30mme\u001b[0m \u001b[30meither\u001b[0m \n",
      "\n",
      "66\n",
      "Cue context: ... had \u001b[7m\u001b[4m\u001b[30mceaseless\u001b[0m rows ...\n",
      "\u001b[42m\u001b[30mby\u001b[0m \u001b[42m\u001b[30mday\u001b[0m \u001b[42m\u001b[30mshe\u001b[0m \u001b[42m\u001b[30mgrew\u001b[0m \u001b[42m\u001b[30mqueerer\u001b[0m \u001b[42m\u001b[30mand\u001b[0m \u001b[42m\u001b[30mmore\u001b[0m \u001b[42m\u001b[30mirritable\u001b[0m \u001b[42m\u001b[30m,\u001b[0m \u001b[42m\u001b[30mand\u001b[0m \u001b[42m\u001b[30mwe\u001b[0m \u001b[42m\u001b[30mhad\u001b[0m \u001b[42m\u001b[30m[NEG] ceaseless\u001b[0m \u001b[30mrows\u001b[0m \u001b[30mabout\u001b[0m \u001b[42m\u001b[30mnothing\u001b[0m \n",
      "\u001b[43m\u001b[30mby\u001b[0m \u001b[43m\u001b[30mday\u001b[0m \u001b[43m\u001b[30mshe\u001b[0m \u001b[43m\u001b[30mgrew\u001b[0m \u001b[43m\u001b[30mqueerer\u001b[0m \u001b[43m\u001b[30mand\u001b[0m \u001b[43m\u001b[30mmore\u001b[0m \u001b[43m\u001b[30mirritable\u001b[0m \u001b[43m\u001b[30m,\u001b[0m \u001b[43m\u001b[30mand\u001b[0m \u001b[43m\u001b[30mwe\u001b[0m \u001b[5m\u001b[101m\u001b[97mhad\u001b[0m \u001b[5m\u001b[101m\u001b[97m[NEG] ceaseless\u001b[0m \u001b[30mrows\u001b[0m \u001b[30mabout\u001b[0m \u001b[5m\u001b[101m\u001b[97mnothing\u001b[0m \n",
      "\n",
      "67\n",
      "Cue context: ... just \u001b[7m\u001b[4m\u001b[30minseparable\u001b[0m . ...\n",
      "\u001b[42m\u001b[30mavoided\u001b[0m \u001b[42m\u001b[30mme\u001b[0m \u001b[42m\u001b[30mnow\u001b[0m \u001b[42m\u001b[30m,\u001b[0m \u001b[42m\u001b[30mbut\u001b[0m \u001b[42m\u001b[30mshe\u001b[0m \u001b[30mand\u001b[0m \u001b[30mMary\u001b[0m \u001b[30mwere\u001b[0m \u001b[30mjust\u001b[0m \u001b[30m[NEG] inseparable\u001b[0m \n",
      "\u001b[43m\u001b[30mavoided\u001b[0m \u001b[43m\u001b[30mme\u001b[0m \u001b[43m\u001b[30mnow\u001b[0m \u001b[43m\u001b[30m,\u001b[0m \u001b[43m\u001b[30mbut\u001b[0m \u001b[43m\u001b[30mshe\u001b[0m \u001b[5m\u001b[41m\u001b[30mand\u001b[0m \u001b[5m\u001b[41m\u001b[30mMary\u001b[0m \u001b[5m\u001b[41m\u001b[30mwere\u001b[0m \u001b[30mjust\u001b[0m \u001b[30m[NEG] inseparable\u001b[0m \n",
      "\n",
      "68\n",
      "Cue context: ... could \u001b[7m\u001b[4m\u001b[30mnot\u001b[0m understand ...\n",
      "\u001b[42m\u001b[30mcan\u001b[0m \u001b[42m\u001b[30msee\u001b[0m \u001b[42m\u001b[30mnow\u001b[0m \u001b[42m\u001b[30mhow\u001b[0m \u001b[42m\u001b[30mshe\u001b[0m \u001b[42m\u001b[30mwas\u001b[0m \u001b[42m\u001b[30mplotting\u001b[0m \u001b[42m\u001b[30mand\u001b[0m \u001b[42m\u001b[30mscheming\u001b[0m \u001b[42m\u001b[30mand\u001b[0m \u001b[42m\u001b[30mpoisoning\u001b[0m \u001b[42m\u001b[30mmy\u001b[0m \u001b[42m\u001b[30mwife\u001b[0m \u001b[42m\u001b[30m's\u001b[0m \u001b[42m\u001b[30mmind\u001b[0m \u001b[42m\u001b[30magainst\u001b[0m \u001b[42m\u001b[30mme\u001b[0m \u001b[42m\u001b[30m,\u001b[0m \u001b[42m\u001b[30mbut\u001b[0m \u001b[42m\u001b[30mI\u001b[0m \u001b[42m\u001b[30mwas\u001b[0m \u001b[42m\u001b[30msuch\u001b[0m \u001b[42m\u001b[30ma\u001b[0m \u001b[42m\u001b[30mblind\u001b[0m \u001b[42m\u001b[30mbeetle\u001b[0m \u001b[42m\u001b[30mthat\u001b[0m \u001b[42m\u001b[30mI\u001b[0m \u001b[30mcould\u001b[0m \u001b[30m[NEG] not\u001b[0m \u001b[42m\u001b[30munderstand\u001b[0m \u001b[30mit\u001b[0m \u001b[30mat\u001b[0m \u001b[30mthe\u001b[0m \u001b[30mtime\u001b[0m \n",
      "\u001b[43m\u001b[30mcan\u001b[0m \u001b[43m\u001b[30msee\u001b[0m \u001b[43m\u001b[30mnow\u001b[0m \u001b[43m\u001b[30mhow\u001b[0m \u001b[43m\u001b[30mshe\u001b[0m \u001b[43m\u001b[30mwas\u001b[0m \u001b[43m\u001b[30mplotting\u001b[0m \u001b[43m\u001b[30mand\u001b[0m \u001b[43m\u001b[30mscheming\u001b[0m \u001b[43m\u001b[30mand\u001b[0m \u001b[43m\u001b[30mpoisoning\u001b[0m \u001b[43m\u001b[30mmy\u001b[0m \u001b[43m\u001b[30mwife\u001b[0m \u001b[43m\u001b[30m's\u001b[0m \u001b[43m\u001b[30mmind\u001b[0m \u001b[43m\u001b[30magainst\u001b[0m \u001b[43m\u001b[30mme\u001b[0m \u001b[43m\u001b[30m,\u001b[0m \u001b[43m\u001b[30mbut\u001b[0m \u001b[43m\u001b[30mI\u001b[0m \u001b[5m\u001b[101m\u001b[97mwas\u001b[0m \u001b[43m\u001b[30msuch\u001b[0m \u001b[43m\u001b[30ma\u001b[0m \u001b[43m\u001b[30mblind\u001b[0m \u001b[43m\u001b[30mbeetle\u001b[0m \u001b[43m\u001b[30mthat\u001b[0m \u001b[43m\u001b[30mI\u001b[0m \u001b[30mcould\u001b[0m \u001b[30m[NEG] not\u001b[0m \u001b[43m\u001b[30munderstand\u001b[0m \u001b[30mit\u001b[0m \u001b[30mat\u001b[0m \u001b[30mthe\u001b[0m \u001b[30mtime\u001b[0m \n",
      "\n",
      "69\n",
      "Cue context: ... wo \u001b[7m\u001b[4m\u001b[30mn't\u001b[0m deny ...\n",
      "\u001b[42m\u001b[30mwas\u001b[0m \u001b[42m\u001b[30mgood\u001b[0m \u001b[42m\u001b[30mcompany\u001b[0m \u001b[42m\u001b[30m,\u001b[0m \u001b[42m\u001b[30mI\u001b[0m \u001b[30mwo\u001b[0m \u001b[30m[NEG] n't\u001b[0m \u001b[42m\u001b[30mdeny\u001b[0m \u001b[30mit\u001b[0m \u001b[30m,\u001b[0m \u001b[42m\u001b[30mand\u001b[0m \u001b[42m\u001b[30mhe\u001b[0m \u001b[42m\u001b[30mhad\u001b[0m \u001b[42m\u001b[30mwonderful\u001b[0m \u001b[42m\u001b[30mpolite\u001b[0m \u001b[42m\u001b[30mways\u001b[0m \u001b[42m\u001b[30mwith\u001b[0m \u001b[42m\u001b[30mhim\u001b[0m \u001b[42m\u001b[30mfor\u001b[0m \u001b[42m\u001b[30ma\u001b[0m \u001b[42m\u001b[30msailor\u001b[0m \u001b[42m\u001b[30mman\u001b[0m \u001b[42m\u001b[30m,\u001b[0m \u001b[42m\u001b[30mso\u001b[0m \u001b[42m\u001b[30mthat\u001b[0m \u001b[42m\u001b[30mI\u001b[0m \u001b[42m\u001b[30mthink\u001b[0m \u001b[42m\u001b[30mthere\u001b[0m \u001b[42m\u001b[30mmust\u001b[0m \u001b[42m\u001b[30mhave\u001b[0m \u001b[42m\u001b[30mbeen\u001b[0m \u001b[42m\u001b[30ma\u001b[0m \u001b[42m\u001b[30mtime\u001b[0m \u001b[42m\u001b[30mwhen\u001b[0m \u001b[42m\u001b[30mhe\u001b[0m \u001b[42m\u001b[30mknew\u001b[0m \u001b[42m\u001b[30mmore\u001b[0m \u001b[42m\u001b[30mof\u001b[0m \u001b[42m\u001b[30mthe\u001b[0m \u001b[42m\u001b[30mpoop\u001b[0m \u001b[42m\u001b[30mthan\u001b[0m \u001b[42m\u001b[30mthe\u001b[0m \u001b[42m\u001b[30mforecastle\u001b[0m \n",
      "\u001b[5m\u001b[101m\u001b[97mwas\u001b[0m \u001b[43m\u001b[30mgood\u001b[0m \u001b[43m\u001b[30mcompany\u001b[0m \u001b[43m\u001b[30m,\u001b[0m \u001b[43m\u001b[30mI\u001b[0m \u001b[30mwo\u001b[0m \u001b[30m[NEG] n't\u001b[0m \u001b[43m\u001b[30mdeny\u001b[0m \u001b[30mit\u001b[0m \u001b[30m,\u001b[0m \u001b[43m\u001b[30mand\u001b[0m \u001b[43m\u001b[30mhe\u001b[0m \u001b[43m\u001b[30mhad\u001b[0m \u001b[43m\u001b[30mwonderful\u001b[0m \u001b[43m\u001b[30mpolite\u001b[0m \u001b[43m\u001b[30mways\u001b[0m \u001b[43m\u001b[30mwith\u001b[0m \u001b[43m\u001b[30mhim\u001b[0m \u001b[43m\u001b[30mfor\u001b[0m \u001b[43m\u001b[30ma\u001b[0m \u001b[43m\u001b[30msailor\u001b[0m \u001b[43m\u001b[30mman\u001b[0m \u001b[43m\u001b[30m,\u001b[0m \u001b[43m\u001b[30mso\u001b[0m \u001b[43m\u001b[30mthat\u001b[0m \u001b[43m\u001b[30mI\u001b[0m \u001b[43m\u001b[30mthink\u001b[0m \u001b[43m\u001b[30mthere\u001b[0m \u001b[43m\u001b[30mmust\u001b[0m \u001b[43m\u001b[30mhave\u001b[0m \u001b[43m\u001b[30mbeen\u001b[0m \u001b[43m\u001b[30ma\u001b[0m \u001b[43m\u001b[30mtime\u001b[0m \u001b[43m\u001b[30mwhen\u001b[0m \u001b[43m\u001b[30mhe\u001b[0m \u001b[43m\u001b[30mknew\u001b[0m \u001b[43m\u001b[30mmore\u001b[0m \u001b[43m\u001b[30mof\u001b[0m \u001b[43m\u001b[30mthe\u001b[0m \u001b[43m\u001b[30mpoop\u001b[0m \u001b[43m\u001b[30mthan\u001b[0m \u001b[43m\u001b[30mthe\u001b[0m \u001b[43m\u001b[30mforecastle\u001b[0m \n",
      "\n",
      "70\n",
      "Cue context: ... parlour \u001b[7m\u001b[4m\u001b[30munexpected\u001b[0m , ...\n",
      "\u001b[30mhad\u001b[0m \u001b[30mcome\u001b[0m \u001b[30minto\u001b[0m \u001b[30mthe\u001b[0m \u001b[30mparlour\u001b[0m \u001b[30m[NEG] unexpected\u001b[0m \u001b[30m,\u001b[0m \u001b[42m\u001b[30mand\u001b[0m \u001b[42m\u001b[30mas\u001b[0m \u001b[42m\u001b[30mI\u001b[0m \u001b[42m\u001b[30mwalked\u001b[0m \u001b[42m\u001b[30min\u001b[0m \u001b[42m\u001b[30mat\u001b[0m \u001b[42m\u001b[30mthe\u001b[0m \u001b[42m\u001b[30mdoor\u001b[0m \u001b[42m\u001b[30mI\u001b[0m \u001b[42m\u001b[30msaw\u001b[0m \u001b[42m\u001b[30ma\u001b[0m \u001b[42m\u001b[30mlight\u001b[0m \u001b[42m\u001b[30mof\u001b[0m \u001b[42m\u001b[30mwelcome\u001b[0m \u001b[42m\u001b[30mon\u001b[0m \u001b[42m\u001b[30mmy\u001b[0m \u001b[42m\u001b[30mwife\u001b[0m \u001b[42m\u001b[30m's\u001b[0m \u001b[42m\u001b[30mface\u001b[0m \n",
      "\u001b[5m\u001b[41m\u001b[30mhad\u001b[0m \u001b[5m\u001b[41m\u001b[30mcome\u001b[0m \u001b[5m\u001b[41m\u001b[30minto\u001b[0m \u001b[5m\u001b[41m\u001b[30mthe\u001b[0m \u001b[5m\u001b[41m\u001b[30mparlour\u001b[0m \u001b[30m[NEG] unexpected\u001b[0m \u001b[30m,\u001b[0m \u001b[43m\u001b[30mand\u001b[0m \u001b[43m\u001b[30mas\u001b[0m \u001b[43m\u001b[30mI\u001b[0m \u001b[43m\u001b[30mwalked\u001b[0m \u001b[43m\u001b[30min\u001b[0m \u001b[43m\u001b[30mat\u001b[0m \u001b[43m\u001b[30mthe\u001b[0m \u001b[43m\u001b[30mdoor\u001b[0m \u001b[43m\u001b[30mI\u001b[0m \u001b[43m\u001b[30msaw\u001b[0m \u001b[43m\u001b[30ma\u001b[0m \u001b[43m\u001b[30mlight\u001b[0m \u001b[43m\u001b[30mof\u001b[0m \u001b[43m\u001b[30mwelcome\u001b[0m \u001b[43m\u001b[30mon\u001b[0m \u001b[43m\u001b[30mmy\u001b[0m \u001b[43m\u001b[30mwife\u001b[0m \u001b[43m\u001b[30m's\u001b[0m \u001b[43m\u001b[30mface\u001b[0m \n",
      "\n",
      "71\n",
      "Cue context: ... was \u001b[7m\u001b[4m\u001b[30mno\u001b[0m one ...\n",
      "\u001b[30mwas\u001b[0m \u001b[30m[NEG] no\u001b[0m \u001b[42m\u001b[30mone\u001b[0m \u001b[30mbut\u001b[0m \u001b[30mAlec\u001b[0m \u001b[30mFairbairn\u001b[0m \u001b[30mwhose\u001b[0m \u001b[30mstep\u001b[0m \u001b[30mshe\u001b[0m \u001b[30mcould\u001b[0m \u001b[30mhave\u001b[0m \u001b[30mmistaken\u001b[0m \u001b[30mfor\u001b[0m \u001b[30mmine\u001b[0m \n",
      "\u001b[30mwas\u001b[0m \u001b[30m[NEG] no\u001b[0m \u001b[43m\u001b[30mone\u001b[0m \u001b[30mbut\u001b[0m \u001b[30mAlec\u001b[0m \u001b[30mFairbairn\u001b[0m \u001b[30mwhose\u001b[0m \u001b[30mstep\u001b[0m \u001b[5m\u001b[41m\u001b[30mshe\u001b[0m \u001b[5m\u001b[41m\u001b[30mcould\u001b[0m \u001b[5m\u001b[41m\u001b[30mhave\u001b[0m \u001b[5m\u001b[41m\u001b[30mmistaken\u001b[0m \u001b[5m\u001b[41m\u001b[30mfor\u001b[0m \u001b[5m\u001b[41m\u001b[30mmine\u001b[0m \n",
      "\n",
      "72\n",
      "Cue context: ... Why \u001b[7m\u001b[4m\u001b[30mnot\u001b[0m ? ...\n",
      "\u001b[42m\u001b[30mWhy\u001b[0m \u001b[42m\u001b[30m[NEG] not\u001b[0m \u001b[42m\u001b[30m?\u001b[0m \u001b[42m\u001b[30m''\u001b[0m \u001b[42m\u001b[30msays\u001b[0m \u001b[42m\u001b[30mshe\u001b[0m \n",
      "\u001b[43m\u001b[30mWhy\u001b[0m \u001b[5m\u001b[101m\u001b[97m[NEG] not\u001b[0m \u001b[43m\u001b[30m?\u001b[0m \u001b[43m\u001b[30m''\u001b[0m \u001b[43m\u001b[30msays\u001b[0m \u001b[43m\u001b[30mshe\u001b[0m \n",
      "\n",
      "73\n",
      "Cue context: ... am \u001b[7m\u001b[4m\u001b[30mnot\u001b[0m good ...\n",
      "\u001b[42m\u001b[30mOh\u001b[0m \u001b[42m\u001b[30m!\u001b[0m \u001b[42m\u001b[30m''\u001b[0m \u001b[42m\u001b[30msays\u001b[0m \u001b[42m\u001b[30mshe\u001b[0m \u001b[42m\u001b[30m,\u001b[0m \u001b[42m\u001b[30m``\u001b[0m \u001b[42m\u001b[30mif\u001b[0m \u001b[30mmy\u001b[0m \u001b[30mfriends\u001b[0m \u001b[30mare\u001b[0m \u001b[30mnot\u001b[0m \u001b[30mgood\u001b[0m \u001b[30menough\u001b[0m \u001b[30mfor\u001b[0m \u001b[30mthis\u001b[0m \u001b[30mhouse\u001b[0m \u001b[30m,\u001b[0m \u001b[42m\u001b[30mthen\u001b[0m \u001b[30mI\u001b[0m \u001b[30mam\u001b[0m \u001b[30m[NEG] not\u001b[0m \u001b[42m\u001b[30mgood\u001b[0m \u001b[30menough\u001b[0m \u001b[30mfor\u001b[0m \u001b[30mit\u001b[0m \u001b[30meither\u001b[0m \u001b[30m.\u001b[0m \n",
      "\u001b[43m\u001b[30mOh\u001b[0m \u001b[43m\u001b[30m!\u001b[0m \u001b[43m\u001b[30m''\u001b[0m \u001b[43m\u001b[30msays\u001b[0m \u001b[43m\u001b[30mshe\u001b[0m \u001b[43m\u001b[30m,\u001b[0m \u001b[43m\u001b[30m``\u001b[0m \u001b[43m\u001b[30mif\u001b[0m \u001b[5m\u001b[41m\u001b[30mmy\u001b[0m \u001b[5m\u001b[41m\u001b[30mfriends\u001b[0m \u001b[5m\u001b[41m\u001b[30mare\u001b[0m \u001b[5m\u001b[41m\u001b[30mnot\u001b[0m \u001b[5m\u001b[41m\u001b[30mgood\u001b[0m \u001b[5m\u001b[41m\u001b[30menough\u001b[0m \u001b[5m\u001b[41m\u001b[30mfor\u001b[0m \u001b[5m\u001b[41m\u001b[30mthis\u001b[0m \u001b[5m\u001b[41m\u001b[30mhouse\u001b[0m \u001b[5m\u001b[41m\u001b[30m,\u001b[0m \u001b[43m\u001b[30mthen\u001b[0m \u001b[5m\u001b[41m\u001b[30mI\u001b[0m \u001b[30mam\u001b[0m \u001b[30m[NEG] not\u001b[0m \u001b[43m\u001b[30mgood\u001b[0m \u001b[30menough\u001b[0m \u001b[30mfor\u001b[0m \u001b[30mit\u001b[0m \u001b[30meither\u001b[0m \u001b[30m.\u001b[0m \n",
      "\n",
      "74\n",
      "Cue context: ... do \u001b[7m\u001b[4m\u001b[30mn't\u001b[0m know ...\n",
      "\u001b[42m\u001b[30m`\u001b[0m \u001b[42m\u001b[30mWell\u001b[0m \u001b[42m\u001b[30m,\u001b[0m \u001b[42m\u001b[30mI\u001b[0m \u001b[30mdo\u001b[0m \u001b[30m[NEG] n't\u001b[0m \u001b[42m\u001b[30mknow\u001b[0m \u001b[30mnow\u001b[0m \u001b[30mwhether\u001b[0m \u001b[30mit\u001b[0m \u001b[30mwas\u001b[0m \u001b[30mpure\u001b[0m \u001b[30mdevilry\u001b[0m \u001b[30mon\u001b[0m \u001b[30mthe\u001b[0m \u001b[30mpart\u001b[0m \u001b[30mof\u001b[0m \u001b[30mthis\u001b[0m \u001b[30mwoman\u001b[0m \u001b[30m,\u001b[0m \u001b[30mor\u001b[0m \u001b[30mwhether\u001b[0m \u001b[30mshe\u001b[0m \u001b[30mthought\u001b[0m \u001b[30mthat\u001b[0m \u001b[30mshe\u001b[0m \u001b[30mcould\u001b[0m \u001b[30mturn\u001b[0m \u001b[30mme\u001b[0m \u001b[30magainst\u001b[0m \u001b[30mmy\u001b[0m \u001b[30mwife\u001b[0m \u001b[30mby\u001b[0m \u001b[30mencouraging\u001b[0m \u001b[30mher\u001b[0m \u001b[30mto\u001b[0m \u001b[30mmisbehave\u001b[0m \n",
      "\u001b[43m\u001b[30m`\u001b[0m \u001b[43m\u001b[30mWell\u001b[0m \u001b[43m\u001b[30m,\u001b[0m \u001b[43m\u001b[30mI\u001b[0m \u001b[30mdo\u001b[0m \u001b[30m[NEG] n't\u001b[0m \u001b[43m\u001b[30mknow\u001b[0m \u001b[30mnow\u001b[0m \u001b[30mwhether\u001b[0m \u001b[30mit\u001b[0m \u001b[30mwas\u001b[0m \u001b[30mpure\u001b[0m \u001b[30mdevilry\u001b[0m \u001b[30mon\u001b[0m \u001b[30mthe\u001b[0m \u001b[30mpart\u001b[0m \u001b[30mof\u001b[0m \u001b[30mthis\u001b[0m \u001b[30mwoman\u001b[0m \u001b[30m,\u001b[0m \u001b[30mor\u001b[0m \u001b[30mwhether\u001b[0m \u001b[30mshe\u001b[0m \u001b[30mthought\u001b[0m \u001b[30mthat\u001b[0m \u001b[5m\u001b[41m\u001b[30mshe\u001b[0m \u001b[5m\u001b[41m\u001b[30mcould\u001b[0m \u001b[5m\u001b[41m\u001b[30mturn\u001b[0m \u001b[5m\u001b[41m\u001b[30mme\u001b[0m \u001b[30magainst\u001b[0m \u001b[5m\u001b[41m\u001b[30mmy\u001b[0m \u001b[30mwife\u001b[0m \u001b[30mby\u001b[0m \u001b[30mencouraging\u001b[0m \u001b[30mher\u001b[0m \u001b[30mto\u001b[0m \u001b[30mmisbehave\u001b[0m \n",
      "\n",
      "75\n",
      "Cue context: ... with \u001b[7m\u001b[4m\u001b[30mnever\u001b[0m a ...\n",
      "\u001b[42m\u001b[30mthought\u001b[0m \u001b[42m\u001b[30mwas\u001b[0m \u001b[42m\u001b[30min\u001b[0m \u001b[42m\u001b[30mmy\u001b[0m \u001b[42m\u001b[30mhead\u001b[0m \u001b[42m\u001b[30mas\u001b[0m \u001b[42m\u001b[30mI\u001b[0m \u001b[42m\u001b[30mturned\u001b[0m \u001b[42m\u001b[30minto\u001b[0m \u001b[42m\u001b[30mmy\u001b[0m \u001b[42m\u001b[30mown\u001b[0m \u001b[42m\u001b[30mstreet\u001b[0m \u001b[42m\u001b[30m,\u001b[0m \u001b[42m\u001b[30mand\u001b[0m \u001b[42m\u001b[30mat\u001b[0m \u001b[42m\u001b[30mthat\u001b[0m \u001b[42m\u001b[30mmoment\u001b[0m \u001b[42m\u001b[30ma\u001b[0m \u001b[42m\u001b[30mcab\u001b[0m \u001b[42m\u001b[30mpassed\u001b[0m \u001b[42m\u001b[30mme\u001b[0m \u001b[42m\u001b[30m,\u001b[0m \u001b[42m\u001b[30mand\u001b[0m \u001b[42m\u001b[30mthere\u001b[0m \u001b[42m\u001b[30mshe\u001b[0m \u001b[42m\u001b[30mwas\u001b[0m \u001b[42m\u001b[30m,\u001b[0m \u001b[42m\u001b[30msitting\u001b[0m \u001b[42m\u001b[30mby\u001b[0m \u001b[42m\u001b[30mthe\u001b[0m \u001b[42m\u001b[30mside\u001b[0m \u001b[42m\u001b[30mof\u001b[0m \u001b[42m\u001b[30mFairbairn\u001b[0m \u001b[42m\u001b[30m,\u001b[0m \u001b[42m\u001b[30mthe\u001b[0m \u001b[42m\u001b[30mtwo\u001b[0m \u001b[42m\u001b[30mchatting\u001b[0m \u001b[42m\u001b[30mand\u001b[0m \u001b[42m\u001b[30mlaughing\u001b[0m \u001b[42m\u001b[30m,\u001b[0m \u001b[42m\u001b[30mwith\u001b[0m \u001b[42m\u001b[30m[NEG] never\u001b[0m \u001b[42m\u001b[30ma\u001b[0m \u001b[30mthought\u001b[0m \u001b[30mfor\u001b[0m \u001b[30mme\u001b[0m \u001b[30mas\u001b[0m \u001b[30mI\u001b[0m \u001b[30mstood\u001b[0m \u001b[30mwatching\u001b[0m \u001b[30mthem\u001b[0m \u001b[30mfrom\u001b[0m \u001b[30mthe\u001b[0m \u001b[30mfootpath\u001b[0m \n",
      "\u001b[43m\u001b[30mthought\u001b[0m \u001b[43m\u001b[30mwas\u001b[0m \u001b[43m\u001b[30min\u001b[0m \u001b[43m\u001b[30mmy\u001b[0m \u001b[43m\u001b[30mhead\u001b[0m \u001b[43m\u001b[30mas\u001b[0m \u001b[43m\u001b[30mI\u001b[0m \u001b[43m\u001b[30mturned\u001b[0m \u001b[43m\u001b[30minto\u001b[0m \u001b[43m\u001b[30mmy\u001b[0m \u001b[43m\u001b[30mown\u001b[0m \u001b[43m\u001b[30mstreet\u001b[0m \u001b[43m\u001b[30m,\u001b[0m \u001b[43m\u001b[30mand\u001b[0m \u001b[43m\u001b[30mat\u001b[0m \u001b[43m\u001b[30mthat\u001b[0m \u001b[43m\u001b[30mmoment\u001b[0m \u001b[43m\u001b[30ma\u001b[0m \u001b[43m\u001b[30mcab\u001b[0m \u001b[43m\u001b[30mpassed\u001b[0m \u001b[43m\u001b[30mme\u001b[0m \u001b[43m\u001b[30m,\u001b[0m \u001b[43m\u001b[30mand\u001b[0m \u001b[43m\u001b[30mthere\u001b[0m \u001b[43m\u001b[30mshe\u001b[0m \u001b[43m\u001b[30mwas\u001b[0m \u001b[43m\u001b[30m,\u001b[0m \u001b[43m\u001b[30msitting\u001b[0m \u001b[43m\u001b[30mby\u001b[0m \u001b[43m\u001b[30mthe\u001b[0m \u001b[43m\u001b[30mside\u001b[0m \u001b[43m\u001b[30mof\u001b[0m \u001b[43m\u001b[30mFairbairn\u001b[0m \u001b[43m\u001b[30m,\u001b[0m \u001b[43m\u001b[30mthe\u001b[0m \u001b[43m\u001b[30mtwo\u001b[0m \u001b[43m\u001b[30mchatting\u001b[0m \u001b[43m\u001b[30mand\u001b[0m \u001b[43m\u001b[30mlaughing\u001b[0m \u001b[43m\u001b[30m,\u001b[0m \u001b[43m\u001b[30mwith\u001b[0m \u001b[43m\u001b[30m[NEG] never\u001b[0m \u001b[43m\u001b[30ma\u001b[0m \u001b[30mthought\u001b[0m \u001b[30mfor\u001b[0m \u001b[30mme\u001b[0m \u001b[30mas\u001b[0m \u001b[30mI\u001b[0m \u001b[30mstood\u001b[0m \u001b[30mwatching\u001b[0m \u001b[30mthem\u001b[0m \u001b[30mfrom\u001b[0m \u001b[5m\u001b[41m\u001b[30mthe\u001b[0m \u001b[30mfootpath\u001b[0m \n",
      "\n",
      "76\n",
      "Cue context: ... was \u001b[7m\u001b[4m\u001b[30mnot\u001b[0m my ...\n",
      "\u001b[42m\u001b[30m`\u001b[0m \u001b[42m\u001b[30mI\u001b[0m \u001b[42m\u001b[30mtell\u001b[0m \u001b[42m\u001b[30myou\u001b[0m \u001b[42m\u001b[30m,\u001b[0m \u001b[42m\u001b[30mand\u001b[0m \u001b[42m\u001b[30mI\u001b[0m \u001b[42m\u001b[30mgive\u001b[0m \u001b[42m\u001b[30myou\u001b[0m \u001b[42m\u001b[30mmy\u001b[0m \u001b[42m\u001b[30mword\u001b[0m \u001b[42m\u001b[30mfor\u001b[0m \u001b[42m\u001b[30mit\u001b[0m \u001b[42m\u001b[30m,\u001b[0m \u001b[42m\u001b[30mthat\u001b[0m \u001b[42m\u001b[30mfrom\u001b[0m \u001b[30mthat\u001b[0m \u001b[30mmoment\u001b[0m \u001b[30mI\u001b[0m \u001b[30mwas\u001b[0m \u001b[30m[NEG] not\u001b[0m \u001b[42m\u001b[30mmy\u001b[0m \u001b[30mown\u001b[0m \u001b[30mmaster\u001b[0m \u001b[30m,\u001b[0m \u001b[42m\u001b[30mand\u001b[0m \u001b[42m\u001b[30mit\u001b[0m \u001b[42m\u001b[30mis\u001b[0m \u001b[42m\u001b[30mall\u001b[0m \u001b[42m\u001b[30mlike\u001b[0m \u001b[42m\u001b[30ma\u001b[0m \u001b[42m\u001b[30mdim\u001b[0m \u001b[42m\u001b[30mdream\u001b[0m \u001b[42m\u001b[30mwhen\u001b[0m \u001b[42m\u001b[30mI\u001b[0m \u001b[42m\u001b[30mlook\u001b[0m \u001b[42m\u001b[30mback\u001b[0m \u001b[42m\u001b[30mon\u001b[0m \u001b[42m\u001b[30mit\u001b[0m \n",
      "\u001b[43m\u001b[30m`\u001b[0m \u001b[43m\u001b[30mI\u001b[0m \u001b[43m\u001b[30mtell\u001b[0m \u001b[43m\u001b[30myou\u001b[0m \u001b[43m\u001b[30m,\u001b[0m \u001b[43m\u001b[30mand\u001b[0m \u001b[43m\u001b[30mI\u001b[0m \u001b[43m\u001b[30mgive\u001b[0m \u001b[43m\u001b[30myou\u001b[0m \u001b[43m\u001b[30mmy\u001b[0m \u001b[43m\u001b[30mword\u001b[0m \u001b[43m\u001b[30mfor\u001b[0m \u001b[43m\u001b[30mit\u001b[0m \u001b[43m\u001b[30m,\u001b[0m \u001b[43m\u001b[30mthat\u001b[0m \u001b[43m\u001b[30mfrom\u001b[0m \u001b[5m\u001b[41m\u001b[30mthat\u001b[0m \u001b[5m\u001b[41m\u001b[30mmoment\u001b[0m \u001b[5m\u001b[41m\u001b[30mI\u001b[0m \u001b[30mwas\u001b[0m \u001b[30m[NEG] not\u001b[0m \u001b[43m\u001b[30mmy\u001b[0m \u001b[30mown\u001b[0m \u001b[30mmaster\u001b[0m \u001b[30m,\u001b[0m \u001b[43m\u001b[30mand\u001b[0m \u001b[43m\u001b[30mit\u001b[0m \u001b[43m\u001b[30mis\u001b[0m \u001b[43m\u001b[30mall\u001b[0m \u001b[43m\u001b[30mlike\u001b[0m \u001b[43m\u001b[30ma\u001b[0m \u001b[43m\u001b[30mdim\u001b[0m \u001b[43m\u001b[30mdream\u001b[0m \u001b[43m\u001b[30mwhen\u001b[0m \u001b[43m\u001b[30mI\u001b[0m \u001b[43m\u001b[30mlook\u001b[0m \u001b[43m\u001b[30mback\u001b[0m \u001b[43m\u001b[30mon\u001b[0m \u001b[43m\u001b[30mit\u001b[0m \n",
      "\n",
      "77\n",
      "Cue context: ... do \u001b[7m\u001b[4m\u001b[30mn't\u001b[0m , ...\n",
      "\u001b[42m\u001b[30mpity\u001b[0m \u001b[42m\u001b[30m's\u001b[0m \u001b[42m\u001b[30msake\u001b[0m \u001b[42m\u001b[30mdo\u001b[0m \u001b[30m[NEG] n't\u001b[0m \u001b[42m\u001b[30m,\u001b[0m \u001b[42m\u001b[30mand\u001b[0m \u001b[42m\u001b[30mmay\u001b[0m \u001b[42m\u001b[30myou\u001b[0m \u001b[42m\u001b[30mbe\u001b[0m \u001b[42m\u001b[30mtreated\u001b[0m \u001b[42m\u001b[30min\u001b[0m \u001b[42m\u001b[30myour\u001b[0m \u001b[42m\u001b[30mday\u001b[0m \u001b[42m\u001b[30mof\u001b[0m \u001b[42m\u001b[30magony\u001b[0m \u001b[42m\u001b[30mas\u001b[0m \u001b[42m\u001b[30myou\u001b[0m \u001b[42m\u001b[30mtreat\u001b[0m \u001b[42m\u001b[30mme\u001b[0m \u001b[42m\u001b[30mnow\u001b[0m \u001b[42m\u001b[30m.\u001b[0m \n",
      "\u001b[43m\u001b[30mpity\u001b[0m \u001b[5m\u001b[101m\u001b[97m's\u001b[0m \u001b[5m\u001b[101m\u001b[97msake\u001b[0m \u001b[5m\u001b[101m\u001b[97mdo\u001b[0m \u001b[30m[NEG] n't\u001b[0m \u001b[43m\u001b[30m,\u001b[0m \u001b[43m\u001b[30mand\u001b[0m \u001b[43m\u001b[30mmay\u001b[0m \u001b[43m\u001b[30myou\u001b[0m \u001b[43m\u001b[30mbe\u001b[0m \u001b[43m\u001b[30mtreated\u001b[0m \u001b[43m\u001b[30min\u001b[0m \u001b[43m\u001b[30myour\u001b[0m \u001b[43m\u001b[30mday\u001b[0m \u001b[43m\u001b[30mof\u001b[0m \u001b[43m\u001b[30magony\u001b[0m \u001b[43m\u001b[30mas\u001b[0m \u001b[43m\u001b[30myou\u001b[0m \u001b[43m\u001b[30mtreat\u001b[0m \u001b[43m\u001b[30mme\u001b[0m \u001b[43m\u001b[30mnow\u001b[0m \u001b[43m\u001b[30m.\u001b[0m \n",
      "\n",
      "78\n",
      "Cue context: ... is \u001b[7m\u001b[4m\u001b[30munthinkable\u001b[0m . ...\n",
      "\u001b[42m\u001b[30mmust\u001b[0m \u001b[42m\u001b[30mtend\u001b[0m \u001b[42m\u001b[30mto\u001b[0m \u001b[42m\u001b[30msome\u001b[0m \u001b[42m\u001b[30mend\u001b[0m \u001b[42m\u001b[30m,\u001b[0m \u001b[42m\u001b[30mor\u001b[0m \u001b[42m\u001b[30melse\u001b[0m \u001b[42m\u001b[30mour\u001b[0m \u001b[42m\u001b[30muniverse\u001b[0m \u001b[42m\u001b[30mis\u001b[0m \u001b[42m\u001b[30mruled\u001b[0m \u001b[42m\u001b[30mby\u001b[0m \u001b[42m\u001b[30mchance\u001b[0m \u001b[42m\u001b[30m,\u001b[0m \u001b[42m\u001b[30mwhich\u001b[0m \u001b[30mis\u001b[0m \u001b[30m[NEG] unthinkable\u001b[0m \n",
      "\u001b[43m\u001b[30mmust\u001b[0m \u001b[43m\u001b[30mtend\u001b[0m \u001b[43m\u001b[30mto\u001b[0m \u001b[43m\u001b[30msome\u001b[0m \u001b[43m\u001b[30mend\u001b[0m \u001b[43m\u001b[30m,\u001b[0m \u001b[43m\u001b[30mor\u001b[0m \u001b[43m\u001b[30melse\u001b[0m \u001b[43m\u001b[30mour\u001b[0m \u001b[43m\u001b[30muniverse\u001b[0m \u001b[43m\u001b[30mis\u001b[0m \u001b[43m\u001b[30mruled\u001b[0m \u001b[43m\u001b[30mby\u001b[0m \u001b[43m\u001b[30mchance\u001b[0m \u001b[43m\u001b[30m,\u001b[0m \u001b[43m\u001b[30mwhich\u001b[0m \u001b[5m\u001b[41m\u001b[30mis\u001b[0m \u001b[30m[NEG] unthinkable\u001b[0m \n",
      "\n"
     ]
    }
   ],
   "source": [
    "color_sentences(result_df)"
   ]
  },
  {
   "cell_type": "code",
   "execution_count": 27,
   "id": "fe0e4d69-c59c-4ad7-9f56-95a66a51241a",
   "metadata": {},
   "outputs": [],
   "source": [
    "from huggingface_hub import notebook_login"
   ]
  },
  {
   "cell_type": "code",
   "execution_count": 28,
   "id": "f67ab1f2-9d86-4380-8be0-8575fb975f56",
   "metadata": {},
   "outputs": [
    {
     "data": {
      "application/vnd.jupyter.widget-view+json": {
       "model_id": "b1cfa730799a4fd7a576dcaa3c850845",
       "version_major": 2,
       "version_minor": 0
      },
      "text/plain": [
       "VBox(children=(HTML(value='<center> <img\\nsrc=https://huggingface.co/front/assets/huggingface_logo-noborder.sv…"
      ]
     },
     "metadata": {},
     "output_type": "display_data"
    }
   ],
   "source": [
    "notebook_login()"
   ]
  },
  {
   "cell_type": "code",
   "execution_count": 29,
   "id": "4de351ef-7021-474c-9238-3f718b5540d7",
   "metadata": {},
   "outputs": [
    {
     "data": {
      "application/vnd.jupyter.widget-view+json": {
       "model_id": "ec69124e980343319819279ef88b8740",
       "version_major": 2,
       "version_minor": 0
      },
      "text/plain": [
       "training_args.bin:   0%|          | 0.00/4.28k [00:00<?, ?B/s]"
      ]
     },
     "metadata": {},
     "output_type": "display_data"
    },
    {
     "data": {
      "application/vnd.jupyter.widget-view+json": {
       "model_id": "03ee8caede9849e0a3fa4fece46d3e44",
       "version_major": 2,
       "version_minor": 0
      },
      "text/plain": [
       "events.out.tfevents.1715556978.arimo-ThinkBook-14-G5-IRH.48263.0:   0%|          | 0.00/6.75k [00:00<?, ?B/s]"
      ]
     },
     "metadata": {},
     "output_type": "display_data"
    },
    {
     "data": {
      "application/vnd.jupyter.widget-view+json": {
       "model_id": "b4d6043442334ceb9d85002bad1d1ca0",
       "version_major": 2,
       "version_minor": 0
      },
      "text/plain": [
       "model.safetensors:   0%|          | 0.00/436M [00:00<?, ?B/s]"
      ]
     },
     "metadata": {},
     "output_type": "display_data"
    },
    {
     "data": {
      "application/vnd.jupyter.widget-view+json": {
       "model_id": "ee4f3d7c879748679384ebf52d1101d1",
       "version_major": 2,
       "version_minor": 0
      },
      "text/plain": [
       "Upload 3 LFS files:   0%|          | 0/3 [00:00<?, ?it/s]"
      ]
     },
     "metadata": {},
     "output_type": "display_data"
    },
    {
     "data": {
      "text/plain": [
       "CommitInfo(commit_url='https://huggingface.co/dannashao/bert-base-uncased-finetuned-negation_scope/commit/cf0af70a34c35f378bf4c70c6961484b58337269', commit_message='End of training', commit_description='', oid='cf0af70a34c35f378bf4c70c6961484b58337269', pr_url=None, pr_revision=None, pr_num=None)"
      ]
     },
     "execution_count": 29,
     "metadata": {},
     "output_type": "execute_result"
    }
   ],
   "source": [
    "trainer.push_to_hub()"
   ]
  },
  {
   "cell_type": "code",
   "execution_count": null,
   "id": "ab503d62-4e38-442a-b533-446b4818544a",
   "metadata": {},
   "outputs": [],
   "source": []
  }
 ],
 "metadata": {
  "kernelspec": {
   "display_name": "Python 3 (ipykernel)",
   "language": "python",
   "name": "python3"
  },
  "language_info": {
   "codemirror_mode": {
    "name": "ipython",
    "version": 3
   },
   "file_extension": ".py",
   "mimetype": "text/x-python",
   "name": "python",
   "nbconvert_exporter": "python",
   "pygments_lexer": "ipython3",
   "version": "3.10.12"
  }
 },
 "nbformat": 4,
 "nbformat_minor": 5
}
